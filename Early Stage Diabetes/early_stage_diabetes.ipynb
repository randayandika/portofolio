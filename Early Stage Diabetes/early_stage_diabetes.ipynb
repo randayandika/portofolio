{
  "cells": [
    {
      "cell_type": "code",
      "execution_count": 58,
      "id": "6bb31a23",
      "metadata": {
        "_cell_guid": "b1076dfc-b9ad-4769-8c92-a6c4dae69d19",
        "_uuid": "8f2839f25d086af736a60e9eeb907d3b93b6e0e5",
        "execution": {
          "iopub.execute_input": "2023-01-31T16:00:38.827984Z",
          "iopub.status.busy": "2023-01-31T16:00:38.827166Z",
          "iopub.status.idle": "2023-01-31T16:00:39.789050Z",
          "shell.execute_reply": "2023-01-31T16:00:39.787772Z"
        },
        "papermill": {
          "duration": 0.97258,
          "end_time": "2023-01-31T16:00:39.791151",
          "exception": false,
          "start_time": "2023-01-31T16:00:38.818571",
          "status": "completed"
        },
        "tags": [],
        "id": "6bb31a23",
        "colab": {
          "base_uri": "https://localhost:8080/",
          "height": 267
        },
        "outputId": "c41e8735-579e-412e-f177-a13885e78ff7"
      },
      "outputs": [
        {
          "output_type": "execute_result",
          "data": {
            "text/plain": [
              "   Age Gender Polyuria Polydipsia sudden weight loss weakness Polyphagia  \\\n",
              "0   40   Male       No        Yes                 No      Yes         No   \n",
              "1   58   Male       No         No                 No      Yes         No   \n",
              "2   41   Male      Yes         No                 No      Yes        Yes   \n",
              "3   45   Male       No         No                Yes      Yes        Yes   \n",
              "4   60   Male      Yes        Yes                Yes      Yes        Yes   \n",
              "\n",
              "  Genital thrush visual blurring Itching Irritability delayed healing  \\\n",
              "0             No              No     Yes           No             Yes   \n",
              "1             No             Yes      No           No              No   \n",
              "2             No              No     Yes           No             Yes   \n",
              "3            Yes              No     Yes           No             Yes   \n",
              "4             No             Yes     Yes          Yes             Yes   \n",
              "\n",
              "  partial paresis muscle stiffness Alopecia Obesity     class  \n",
              "0              No              Yes      Yes     Yes  Positive  \n",
              "1             Yes               No      Yes      No  Positive  \n",
              "2              No              Yes      Yes      No  Positive  \n",
              "3              No               No       No      No  Positive  \n",
              "4             Yes              Yes      Yes     Yes  Positive  "
            ],
            "text/html": [
              "\n",
              "  <div id=\"df-b3287ea8-67e1-4191-a8ef-92330c3bddfe\">\n",
              "    <div class=\"colab-df-container\">\n",
              "      <div>\n",
              "<style scoped>\n",
              "    .dataframe tbody tr th:only-of-type {\n",
              "        vertical-align: middle;\n",
              "    }\n",
              "\n",
              "    .dataframe tbody tr th {\n",
              "        vertical-align: top;\n",
              "    }\n",
              "\n",
              "    .dataframe thead th {\n",
              "        text-align: right;\n",
              "    }\n",
              "</style>\n",
              "<table border=\"1\" class=\"dataframe\">\n",
              "  <thead>\n",
              "    <tr style=\"text-align: right;\">\n",
              "      <th></th>\n",
              "      <th>Age</th>\n",
              "      <th>Gender</th>\n",
              "      <th>Polyuria</th>\n",
              "      <th>Polydipsia</th>\n",
              "      <th>sudden weight loss</th>\n",
              "      <th>weakness</th>\n",
              "      <th>Polyphagia</th>\n",
              "      <th>Genital thrush</th>\n",
              "      <th>visual blurring</th>\n",
              "      <th>Itching</th>\n",
              "      <th>Irritability</th>\n",
              "      <th>delayed healing</th>\n",
              "      <th>partial paresis</th>\n",
              "      <th>muscle stiffness</th>\n",
              "      <th>Alopecia</th>\n",
              "      <th>Obesity</th>\n",
              "      <th>class</th>\n",
              "    </tr>\n",
              "  </thead>\n",
              "  <tbody>\n",
              "    <tr>\n",
              "      <th>0</th>\n",
              "      <td>40</td>\n",
              "      <td>Male</td>\n",
              "      <td>No</td>\n",
              "      <td>Yes</td>\n",
              "      <td>No</td>\n",
              "      <td>Yes</td>\n",
              "      <td>No</td>\n",
              "      <td>No</td>\n",
              "      <td>No</td>\n",
              "      <td>Yes</td>\n",
              "      <td>No</td>\n",
              "      <td>Yes</td>\n",
              "      <td>No</td>\n",
              "      <td>Yes</td>\n",
              "      <td>Yes</td>\n",
              "      <td>Yes</td>\n",
              "      <td>Positive</td>\n",
              "    </tr>\n",
              "    <tr>\n",
              "      <th>1</th>\n",
              "      <td>58</td>\n",
              "      <td>Male</td>\n",
              "      <td>No</td>\n",
              "      <td>No</td>\n",
              "      <td>No</td>\n",
              "      <td>Yes</td>\n",
              "      <td>No</td>\n",
              "      <td>No</td>\n",
              "      <td>Yes</td>\n",
              "      <td>No</td>\n",
              "      <td>No</td>\n",
              "      <td>No</td>\n",
              "      <td>Yes</td>\n",
              "      <td>No</td>\n",
              "      <td>Yes</td>\n",
              "      <td>No</td>\n",
              "      <td>Positive</td>\n",
              "    </tr>\n",
              "    <tr>\n",
              "      <th>2</th>\n",
              "      <td>41</td>\n",
              "      <td>Male</td>\n",
              "      <td>Yes</td>\n",
              "      <td>No</td>\n",
              "      <td>No</td>\n",
              "      <td>Yes</td>\n",
              "      <td>Yes</td>\n",
              "      <td>No</td>\n",
              "      <td>No</td>\n",
              "      <td>Yes</td>\n",
              "      <td>No</td>\n",
              "      <td>Yes</td>\n",
              "      <td>No</td>\n",
              "      <td>Yes</td>\n",
              "      <td>Yes</td>\n",
              "      <td>No</td>\n",
              "      <td>Positive</td>\n",
              "    </tr>\n",
              "    <tr>\n",
              "      <th>3</th>\n",
              "      <td>45</td>\n",
              "      <td>Male</td>\n",
              "      <td>No</td>\n",
              "      <td>No</td>\n",
              "      <td>Yes</td>\n",
              "      <td>Yes</td>\n",
              "      <td>Yes</td>\n",
              "      <td>Yes</td>\n",
              "      <td>No</td>\n",
              "      <td>Yes</td>\n",
              "      <td>No</td>\n",
              "      <td>Yes</td>\n",
              "      <td>No</td>\n",
              "      <td>No</td>\n",
              "      <td>No</td>\n",
              "      <td>No</td>\n",
              "      <td>Positive</td>\n",
              "    </tr>\n",
              "    <tr>\n",
              "      <th>4</th>\n",
              "      <td>60</td>\n",
              "      <td>Male</td>\n",
              "      <td>Yes</td>\n",
              "      <td>Yes</td>\n",
              "      <td>Yes</td>\n",
              "      <td>Yes</td>\n",
              "      <td>Yes</td>\n",
              "      <td>No</td>\n",
              "      <td>Yes</td>\n",
              "      <td>Yes</td>\n",
              "      <td>Yes</td>\n",
              "      <td>Yes</td>\n",
              "      <td>Yes</td>\n",
              "      <td>Yes</td>\n",
              "      <td>Yes</td>\n",
              "      <td>Yes</td>\n",
              "      <td>Positive</td>\n",
              "    </tr>\n",
              "  </tbody>\n",
              "</table>\n",
              "</div>\n",
              "      <button class=\"colab-df-convert\" onclick=\"convertToInteractive('df-b3287ea8-67e1-4191-a8ef-92330c3bddfe')\"\n",
              "              title=\"Convert this dataframe to an interactive table.\"\n",
              "              style=\"display:none;\">\n",
              "        \n",
              "  <svg xmlns=\"http://www.w3.org/2000/svg\" height=\"24px\"viewBox=\"0 0 24 24\"\n",
              "       width=\"24px\">\n",
              "    <path d=\"M0 0h24v24H0V0z\" fill=\"none\"/>\n",
              "    <path d=\"M18.56 5.44l.94 2.06.94-2.06 2.06-.94-2.06-.94-.94-2.06-.94 2.06-2.06.94zm-11 1L8.5 8.5l.94-2.06 2.06-.94-2.06-.94L8.5 2.5l-.94 2.06-2.06.94zm10 10l.94 2.06.94-2.06 2.06-.94-2.06-.94-.94-2.06-.94 2.06-2.06.94z\"/><path d=\"M17.41 7.96l-1.37-1.37c-.4-.4-.92-.59-1.43-.59-.52 0-1.04.2-1.43.59L10.3 9.45l-7.72 7.72c-.78.78-.78 2.05 0 2.83L4 21.41c.39.39.9.59 1.41.59.51 0 1.02-.2 1.41-.59l7.78-7.78 2.81-2.81c.8-.78.8-2.07 0-2.86zM5.41 20L4 18.59l7.72-7.72 1.47 1.35L5.41 20z\"/>\n",
              "  </svg>\n",
              "      </button>\n",
              "      \n",
              "  <style>\n",
              "    .colab-df-container {\n",
              "      display:flex;\n",
              "      flex-wrap:wrap;\n",
              "      gap: 12px;\n",
              "    }\n",
              "\n",
              "    .colab-df-convert {\n",
              "      background-color: #E8F0FE;\n",
              "      border: none;\n",
              "      border-radius: 50%;\n",
              "      cursor: pointer;\n",
              "      display: none;\n",
              "      fill: #1967D2;\n",
              "      height: 32px;\n",
              "      padding: 0 0 0 0;\n",
              "      width: 32px;\n",
              "    }\n",
              "\n",
              "    .colab-df-convert:hover {\n",
              "      background-color: #E2EBFA;\n",
              "      box-shadow: 0px 1px 2px rgba(60, 64, 67, 0.3), 0px 1px 3px 1px rgba(60, 64, 67, 0.15);\n",
              "      fill: #174EA6;\n",
              "    }\n",
              "\n",
              "    [theme=dark] .colab-df-convert {\n",
              "      background-color: #3B4455;\n",
              "      fill: #D2E3FC;\n",
              "    }\n",
              "\n",
              "    [theme=dark] .colab-df-convert:hover {\n",
              "      background-color: #434B5C;\n",
              "      box-shadow: 0px 1px 3px 1px rgba(0, 0, 0, 0.15);\n",
              "      filter: drop-shadow(0px 1px 2px rgba(0, 0, 0, 0.3));\n",
              "      fill: #FFFFFF;\n",
              "    }\n",
              "  </style>\n",
              "\n",
              "      <script>\n",
              "        const buttonEl =\n",
              "          document.querySelector('#df-b3287ea8-67e1-4191-a8ef-92330c3bddfe button.colab-df-convert');\n",
              "        buttonEl.style.display =\n",
              "          google.colab.kernel.accessAllowed ? 'block' : 'none';\n",
              "\n",
              "        async function convertToInteractive(key) {\n",
              "          const element = document.querySelector('#df-b3287ea8-67e1-4191-a8ef-92330c3bddfe');\n",
              "          const dataTable =\n",
              "            await google.colab.kernel.invokeFunction('convertToInteractive',\n",
              "                                                     [key], {});\n",
              "          if (!dataTable) return;\n",
              "\n",
              "          const docLinkHtml = 'Like what you see? Visit the ' +\n",
              "            '<a target=\"_blank\" href=https://colab.research.google.com/notebooks/data_table.ipynb>data table notebook</a>'\n",
              "            + ' to learn more about interactive tables.';\n",
              "          element.innerHTML = '';\n",
              "          dataTable['output_type'] = 'display_data';\n",
              "          await google.colab.output.renderOutput(dataTable, element);\n",
              "          const docLink = document.createElement('div');\n",
              "          docLink.innerHTML = docLinkHtml;\n",
              "          element.appendChild(docLink);\n",
              "        }\n",
              "      </script>\n",
              "    </div>\n",
              "  </div>\n",
              "  "
            ]
          },
          "metadata": {},
          "execution_count": 58
        }
      ],
      "source": [
        "#importing the basic important libraries for EDA\n",
        "import numpy as np\n",
        "import pandas as pd\n",
        "import matplotlib.pyplot as plt\n",
        "import seaborn as sns\n",
        "\n",
        "#reading the data set\n",
        "df = pd.read_csv('/content/diabetes_data_upload.csv')\n",
        "df.head(5)"
      ]
    },
    {
      "cell_type": "code",
      "execution_count": 59,
      "id": "e31e9003",
      "metadata": {
        "execution": {
          "iopub.execute_input": "2023-01-31T16:00:39.806542Z",
          "iopub.status.busy": "2023-01-31T16:00:39.806185Z",
          "iopub.status.idle": "2023-01-31T16:00:39.830124Z",
          "shell.execute_reply": "2023-01-31T16:00:39.829159Z"
        },
        "papermill": {
          "duration": 0.034107,
          "end_time": "2023-01-31T16:00:39.832411",
          "exception": false,
          "start_time": "2023-01-31T16:00:39.798304",
          "status": "completed"
        },
        "tags": [],
        "id": "e31e9003",
        "colab": {
          "base_uri": "https://localhost:8080/"
        },
        "outputId": "2bc6a902-dc40-4c1f-e388-0f772098ba3d"
      },
      "outputs": [
        {
          "output_type": "stream",
          "name": "stdout",
          "text": [
            "<class 'pandas.core.frame.DataFrame'>\n",
            "RangeIndex: 520 entries, 0 to 519\n",
            "Data columns (total 17 columns):\n",
            " #   Column              Non-Null Count  Dtype \n",
            "---  ------              --------------  ----- \n",
            " 0   Age                 520 non-null    int64 \n",
            " 1   Gender              520 non-null    object\n",
            " 2   Polyuria            520 non-null    object\n",
            " 3   Polydipsia          520 non-null    object\n",
            " 4   sudden weight loss  520 non-null    object\n",
            " 5   weakness            520 non-null    object\n",
            " 6   Polyphagia          520 non-null    object\n",
            " 7   Genital thrush      520 non-null    object\n",
            " 8   visual blurring     520 non-null    object\n",
            " 9   Itching             520 non-null    object\n",
            " 10  Irritability        520 non-null    object\n",
            " 11  delayed healing     520 non-null    object\n",
            " 12  partial paresis     520 non-null    object\n",
            " 13  muscle stiffness    520 non-null    object\n",
            " 14  Alopecia            520 non-null    object\n",
            " 15  Obesity             520 non-null    object\n",
            " 16  class               520 non-null    object\n",
            "dtypes: int64(1), object(16)\n",
            "memory usage: 69.2+ KB\n"
          ]
        }
      ],
      "source": [
        "#checking the data-types and another way to check for null values\n",
        "df.info()"
      ]
    },
    {
      "cell_type": "code",
      "execution_count": 60,
      "id": "25b5a9f5",
      "metadata": {
        "execution": {
          "iopub.execute_input": "2023-01-31T16:00:39.847748Z",
          "iopub.status.busy": "2023-01-31T16:00:39.846659Z",
          "iopub.status.idle": "2023-01-31T16:00:39.861332Z",
          "shell.execute_reply": "2023-01-31T16:00:39.860342Z"
        },
        "papermill": {
          "duration": 0.024174,
          "end_time": "2023-01-31T16:00:39.863147",
          "exception": false,
          "start_time": "2023-01-31T16:00:39.838973",
          "status": "completed"
        },
        "tags": [],
        "id": "25b5a9f5",
        "colab": {
          "base_uri": "https://localhost:8080/",
          "height": 300
        },
        "outputId": "aa0c9202-01dd-40d7-e7bc-d891a61fe9cd"
      },
      "outputs": [
        {
          "output_type": "execute_result",
          "data": {
            "text/plain": [
              "              Age\n",
              "count  520.000000\n",
              "mean    48.028846\n",
              "std     12.151466\n",
              "min     16.000000\n",
              "25%     39.000000\n",
              "50%     47.500000\n",
              "75%     57.000000\n",
              "max     90.000000"
            ],
            "text/html": [
              "\n",
              "  <div id=\"df-394572ea-68d7-48b9-a83b-7c9c03401901\">\n",
              "    <div class=\"colab-df-container\">\n",
              "      <div>\n",
              "<style scoped>\n",
              "    .dataframe tbody tr th:only-of-type {\n",
              "        vertical-align: middle;\n",
              "    }\n",
              "\n",
              "    .dataframe tbody tr th {\n",
              "        vertical-align: top;\n",
              "    }\n",
              "\n",
              "    .dataframe thead th {\n",
              "        text-align: right;\n",
              "    }\n",
              "</style>\n",
              "<table border=\"1\" class=\"dataframe\">\n",
              "  <thead>\n",
              "    <tr style=\"text-align: right;\">\n",
              "      <th></th>\n",
              "      <th>Age</th>\n",
              "    </tr>\n",
              "  </thead>\n",
              "  <tbody>\n",
              "    <tr>\n",
              "      <th>count</th>\n",
              "      <td>520.000000</td>\n",
              "    </tr>\n",
              "    <tr>\n",
              "      <th>mean</th>\n",
              "      <td>48.028846</td>\n",
              "    </tr>\n",
              "    <tr>\n",
              "      <th>std</th>\n",
              "      <td>12.151466</td>\n",
              "    </tr>\n",
              "    <tr>\n",
              "      <th>min</th>\n",
              "      <td>16.000000</td>\n",
              "    </tr>\n",
              "    <tr>\n",
              "      <th>25%</th>\n",
              "      <td>39.000000</td>\n",
              "    </tr>\n",
              "    <tr>\n",
              "      <th>50%</th>\n",
              "      <td>47.500000</td>\n",
              "    </tr>\n",
              "    <tr>\n",
              "      <th>75%</th>\n",
              "      <td>57.000000</td>\n",
              "    </tr>\n",
              "    <tr>\n",
              "      <th>max</th>\n",
              "      <td>90.000000</td>\n",
              "    </tr>\n",
              "  </tbody>\n",
              "</table>\n",
              "</div>\n",
              "      <button class=\"colab-df-convert\" onclick=\"convertToInteractive('df-394572ea-68d7-48b9-a83b-7c9c03401901')\"\n",
              "              title=\"Convert this dataframe to an interactive table.\"\n",
              "              style=\"display:none;\">\n",
              "        \n",
              "  <svg xmlns=\"http://www.w3.org/2000/svg\" height=\"24px\"viewBox=\"0 0 24 24\"\n",
              "       width=\"24px\">\n",
              "    <path d=\"M0 0h24v24H0V0z\" fill=\"none\"/>\n",
              "    <path d=\"M18.56 5.44l.94 2.06.94-2.06 2.06-.94-2.06-.94-.94-2.06-.94 2.06-2.06.94zm-11 1L8.5 8.5l.94-2.06 2.06-.94-2.06-.94L8.5 2.5l-.94 2.06-2.06.94zm10 10l.94 2.06.94-2.06 2.06-.94-2.06-.94-.94-2.06-.94 2.06-2.06.94z\"/><path d=\"M17.41 7.96l-1.37-1.37c-.4-.4-.92-.59-1.43-.59-.52 0-1.04.2-1.43.59L10.3 9.45l-7.72 7.72c-.78.78-.78 2.05 0 2.83L4 21.41c.39.39.9.59 1.41.59.51 0 1.02-.2 1.41-.59l7.78-7.78 2.81-2.81c.8-.78.8-2.07 0-2.86zM5.41 20L4 18.59l7.72-7.72 1.47 1.35L5.41 20z\"/>\n",
              "  </svg>\n",
              "      </button>\n",
              "      \n",
              "  <style>\n",
              "    .colab-df-container {\n",
              "      display:flex;\n",
              "      flex-wrap:wrap;\n",
              "      gap: 12px;\n",
              "    }\n",
              "\n",
              "    .colab-df-convert {\n",
              "      background-color: #E8F0FE;\n",
              "      border: none;\n",
              "      border-radius: 50%;\n",
              "      cursor: pointer;\n",
              "      display: none;\n",
              "      fill: #1967D2;\n",
              "      height: 32px;\n",
              "      padding: 0 0 0 0;\n",
              "      width: 32px;\n",
              "    }\n",
              "\n",
              "    .colab-df-convert:hover {\n",
              "      background-color: #E2EBFA;\n",
              "      box-shadow: 0px 1px 2px rgba(60, 64, 67, 0.3), 0px 1px 3px 1px rgba(60, 64, 67, 0.15);\n",
              "      fill: #174EA6;\n",
              "    }\n",
              "\n",
              "    [theme=dark] .colab-df-convert {\n",
              "      background-color: #3B4455;\n",
              "      fill: #D2E3FC;\n",
              "    }\n",
              "\n",
              "    [theme=dark] .colab-df-convert:hover {\n",
              "      background-color: #434B5C;\n",
              "      box-shadow: 0px 1px 3px 1px rgba(0, 0, 0, 0.15);\n",
              "      filter: drop-shadow(0px 1px 2px rgba(0, 0, 0, 0.3));\n",
              "      fill: #FFFFFF;\n",
              "    }\n",
              "  </style>\n",
              "\n",
              "      <script>\n",
              "        const buttonEl =\n",
              "          document.querySelector('#df-394572ea-68d7-48b9-a83b-7c9c03401901 button.colab-df-convert');\n",
              "        buttonEl.style.display =\n",
              "          google.colab.kernel.accessAllowed ? 'block' : 'none';\n",
              "\n",
              "        async function convertToInteractive(key) {\n",
              "          const element = document.querySelector('#df-394572ea-68d7-48b9-a83b-7c9c03401901');\n",
              "          const dataTable =\n",
              "            await google.colab.kernel.invokeFunction('convertToInteractive',\n",
              "                                                     [key], {});\n",
              "          if (!dataTable) return;\n",
              "\n",
              "          const docLinkHtml = 'Like what you see? Visit the ' +\n",
              "            '<a target=\"_blank\" href=https://colab.research.google.com/notebooks/data_table.ipynb>data table notebook</a>'\n",
              "            + ' to learn more about interactive tables.';\n",
              "          element.innerHTML = '';\n",
              "          dataTable['output_type'] = 'display_data';\n",
              "          await google.colab.output.renderOutput(dataTable, element);\n",
              "          const docLink = document.createElement('div');\n",
              "          docLink.innerHTML = docLinkHtml;\n",
              "          element.appendChild(docLink);\n",
              "        }\n",
              "      </script>\n",
              "    </div>\n",
              "  </div>\n",
              "  "
            ]
          },
          "metadata": {},
          "execution_count": 60
        }
      ],
      "source": [
        "#getting an overall look over the df and basic idea for some outliers\n",
        "df.describe()"
      ]
    },
    {
      "cell_type": "code",
      "execution_count": 61,
      "id": "3dbea183",
      "metadata": {
        "execution": {
          "iopub.execute_input": "2023-01-31T16:00:39.879195Z",
          "iopub.status.busy": "2023-01-31T16:00:39.877776Z",
          "iopub.status.idle": "2023-01-31T16:00:39.885860Z",
          "shell.execute_reply": "2023-01-31T16:00:39.884769Z"
        },
        "papermill": {
          "duration": 0.01776,
          "end_time": "2023-01-31T16:00:39.887761",
          "exception": false,
          "start_time": "2023-01-31T16:00:39.870001",
          "status": "completed"
        },
        "tags": [],
        "id": "3dbea183",
        "colab": {
          "base_uri": "https://localhost:8080/"
        },
        "outputId": "c4613d1f-081a-4312-dd9b-7332a9f54d96"
      },
      "outputs": [
        {
          "output_type": "execute_result",
          "data": {
            "text/plain": [
              "Index(['Age', 'Gender', 'Polyuria', 'Polydipsia', 'sudden weight loss',\n",
              "       'weakness', 'Polyphagia', 'Genital thrush', 'visual blurring',\n",
              "       'Itching', 'Irritability', 'delayed healing', 'partial paresis',\n",
              "       'muscle stiffness', 'Alopecia', 'Obesity', 'class'],\n",
              "      dtype='object')"
            ]
          },
          "metadata": {},
          "execution_count": 61
        }
      ],
      "source": [
        "df.columns"
      ]
    },
    {
      "cell_type": "code",
      "source": [
        "df. rename(columns = {'sudden weight loss':'sudden_weight_loss', \n",
        "                      'Genital thrush':'Genital_thrush',\n",
        "                      'visual blurring':'visual_blurring',\n",
        "                      'delayed healing':'delayed_healing',\n",
        "                      'partial paresis':'partial_paresis',\n",
        "                      'muscle stiffness':'muscle_stiffness'}, inplace = True)"
      ],
      "metadata": {
        "id": "x0nw4ofRob_D"
      },
      "id": "x0nw4ofRob_D",
      "execution_count": 62,
      "outputs": []
    },
    {
      "cell_type": "code",
      "source": [
        "categorical = df.select_dtypes(exclude=[np.number])\n",
        "categorical.columns"
      ],
      "metadata": {
        "id": "4KLK2ZsYmONG",
        "colab": {
          "base_uri": "https://localhost:8080/"
        },
        "outputId": "86b43205-2fc2-4e94-a94b-9912fb874d19"
      },
      "id": "4KLK2ZsYmONG",
      "execution_count": 63,
      "outputs": [
        {
          "output_type": "execute_result",
          "data": {
            "text/plain": [
              "Index(['Gender', 'Polyuria', 'Polydipsia', 'sudden_weight_loss', 'weakness',\n",
              "       'Polyphagia', 'Genital_thrush', 'visual_blurring', 'Itching',\n",
              "       'Irritability', 'delayed_healing', 'partial_paresis',\n",
              "       'muscle_stiffness', 'Alopecia', 'Obesity', 'class'],\n",
              "      dtype='object')"
            ]
          },
          "metadata": {},
          "execution_count": 63
        }
      ]
    },
    {
      "cell_type": "code",
      "source": [
        "\n",
        "numerical = df.select_dtypes(include=[np.number])\n",
        "numerical.columns"
      ],
      "metadata": {
        "id": "KC34bX1N1IQJ",
        "colab": {
          "base_uri": "https://localhost:8080/"
        },
        "outputId": "f162b7a1-85df-420e-b8e8-6134b7bc490e"
      },
      "id": "KC34bX1N1IQJ",
      "execution_count": 64,
      "outputs": [
        {
          "output_type": "execute_result",
          "data": {
            "text/plain": [
              "Index(['Age'], dtype='object')"
            ]
          },
          "metadata": {},
          "execution_count": 64
        }
      ]
    },
    {
      "cell_type": "code",
      "source": [
        "import plotly.express as px\n",
        "import seaborn as sns\n",
        "import matplotlib.pyplot as plt\n",
        "\n",
        "plt.figure(figsize=(20,8))\n",
        "\n",
        "plt.subplot(1,2,1)\n",
        "plt.title('Age Distribution Plot')\n",
        "sns.distplot(df.Age)\n",
        "\n",
        "plt.subplot(1,2,2)\n",
        "plt.title('Age Spread')\n",
        "sns.boxplot(y=df.Age)\n",
        "\n",
        "plt.show()"
      ],
      "metadata": {
        "id": "Q8L7ydIlldQr",
        "colab": {
          "base_uri": "https://localhost:8080/",
          "height": 568
        },
        "outputId": "92537f0b-9f6c-4885-c9da-c74347666cdc"
      },
      "id": "Q8L7ydIlldQr",
      "execution_count": 65,
      "outputs": [
        {
          "output_type": "stream",
          "name": "stderr",
          "text": [
            "/usr/local/lib/python3.8/dist-packages/seaborn/distributions.py:2619: FutureWarning: `distplot` is a deprecated function and will be removed in a future version. Please adapt your code to use either `displot` (a figure-level function with similar flexibility) or `histplot` (an axes-level function for histograms).\n",
            "  warnings.warn(msg, FutureWarning)\n"
          ]
        },
        {
          "output_type": "display_data",
          "data": {
            "text/plain": [
              "<Figure size 1440x576 with 2 Axes>"
            ],
            "image/png": "[encoded data removed]"
          },
          "metadata": {
            "needs_background": "light"
          }
        }
      ]
    },
    {
      "cell_type": "code",
      "source": [
        "df.Polyuria.value_counts()\n",
        "sns.countplot(x=\"Polyuria\", data=df, palette=\"bwr\")\n",
        "plt.show()\n",
        "\n",
        "categorical.Polyuria.value_counts()"
      ],
      "metadata": {
        "id": "kjaGGz8wlzO_",
        "colab": {
          "base_uri": "https://localhost:8080/",
          "height": 331
        },
        "outputId": "048441cc-3e25-4618-9a9a-54c277d84c79"
      },
      "id": "kjaGGz8wlzO_",
      "execution_count": 66,
      "outputs": [
        {
          "output_type": "display_data",
          "data": {
            "text/plain": [
              "<Figure size 432x288 with 1 Axes>"
            ],
            "image/png": "[encoded data removed]"
          },
          "metadata": {
            "needs_background": "light"
          }
        },
        {
          "output_type": "execute_result",
          "data": {
            "text/plain": [
              "No     262\n",
              "Yes    258\n",
              "Name: Polyuria, dtype: int64"
            ]
          },
          "metadata": {},
          "execution_count": 66
        }
      ]
    },
    {
      "cell_type": "code",
      "source": [
        "df.Polydipsia.value_counts()\n",
        "sns.countplot(x=\"Polydipsia\", data=df, palette=\"bwr\")\n",
        "plt.show()\n",
        "\n",
        "categorical.Polydipsia.value_counts()"
      ],
      "metadata": {
        "id": "0BJLWnGznUyC",
        "colab": {
          "base_uri": "https://localhost:8080/",
          "height": 334
        },
        "outputId": "758cb805-f653-4f79-ccf5-6863abd0e0a7"
      },
      "id": "0BJLWnGznUyC",
      "execution_count": 67,
      "outputs": [
        {
          "output_type": "display_data",
          "data": {
            "text/plain": [
              "<Figure size 432x288 with 1 Axes>"
            ],
            "image/png": "[encoded data removed]"
          },
          "metadata": {
            "needs_background": "light"
          }
        },
        {
          "output_type": "execute_result",
          "data": {
            "text/plain": [
              "No     287\n",
              "Yes    233\n",
              "Name: Polydipsia, dtype: int64"
            ]
          },
          "metadata": {},
          "execution_count": 67
        }
      ]
    },
    {
      "cell_type": "code",
      "source": [
        "df.sudden_weight_loss.value_counts()\n",
        "sns.countplot(x=\"sudden_weight_loss\", data=df, palette=\"bwr\")\n",
        "plt.show()\n",
        "\n",
        "categorical.sudden_weight_loss.value_counts()"
      ],
      "metadata": {
        "id": "Q1mU81udnU0n",
        "colab": {
          "base_uri": "https://localhost:8080/",
          "height": 332
        },
        "outputId": "b6199ef1-fdba-4232-a4b9-b39f81ff60b8"
      },
      "id": "Q1mU81udnU0n",
      "execution_count": 68,
      "outputs": [
        {
          "output_type": "display_data",
          "data": {
            "text/plain": [
              "<Figure size 432x288 with 1 Axes>"
            ],
            "image/png": "[encoded data removed]"
          },
          "metadata": {
            "needs_background": "light"
          }
        },
        {
          "output_type": "execute_result",
          "data": {
            "text/plain": [
              "No     303\n",
              "Yes    217\n",
              "Name: sudden_weight_loss, dtype: int64"
            ]
          },
          "metadata": {},
          "execution_count": 68
        }
      ]
    },
    {
      "cell_type": "code",
      "source": [
        "df.weakness.value_counts()\n",
        "sns.countplot(x=\"weakness\", data=df, palette=\"bwr\")\n",
        "plt.show()\n",
        "\n",
        "categorical.weakness.value_counts()"
      ],
      "metadata": {
        "id": "BdNOwbFanU5t",
        "colab": {
          "base_uri": "https://localhost:8080/",
          "height": 331
        },
        "outputId": "07d6ead5-ad3b-4ede-c388-30d9e1b549ba"
      },
      "id": "BdNOwbFanU5t",
      "execution_count": 69,
      "outputs": [
        {
          "output_type": "display_data",
          "data": {
            "text/plain": [
              "<Figure size 432x288 with 1 Axes>"
            ],
            "image/png": "[encoded data removed]"
          },
          "metadata": {
            "needs_background": "light"
          }
        },
        {
          "output_type": "execute_result",
          "data": {
            "text/plain": [
              "Yes    305\n",
              "No     215\n",
              "Name: weakness, dtype: int64"
            ]
          },
          "metadata": {},
          "execution_count": 69
        }
      ]
    },
    {
      "cell_type": "code",
      "source": [
        "df.Polyphagia.value_counts()\n",
        "sns.countplot(x=\"Polyphagia\", data=df, palette=\"bwr\")\n",
        "plt.show()\n",
        "\n",
        "categorical.Polyphagia.value_counts()"
      ],
      "metadata": {
        "id": "KmoXkJ8RnU-4",
        "colab": {
          "base_uri": "https://localhost:8080/",
          "height": 331
        },
        "outputId": "4a4ac21c-009a-489f-bd3a-63ab919026a9"
      },
      "id": "KmoXkJ8RnU-4",
      "execution_count": 70,
      "outputs": [
        {
          "output_type": "display_data",
          "data": {
            "text/plain": [
              "<Figure size 432x288 with 1 Axes>"
            ],
            "image/png": "[encoded data removed]"
          },
          "metadata": {
            "needs_background": "light"
          }
        },
        {
          "output_type": "execute_result",
          "data": {
            "text/plain": [
              "No     283\n",
              "Yes    237\n",
              "Name: Polyphagia, dtype: int64"
            ]
          },
          "metadata": {},
          "execution_count": 70
        }
      ]
    },
    {
      "cell_type": "code",
      "source": [
        "df.Genital_thrush.value_counts()\n",
        "sns.countplot(x=\"Genital_thrush\", data=df, palette=\"bwr\")\n",
        "plt.show()\n",
        "\n",
        "categorical.Genital_thrush.value_counts()"
      ],
      "metadata": {
        "colab": {
          "base_uri": "https://localhost:8080/",
          "height": 332
        },
        "id": "vv41TAT_beq6",
        "outputId": "2b5bc51e-8636-4fe9-add0-3e3d15b3cb31"
      },
      "id": "vv41TAT_beq6",
      "execution_count": 71,
      "outputs": [
        {
          "output_type": "display_data",
          "data": {
            "text/plain": [
              "<Figure size 432x288 with 1 Axes>"
            ],
            "image/png": "[encoded data removed]"
          },
          "metadata": {
            "needs_background": "light"
          }
        },
        {
          "output_type": "execute_result",
          "data": {
            "text/plain": [
              "No     404\n",
              "Yes    116\n",
              "Name: Genital_thrush, dtype: int64"
            ]
          },
          "metadata": {},
          "execution_count": 71
        }
      ]
    },
    {
      "cell_type": "code",
      "source": [
        "df.visual_blurring.value_counts()\n",
        "sns.countplot(x=\"visual_blurring\", data=df, palette=\"bwr\")\n",
        "plt.show()\n",
        "\n",
        "categorical.visual_blurring.value_counts()"
      ],
      "metadata": {
        "colab": {
          "base_uri": "https://localhost:8080/",
          "height": 335
        },
        "id": "y-9QVQyqbeto",
        "outputId": "c8281ab4-0405-4fb5-d514-ab394cd80e1d"
      },
      "id": "y-9QVQyqbeto",
      "execution_count": 72,
      "outputs": [
        {
          "output_type": "display_data",
          "data": {
            "text/plain": [
              "<Figure size 432x288 with 1 Axes>"
            ],
            "image/png": "[encoded data removed]"
          },
          "metadata": {
            "needs_background": "light"
          }
        },
        {
          "output_type": "execute_result",
          "data": {
            "text/plain": [
              "No     287\n",
              "Yes    233\n",
              "Name: visual_blurring, dtype: int64"
            ]
          },
          "metadata": {},
          "execution_count": 72
        }
      ]
    },
    {
      "cell_type": "code",
      "source": [
        "df.Irritability.value_counts()\n",
        "sns.countplot(x=\"Irritability\", data=df, palette=\"bwr\")\n",
        "plt.show()\n",
        "\n",
        "categorical.Irritability.value_counts()"
      ],
      "metadata": {
        "colab": {
          "base_uri": "https://localhost:8080/",
          "height": 331
        },
        "id": "fToBemEIbexM",
        "outputId": "f99110d2-94b6-4533-b676-691ecc041ba5"
      },
      "id": "fToBemEIbexM",
      "execution_count": 73,
      "outputs": [
        {
          "output_type": "display_data",
          "data": {
            "text/plain": [
              "<Figure size 432x288 with 1 Axes>"
            ],
            "image/png": "[encoded data removed]"
          },
          "metadata": {
            "needs_background": "light"
          }
        },
        {
          "output_type": "execute_result",
          "data": {
            "text/plain": [
              "No     394\n",
              "Yes    126\n",
              "Name: Irritability, dtype: int64"
            ]
          },
          "metadata": {},
          "execution_count": 73
        }
      ]
    },
    {
      "cell_type": "code",
      "source": [
        "df.Itching.value_counts()\n",
        "sns.countplot(x=\"Itching\", data=df, palette=\"bwr\")\n",
        "plt.show()\n",
        "\n",
        "categorical.Itching.value_counts()"
      ],
      "metadata": {
        "colab": {
          "base_uri": "https://localhost:8080/",
          "height": 331
        },
        "id": "AuOcpsjubpFR",
        "outputId": "cefd1d11-b12d-4243-8d6d-efb1988976d9"
      },
      "id": "AuOcpsjubpFR",
      "execution_count": 74,
      "outputs": [
        {
          "output_type": "display_data",
          "data": {
            "text/plain": [
              "<Figure size 432x288 with 1 Axes>"
            ],
            "image/png": "[encoded data removed]"
          },
          "metadata": {
            "needs_background": "light"
          }
        },
        {
          "output_type": "execute_result",
          "data": {
            "text/plain": [
              "No     267\n",
              "Yes    253\n",
              "Name: Itching, dtype: int64"
            ]
          },
          "metadata": {},
          "execution_count": 74
        }
      ]
    },
    {
      "cell_type": "code",
      "source": [
        "df.delayed_healing.value_counts()\n",
        "sns.countplot(x=\"delayed_healing\", data=df, palette=\"bwr\")\n",
        "plt.show()\n",
        "\n",
        "categorical.delayed_healing.value_counts()"
      ],
      "metadata": {
        "colab": {
          "base_uri": "https://localhost:8080/",
          "height": 332
        },
        "id": "iJvvCxZ_bpKZ",
        "outputId": "e7bd0e09-37d9-4c87-f60a-a377d95b68ba"
      },
      "id": "iJvvCxZ_bpKZ",
      "execution_count": 75,
      "outputs": [
        {
          "output_type": "display_data",
          "data": {
            "text/plain": [
              "<Figure size 432x288 with 1 Axes>"
            ],
            "image/png": "[encoded data removed]"
          },
          "metadata": {
            "needs_background": "light"
          }
        },
        {
          "output_type": "execute_result",
          "data": {
            "text/plain": [
              "No     281\n",
              "Yes    239\n",
              "Name: delayed_healing, dtype: int64"
            ]
          },
          "metadata": {},
          "execution_count": 75
        }
      ]
    },
    {
      "cell_type": "code",
      "source": [
        "df.partial_paresis.value_counts()\n",
        "sns.countplot(x=\"partial_paresis\", data=df, palette=\"bwr\")\n",
        "plt.show()\n",
        "\n",
        "categorical.partial_paresis.value_counts()"
      ],
      "metadata": {
        "colab": {
          "base_uri": "https://localhost:8080/",
          "height": 332
        },
        "id": "JuJIBaiTbpNr",
        "outputId": "5a6ede6f-0599-49ff-d976-bab1f5353830"
      },
      "id": "JuJIBaiTbpNr",
      "execution_count": 76,
      "outputs": [
        {
          "output_type": "display_data",
          "data": {
            "text/plain": [
              "<Figure size 432x288 with 1 Axes>"
            ],
            "image/png": "[encoded data removed]"
          },
          "metadata": {
            "needs_background": "light"
          }
        },
        {
          "output_type": "execute_result",
          "data": {
            "text/plain": [
              "No     296\n",
              "Yes    224\n",
              "Name: partial_paresis, dtype: int64"
            ]
          },
          "metadata": {},
          "execution_count": 76
        }
      ]
    },
    {
      "cell_type": "code",
      "source": [
        "df.muscle_stiffness.value_counts()\n",
        "sns.countplot(x=\"muscle_stiffness\", data=df, palette=\"bwr\")\n",
        "plt.show()\n",
        "\n",
        "categorical.muscle_stiffness.value_counts()"
      ],
      "metadata": {
        "colab": {
          "base_uri": "https://localhost:8080/",
          "height": 332
        },
        "id": "bAr0KcAubsmL",
        "outputId": "6df44e85-8084-4915-d0c7-f0497092757f"
      },
      "id": "bAr0KcAubsmL",
      "execution_count": 77,
      "outputs": [
        {
          "output_type": "display_data",
          "data": {
            "text/plain": [
              "<Figure size 432x288 with 1 Axes>"
            ],
            "image/png": "[encoded data removed]"
          },
          "metadata": {
            "needs_background": "light"
          }
        },
        {
          "output_type": "execute_result",
          "data": {
            "text/plain": [
              "No     325\n",
              "Yes    195\n",
              "Name: muscle_stiffness, dtype: int64"
            ]
          },
          "metadata": {},
          "execution_count": 77
        }
      ]
    },
    {
      "cell_type": "code",
      "source": [
        "df.Alopecia.value_counts()\n",
        "sns.countplot(x=\"Alopecia\", data=df, palette=\"bwr\")\n",
        "plt.show()\n",
        "\n",
        "categorical.Alopecia.value_counts()"
      ],
      "metadata": {
        "colab": {
          "base_uri": "https://localhost:8080/",
          "height": 331
        },
        "id": "xYwPDm-Hbsrb",
        "outputId": "3e72d594-9d6f-405d-8973-f318b93c04c2"
      },
      "id": "xYwPDm-Hbsrb",
      "execution_count": 78,
      "outputs": [
        {
          "output_type": "display_data",
          "data": {
            "text/plain": [
              "<Figure size 432x288 with 1 Axes>"
            ],
            "image/png": "[encoded data removed]"
          },
          "metadata": {
            "needs_background": "light"
          }
        },
        {
          "output_type": "execute_result",
          "data": {
            "text/plain": [
              "No     341\n",
              "Yes    179\n",
              "Name: Alopecia, dtype: int64"
            ]
          },
          "metadata": {},
          "execution_count": 78
        }
      ]
    },
    {
      "cell_type": "code",
      "source": [
        "df.Obesity.value_counts()\n",
        "sns.countplot(x=\"Obesity\", data=df, palette=\"bwr\")\n",
        "plt.show()\n",
        "\n",
        "categorical.Obesity.value_counts()"
      ],
      "metadata": {
        "colab": {
          "base_uri": "https://localhost:8080/",
          "height": 331
        },
        "id": "LNMvKRjRb_WI",
        "outputId": "0b49b943-98e8-41c1-ed28-05a67218e533"
      },
      "id": "LNMvKRjRb_WI",
      "execution_count": 79,
      "outputs": [
        {
          "output_type": "display_data",
          "data": {
            "text/plain": [
              "<Figure size 432x288 with 1 Axes>"
            ],
            "image/png": "[encoded data removed]"
          },
          "metadata": {
            "needs_background": "light"
          }
        },
        {
          "output_type": "execute_result",
          "data": {
            "text/plain": [
              "No     432\n",
              "Yes     88\n",
              "Name: Obesity, dtype: int64"
            ]
          },
          "metadata": {},
          "execution_count": 79
        }
      ]
    },
    {
      "cell_type": "code",
      "execution_count": 80,
      "id": "ea95d028",
      "metadata": {
        "execution": {
          "iopub.execute_input": "2023-01-31T16:00:39.903087Z",
          "iopub.status.busy": "2023-01-31T16:00:39.902288Z",
          "iopub.status.idle": "2023-01-31T16:00:39.925188Z",
          "shell.execute_reply": "2023-01-31T16:00:39.924255Z"
        },
        "papermill": {
          "duration": 0.032898,
          "end_time": "2023-01-31T16:00:39.927465",
          "exception": false,
          "start_time": "2023-01-31T16:00:39.894567",
          "status": "completed"
        },
        "tags": [],
        "id": "ea95d028"
      },
      "outputs": [],
      "source": [
        "df['Polyuria'] = df['Polyuria'].map({'Yes':True,'No':False})\n",
        "df['Polydipsia'] = df['Polydipsia'].map({'Yes':True,'No':False})\n",
        "df['sudden_weight_loss'] = df['sudden_weight_loss'].map({'Yes':True,'No':False})\n",
        "df['weakness'] = df['weakness'].map({'Yes':True,'No':False})\n",
        "df['Polyphagia'] = df['Polyphagia'].map({'Yes':True,'No':False})\n",
        "df['Genital_thrush'] = df['Genital_thrush'].map({'Yes':True,'No':False})\n",
        "df['visual_blurring'] = df['visual_blurring'].map({'Yes':True,'No':False})\n",
        "df['Itching'] = df['Itching'].map({'Yes':True,'No':False})\n",
        "df['Irritability'] = df['Irritability'].map({'Yes':True,'No':False})\n",
        "df['delayed_healing'] = df['delayed_healing'].map({'Yes':True,'No':False})\n",
        "df['partial_paresis'] = df['partial_paresis'].map({'Yes':True,'No':False})\n",
        "df['muscle_stiffness'] = df['muscle_stiffness'].map({'Yes':True,'No':False})\n",
        "df['Alopecia'] = df['Alopecia'].map({'Yes':True,'No':False})\n",
        "df['Obesity'] = df['Obesity'].map({'Yes':True,'No':False})\n"
      ]
    },
    {
      "cell_type": "code",
      "source": [
        "# plt.figure(figsize=(20, 10))\n",
        "\n",
        "# for i, col in enumerate(categorical):\n",
        "#     plt.subplot(3, 5, i+1)\n",
        "#     plt.title(col)\n",
        "#     plt.subplots_adjust(hspace =.7, wspace=.5)\n",
        "#     sns.countplot(data=df, x=col, hue=\"class\", palette = [\"#990303\", \"#9C9999\"], alpha=0.8, edgecolor=\"k\", linewidth=1)"
      ],
      "metadata": {
        "id": "0Ir4eQ_CqlrF"
      },
      "id": "0Ir4eQ_CqlrF",
      "execution_count": 81,
      "outputs": []
    },
    {
      "cell_type": "code",
      "execution_count": 82,
      "id": "8889c148",
      "metadata": {
        "execution": {
          "iopub.execute_input": "2023-01-31T16:00:39.942547Z",
          "iopub.status.busy": "2023-01-31T16:00:39.942213Z",
          "iopub.status.idle": "2023-01-31T16:00:39.947902Z",
          "shell.execute_reply": "2023-01-31T16:00:39.946986Z"
        },
        "papermill": {
          "duration": 0.015413,
          "end_time": "2023-01-31T16:00:39.949621",
          "exception": false,
          "start_time": "2023-01-31T16:00:39.934208",
          "status": "completed"
        },
        "tags": [],
        "id": "8889c148"
      },
      "outputs": [],
      "source": [
        "df['Gender'].replace({'Female':0,'Male':1},inplace=True)\n",
        "df['class'] = df['class'].map({'Positive':True,'Negative':False})"
      ]
    },
    {
      "cell_type": "code",
      "execution_count": 83,
      "id": "f4c087be",
      "metadata": {
        "execution": {
          "iopub.execute_input": "2023-01-31T16:00:39.964710Z",
          "iopub.status.busy": "2023-01-31T16:00:39.964363Z",
          "iopub.status.idle": "2023-01-31T16:00:39.979664Z",
          "shell.execute_reply": "2023-01-31T16:00:39.978877Z"
        },
        "papermill": {
          "duration": 0.025334,
          "end_time": "2023-01-31T16:00:39.981631",
          "exception": false,
          "start_time": "2023-01-31T16:00:39.956297",
          "status": "completed"
        },
        "tags": [],
        "id": "f4c087be",
        "colab": {
          "base_uri": "https://localhost:8080/"
        },
        "outputId": "b6a619c6-bb23-492b-e166-22f289d8ebd5"
      },
      "outputs": [
        {
          "output_type": "stream",
          "name": "stdout",
          "text": [
            "<class 'pandas.core.frame.DataFrame'>\n",
            "RangeIndex: 520 entries, 0 to 519\n",
            "Data columns (total 17 columns):\n",
            " #   Column              Non-Null Count  Dtype\n",
            "---  ------              --------------  -----\n",
            " 0   Age                 520 non-null    int64\n",
            " 1   Gender              520 non-null    int64\n",
            " 2   Polyuria            520 non-null    bool \n",
            " 3   Polydipsia          520 non-null    bool \n",
            " 4   sudden_weight_loss  520 non-null    bool \n",
            " 5   weakness            520 non-null    bool \n",
            " 6   Polyphagia          520 non-null    bool \n",
            " 7   Genital_thrush      520 non-null    bool \n",
            " 8   visual_blurring     520 non-null    bool \n",
            " 9   Itching             520 non-null    bool \n",
            " 10  Irritability        520 non-null    bool \n",
            " 11  delayed_healing     520 non-null    bool \n",
            " 12  partial_paresis     520 non-null    bool \n",
            " 13  muscle_stiffness    520 non-null    bool \n",
            " 14  Alopecia            520 non-null    bool \n",
            " 15  Obesity             520 non-null    bool \n",
            " 16  class               520 non-null    bool \n",
            "dtypes: bool(15), int64(2)\n",
            "memory usage: 15.9 KB\n"
          ]
        }
      ],
      "source": [
        "df.info()"
      ]
    },
    {
      "cell_type": "code",
      "execution_count": 84,
      "id": "bdb69cfd",
      "metadata": {
        "execution": {
          "iopub.execute_input": "2023-01-31T16:00:39.998737Z",
          "iopub.status.busy": "2023-01-31T16:00:39.997566Z",
          "iopub.status.idle": "2023-01-31T16:00:40.016912Z",
          "shell.execute_reply": "2023-01-31T16:00:40.015932Z"
        },
        "papermill": {
          "duration": 0.030555,
          "end_time": "2023-01-31T16:00:40.019155",
          "exception": false,
          "start_time": "2023-01-31T16:00:39.988600",
          "status": "completed"
        },
        "tags": [],
        "id": "bdb69cfd",
        "colab": {
          "base_uri": "https://localhost:8080/",
          "height": 270
        },
        "outputId": "53094857-88ae-464d-f820-6237f397a2ff"
      },
      "outputs": [
        {
          "output_type": "execute_result",
          "data": {
            "text/plain": [
              "   Age  Gender  Polyuria  Polydipsia  sudden_weight_loss  weakness  \\\n",
              "0   40       1     False        True               False      True   \n",
              "1   58       1     False       False               False      True   \n",
              "2   41       1      True       False               False      True   \n",
              "3   45       1     False       False                True      True   \n",
              "4   60       1      True        True                True      True   \n",
              "\n",
              "   Polyphagia  Genital_thrush  visual_blurring  Itching  Irritability  \\\n",
              "0       False           False            False     True         False   \n",
              "1       False           False             True    False         False   \n",
              "2        True           False            False     True         False   \n",
              "3        True            True            False     True         False   \n",
              "4        True           False             True     True          True   \n",
              "\n",
              "   delayed_healing  partial_paresis  muscle_stiffness  Alopecia  Obesity  \\\n",
              "0             True            False              True      True     True   \n",
              "1            False             True             False      True    False   \n",
              "2             True            False              True      True    False   \n",
              "3             True            False             False     False    False   \n",
              "4             True             True              True      True     True   \n",
              "\n",
              "   class  \n",
              "0   True  \n",
              "1   True  \n",
              "2   True  \n",
              "3   True  \n",
              "4   True  "
            ],
            "text/html": [
              "\n",
              "  <div id=\"df-edadcc89-18b5-4486-88dd-d4f016a229b9\">\n",
              "    <div class=\"colab-df-container\">\n",
              "      <div>\n",
              "<style scoped>\n",
              "    .dataframe tbody tr th:only-of-type {\n",
              "        vertical-align: middle;\n",
              "    }\n",
              "\n",
              "    .dataframe tbody tr th {\n",
              "        vertical-align: top;\n",
              "    }\n",
              "\n",
              "    .dataframe thead th {\n",
              "        text-align: right;\n",
              "    }\n",
              "</style>\n",
              "<table border=\"1\" class=\"dataframe\">\n",
              "  <thead>\n",
              "    <tr style=\"text-align: right;\">\n",
              "      <th></th>\n",
              "      <th>Age</th>\n",
              "      <th>Gender</th>\n",
              "      <th>Polyuria</th>\n",
              "      <th>Polydipsia</th>\n",
              "      <th>sudden_weight_loss</th>\n",
              "      <th>weakness</th>\n",
              "      <th>Polyphagia</th>\n",
              "      <th>Genital_thrush</th>\n",
              "      <th>visual_blurring</th>\n",
              "      <th>Itching</th>\n",
              "      <th>Irritability</th>\n",
              "      <th>delayed_healing</th>\n",
              "      <th>partial_paresis</th>\n",
              "      <th>muscle_stiffness</th>\n",
              "      <th>Alopecia</th>\n",
              "      <th>Obesity</th>\n",
              "      <th>class</th>\n",
              "    </tr>\n",
              "  </thead>\n",
              "  <tbody>\n",
              "    <tr>\n",
              "      <th>0</th>\n",
              "      <td>40</td>\n",
              "      <td>1</td>\n",
              "      <td>False</td>\n",
              "      <td>True</td>\n",
              "      <td>False</td>\n",
              "      <td>True</td>\n",
              "      <td>False</td>\n",
              "      <td>False</td>\n",
              "      <td>False</td>\n",
              "      <td>True</td>\n",
              "      <td>False</td>\n",
              "      <td>True</td>\n",
              "      <td>False</td>\n",
              "      <td>True</td>\n",
              "      <td>True</td>\n",
              "      <td>True</td>\n",
              "      <td>True</td>\n",
              "    </tr>\n",
              "    <tr>\n",
              "      <th>1</th>\n",
              "      <td>58</td>\n",
              "      <td>1</td>\n",
              "      <td>False</td>\n",
              "      <td>False</td>\n",
              "      <td>False</td>\n",
              "      <td>True</td>\n",
              "      <td>False</td>\n",
              "      <td>False</td>\n",
              "      <td>True</td>\n",
              "      <td>False</td>\n",
              "      <td>False</td>\n",
              "      <td>False</td>\n",
              "      <td>True</td>\n",
              "      <td>False</td>\n",
              "      <td>True</td>\n",
              "      <td>False</td>\n",
              "      <td>True</td>\n",
              "    </tr>\n",
              "    <tr>\n",
              "      <th>2</th>\n",
              "      <td>41</td>\n",
              "      <td>1</td>\n",
              "      <td>True</td>\n",
              "      <td>False</td>\n",
              "      <td>False</td>\n",
              "      <td>True</td>\n",
              "      <td>True</td>\n",
              "      <td>False</td>\n",
              "      <td>False</td>\n",
              "      <td>True</td>\n",
              "      <td>False</td>\n",
              "      <td>True</td>\n",
              "      <td>False</td>\n",
              "      <td>True</td>\n",
              "      <td>True</td>\n",
              "      <td>False</td>\n",
              "      <td>True</td>\n",
              "    </tr>\n",
              "    <tr>\n",
              "      <th>3</th>\n",
              "      <td>45</td>\n",
              "      <td>1</td>\n",
              "      <td>False</td>\n",
              "      <td>False</td>\n",
              "      <td>True</td>\n",
              "      <td>True</td>\n",
              "      <td>True</td>\n",
              "      <td>True</td>\n",
              "      <td>False</td>\n",
              "      <td>True</td>\n",
              "      <td>False</td>\n",
              "      <td>True</td>\n",
              "      <td>False</td>\n",
              "      <td>False</td>\n",
              "      <td>False</td>\n",
              "      <td>False</td>\n",
              "      <td>True</td>\n",
              "    </tr>\n",
              "    <tr>\n",
              "      <th>4</th>\n",
              "      <td>60</td>\n",
              "      <td>1</td>\n",
              "      <td>True</td>\n",
              "      <td>True</td>\n",
              "      <td>True</td>\n",
              "      <td>True</td>\n",
              "      <td>True</td>\n",
              "      <td>False</td>\n",
              "      <td>True</td>\n",
              "      <td>True</td>\n",
              "      <td>True</td>\n",
              "      <td>True</td>\n",
              "      <td>True</td>\n",
              "      <td>True</td>\n",
              "      <td>True</td>\n",
              "      <td>True</td>\n",
              "      <td>True</td>\n",
              "    </tr>\n",
              "  </tbody>\n",
              "</table>\n",
              "</div>\n",
              "      <button class=\"colab-df-convert\" onclick=\"convertToInteractive('df-edadcc89-18b5-4486-88dd-d4f016a229b9')\"\n",
              "              title=\"Convert this dataframe to an interactive table.\"\n",
              "              style=\"display:none;\">\n",
              "        \n",
              "  <svg xmlns=\"http://www.w3.org/2000/svg\" height=\"24px\"viewBox=\"0 0 24 24\"\n",
              "       width=\"24px\">\n",
              "    <path d=\"M0 0h24v24H0V0z\" fill=\"none\"/>\n",
              "    <path d=\"M18.56 5.44l.94 2.06.94-2.06 2.06-.94-2.06-.94-.94-2.06-.94 2.06-2.06.94zm-11 1L8.5 8.5l.94-2.06 2.06-.94-2.06-.94L8.5 2.5l-.94 2.06-2.06.94zm10 10l.94 2.06.94-2.06 2.06-.94-2.06-.94-.94-2.06-.94 2.06-2.06.94z\"/><path d=\"M17.41 7.96l-1.37-1.37c-.4-.4-.92-.59-1.43-.59-.52 0-1.04.2-1.43.59L10.3 9.45l-7.72 7.72c-.78.78-.78 2.05 0 2.83L4 21.41c.39.39.9.59 1.41.59.51 0 1.02-.2 1.41-.59l7.78-7.78 2.81-2.81c.8-.78.8-2.07 0-2.86zM5.41 20L4 18.59l7.72-7.72 1.47 1.35L5.41 20z\"/>\n",
              "  </svg>\n",
              "      </button>\n",
              "      \n",
              "  <style>\n",
              "    .colab-df-container {\n",
              "      display:flex;\n",
              "      flex-wrap:wrap;\n",
              "      gap: 12px;\n",
              "    }\n",
              "\n",
              "    .colab-df-convert {\n",
              "      background-color: #E8F0FE;\n",
              "      border: none;\n",
              "      border-radius: 50%;\n",
              "      cursor: pointer;\n",
              "      display: none;\n",
              "      fill: #1967D2;\n",
              "      height: 32px;\n",
              "      padding: 0 0 0 0;\n",
              "      width: 32px;\n",
              "    }\n",
              "\n",
              "    .colab-df-convert:hover {\n",
              "      background-color: #E2EBFA;\n",
              "      box-shadow: 0px 1px 2px rgba(60, 64, 67, 0.3), 0px 1px 3px 1px rgba(60, 64, 67, 0.15);\n",
              "      fill: #174EA6;\n",
              "    }\n",
              "\n",
              "    [theme=dark] .colab-df-convert {\n",
              "      background-color: #3B4455;\n",
              "      fill: #D2E3FC;\n",
              "    }\n",
              "\n",
              "    [theme=dark] .colab-df-convert:hover {\n",
              "      background-color: #434B5C;\n",
              "      box-shadow: 0px 1px 3px 1px rgba(0, 0, 0, 0.15);\n",
              "      filter: drop-shadow(0px 1px 2px rgba(0, 0, 0, 0.3));\n",
              "      fill: #FFFFFF;\n",
              "    }\n",
              "  </style>\n",
              "\n",
              "      <script>\n",
              "        const buttonEl =\n",
              "          document.querySelector('#df-edadcc89-18b5-4486-88dd-d4f016a229b9 button.colab-df-convert');\n",
              "        buttonEl.style.display =\n",
              "          google.colab.kernel.accessAllowed ? 'block' : 'none';\n",
              "\n",
              "        async function convertToInteractive(key) {\n",
              "          const element = document.querySelector('#df-edadcc89-18b5-4486-88dd-d4f016a229b9');\n",
              "          const dataTable =\n",
              "            await google.colab.kernel.invokeFunction('convertToInteractive',\n",
              "                                                     [key], {});\n",
              "          if (!dataTable) return;\n",
              "\n",
              "          const docLinkHtml = 'Like what you see? Visit the ' +\n",
              "            '<a target=\"_blank\" href=https://colab.research.google.com/notebooks/data_table.ipynb>data table notebook</a>'\n",
              "            + ' to learn more about interactive tables.';\n",
              "          element.innerHTML = '';\n",
              "          dataTable['output_type'] = 'display_data';\n",
              "          await google.colab.output.renderOutput(dataTable, element);\n",
              "          const docLink = document.createElement('div');\n",
              "          docLink.innerHTML = docLinkHtml;\n",
              "          element.appendChild(docLink);\n",
              "        }\n",
              "      </script>\n",
              "    </div>\n",
              "  </div>\n",
              "  "
            ]
          },
          "metadata": {},
          "execution_count": 84
        }
      ],
      "source": [
        "df.head(5)"
      ]
    },
    {
      "cell_type": "code",
      "execution_count": 85,
      "id": "3f072466",
      "metadata": {
        "execution": {
          "iopub.execute_input": "2023-01-31T16:00:40.035438Z",
          "iopub.status.busy": "2023-01-31T16:00:40.035051Z",
          "iopub.status.idle": "2023-01-31T16:00:40.046218Z",
          "shell.execute_reply": "2023-01-31T16:00:40.044879Z"
        },
        "papermill": {
          "duration": 0.022224,
          "end_time": "2023-01-31T16:00:40.048676",
          "exception": false,
          "start_time": "2023-01-31T16:00:40.026452",
          "status": "completed"
        },
        "tags": [],
        "id": "3f072466",
        "colab": {
          "base_uri": "https://localhost:8080/"
        },
        "outputId": "71cedc8d-c09f-43b5-9647-892f41a7e2fc"
      },
      "outputs": [
        {
          "output_type": "execute_result",
          "data": {
            "text/plain": [
              "Age                   0\n",
              "Gender                0\n",
              "Polyuria              0\n",
              "Polydipsia            0\n",
              "sudden_weight_loss    0\n",
              "weakness              0\n",
              "Polyphagia            0\n",
              "Genital_thrush        0\n",
              "visual_blurring       0\n",
              "Itching               0\n",
              "Irritability          0\n",
              "delayed_healing       0\n",
              "partial_paresis       0\n",
              "muscle_stiffness      0\n",
              "Alopecia              0\n",
              "Obesity               0\n",
              "class                 0\n",
              "dtype: int64"
            ]
          },
          "metadata": {},
          "execution_count": 85
        }
      ],
      "source": [
        "df.isnull().sum()"
      ]
    },
    {
      "cell_type": "code",
      "execution_count": 86,
      "id": "0ad31808",
      "metadata": {
        "execution": {
          "iopub.execute_input": "2023-01-31T16:00:40.065488Z",
          "iopub.status.busy": "2023-01-31T16:00:40.065081Z",
          "iopub.status.idle": "2023-01-31T16:00:40.075655Z",
          "shell.execute_reply": "2023-01-31T16:00:40.074966Z"
        },
        "papermill": {
          "duration": 0.021367,
          "end_time": "2023-01-31T16:00:40.077664",
          "exception": false,
          "start_time": "2023-01-31T16:00:40.056297",
          "status": "completed"
        },
        "tags": [],
        "id": "0ad31808",
        "colab": {
          "base_uri": "https://localhost:8080/"
        },
        "outputId": "f0d306a1-2ebb-4ae4-9b6e-37fb6e0ca559"
      },
      "outputs": [
        {
          "output_type": "execute_result",
          "data": {
            "text/plain": [
              "269"
            ]
          },
          "metadata": {},
          "execution_count": 86
        }
      ],
      "source": [
        "df.duplicated().sum()"
      ]
    },
    {
      "cell_type": "code",
      "execution_count": 87,
      "id": "60687dd1",
      "metadata": {
        "execution": {
          "iopub.execute_input": "2023-01-31T16:00:40.094564Z",
          "iopub.status.busy": "2023-01-31T16:00:40.093730Z",
          "iopub.status.idle": "2023-01-31T16:00:40.106456Z",
          "shell.execute_reply": "2023-01-31T16:00:40.105363Z"
        },
        "papermill": {
          "duration": 0.023426,
          "end_time": "2023-01-31T16:00:40.108632",
          "exception": false,
          "start_time": "2023-01-31T16:00:40.085206",
          "status": "completed"
        },
        "tags": [],
        "id": "60687dd1",
        "colab": {
          "base_uri": "https://localhost:8080/"
        },
        "outputId": "b770cd54-e808-472b-e629-6fd643b21066"
      },
      "outputs": [
        {
          "output_type": "execute_result",
          "data": {
            "text/plain": [
              "Age                   51\n",
              "Gender                 2\n",
              "Polyuria               2\n",
              "Polydipsia             2\n",
              "sudden_weight_loss     2\n",
              "weakness               2\n",
              "Polyphagia             2\n",
              "Genital_thrush         2\n",
              "visual_blurring        2\n",
              "Itching                2\n",
              "Irritability           2\n",
              "delayed_healing        2\n",
              "partial_paresis        2\n",
              "muscle_stiffness       2\n",
              "Alopecia               2\n",
              "Obesity                2\n",
              "class                  2\n",
              "dtype: int64"
            ]
          },
          "metadata": {},
          "execution_count": 87
        }
      ],
      "source": [
        "# Determine count of unique values for each column in the dataframe\n",
        "df.nunique()"
      ]
    },
    {
      "cell_type": "code",
      "execution_count": 88,
      "id": "630120e7",
      "metadata": {
        "execution": {
          "iopub.execute_input": "2023-01-31T16:00:40.125519Z",
          "iopub.status.busy": "2023-01-31T16:00:40.125159Z",
          "iopub.status.idle": "2023-01-31T16:00:40.133260Z",
          "shell.execute_reply": "2023-01-31T16:00:40.132074Z"
        },
        "papermill": {
          "duration": 0.018874,
          "end_time": "2023-01-31T16:00:40.135261",
          "exception": false,
          "start_time": "2023-01-31T16:00:40.116387",
          "status": "completed"
        },
        "tags": [],
        "id": "630120e7"
      },
      "outputs": [],
      "source": [
        "X = df.drop(columns='class') \n",
        "y = df['class'] "
      ]
    },
    {
      "cell_type": "code",
      "execution_count": 89,
      "id": "5561c954",
      "metadata": {
        "execution": {
          "iopub.execute_input": "2023-01-31T16:00:40.152265Z",
          "iopub.status.busy": "2023-01-31T16:00:40.151905Z",
          "iopub.status.idle": "2023-01-31T16:00:40.324907Z",
          "shell.execute_reply": "2023-01-31T16:00:40.323724Z"
        },
        "papermill": {
          "duration": 0.184416,
          "end_time": "2023-01-31T16:00:40.327497",
          "exception": false,
          "start_time": "2023-01-31T16:00:40.143081",
          "status": "completed"
        },
        "tags": [],
        "id": "5561c954"
      },
      "outputs": [],
      "source": [
        "from sklearn.model_selection import train_test_split,cross_validate\n",
        "X_train, X_test, y_train, y_test = train_test_split(X, y, test_size=0.2, random_state=1)"
      ]
    },
    {
      "cell_type": "code",
      "execution_count": 90,
      "id": "88ae3dde",
      "metadata": {
        "execution": {
          "iopub.execute_input": "2023-01-31T16:00:40.344650Z",
          "iopub.status.busy": "2023-01-31T16:00:40.343901Z",
          "iopub.status.idle": "2023-01-31T16:00:40.349121Z",
          "shell.execute_reply": "2023-01-31T16:00:40.348182Z"
        },
        "papermill": {
          "duration": 0.016457,
          "end_time": "2023-01-31T16:00:40.351711",
          "exception": false,
          "start_time": "2023-01-31T16:00:40.335254",
          "status": "completed"
        },
        "tags": [],
        "id": "88ae3dde",
        "colab": {
          "base_uri": "https://localhost:8080/"
        },
        "outputId": "4db46d4f-b710-4af3-a40b-fceb8c7814c3"
      },
      "outputs": [
        {
          "output_type": "stream",
          "name": "stdout",
          "text": [
            "X_train Shape: (416, 16)\n",
            "y_train Shape: (416,)\n",
            "X_test Shape: (104, 16)\n",
            "y_test Shape: (104,)\n"
          ]
        }
      ],
      "source": [
        "print(f'X_train Shape: {(X_train.shape)}')\n",
        "print(f'y_train Shape: {(y_train.shape)}')\n",
        "print(f'X_test Shape: {(X_test.shape)}')\n",
        "print(f'y_test Shape: {(y_test.shape)}')"
      ]
    },
    {
      "cell_type": "markdown",
      "id": "0d790a8d",
      "metadata": {
        "papermill": {
          "duration": 0.008062,
          "end_time": "2023-01-31T16:00:40.367592",
          "exception": false,
          "start_time": "2023-01-31T16:00:40.359530",
          "status": "completed"
        },
        "tags": [],
        "id": "0d790a8d"
      },
      "source": [
        "# **Decision Tree Classifier with criterion entropy**"
      ]
    },
    {
      "cell_type": "code",
      "execution_count": 91,
      "id": "aa307943",
      "metadata": {
        "execution": {
          "iopub.execute_input": "2023-01-31T16:00:40.385766Z",
          "iopub.status.busy": "2023-01-31T16:00:40.385434Z",
          "iopub.status.idle": "2023-01-31T16:00:40.621357Z",
          "shell.execute_reply": "2023-01-31T16:00:40.619978Z"
        },
        "papermill": {
          "duration": 0.24711,
          "end_time": "2023-01-31T16:00:40.623119",
          "exception": true,
          "start_time": "2023-01-31T16:00:40.376009",
          "status": "failed"
        },
        "tags": [],
        "id": "aa307943",
        "colab": {
          "base_uri": "https://localhost:8080/"
        },
        "outputId": "46601aac-4ecd-46ed-df90-67290b05ffcf"
      },
      "outputs": [
        {
          "output_type": "stream",
          "name": "stdout",
          "text": [
            "Accuracy Entropy Model: 91.34615384615384\n"
          ]
        }
      ],
      "source": [
        "from sklearn.tree import DecisionTreeClassifier\n",
        "from sklearn.metrics import precision_score, recall_score, f1_score, roc_auc_score\n",
        "from sklearn.metrics import classification_report\n",
        "from sklearn.metrics import confusion_matrix, accuracy_score, make_scorer\n",
        "\n",
        "# Create Decision Tree classifer object\n",
        "clf = DecisionTreeClassifier(criterion='entropy', max_depth=3, random_state=1)\n",
        "\n",
        "# Train Decision Tree Classifer\n",
        "clf = clf.fit(X_train,y_train)\n",
        "\n",
        "#Predict the response for test dataset\n",
        "y_pred_en = clf.predict(X_test)\n",
        "print(('Accuracy Entropy Model:'), accuracy_score(y_test,y_pred_en)*100)"
      ]
    },
    {
      "cell_type": "code",
      "execution_count": 92,
      "id": "47ff7bdf",
      "metadata": {
        "execution": {
          "iopub.execute_input": "2023-01-31T15:59:56.156230Z",
          "iopub.status.busy": "2023-01-31T15:59:56.155682Z",
          "iopub.status.idle": "2023-01-31T15:59:56.168581Z",
          "shell.execute_reply": "2023-01-31T15:59:56.167049Z",
          "shell.execute_reply.started": "2023-01-31T15:59:56.156180Z"
        },
        "papermill": {
          "duration": null,
          "end_time": null,
          "exception": null,
          "start_time": null,
          "status": "pending"
        },
        "tags": [],
        "id": "47ff7bdf",
        "colab": {
          "base_uri": "https://localhost:8080/"
        },
        "outputId": "e23ab1e2-106b-4999-ded6-a2eec51e69d0"
      },
      "outputs": [
        {
          "output_type": "stream",
          "name": "stdout",
          "text": [
            "Training set score: 0.8894\n",
            "Test set score: 0.9135\n"
          ]
        }
      ],
      "source": [
        "print('Training set score: {:.4f}'.format(clf.score(X_train, y_train)))\n",
        "print('Test set score: {:.4f}'.format(clf.score(X_test, y_test)))"
      ]
    },
    {
      "cell_type": "code",
      "source": [
        "print(classification_report(y_test, y_pred_en))\n",
        "\n",
        "print(\"CONFUSION MATRIX\")\n",
        "cnf_matrix=confusion_matrix(y_test, y_pred_en)\n",
        "print(cnf_matrix)"
      ],
      "metadata": {
        "id": "DxZHK476th93",
        "colab": {
          "base_uri": "https://localhost:8080/"
        },
        "outputId": "c84e557f-3ad0-4c6a-a8f8-fe02570a09af"
      },
      "id": "DxZHK476th93",
      "execution_count": 93,
      "outputs": [
        {
          "output_type": "stream",
          "name": "stdout",
          "text": [
            "              precision    recall  f1-score   support\n",
            "\n",
            "       False       0.94      0.82      0.87        38\n",
            "        True       0.90      0.97      0.93        66\n",
            "\n",
            "    accuracy                           0.91       104\n",
            "   macro avg       0.92      0.89      0.90       104\n",
            "weighted avg       0.92      0.91      0.91       104\n",
            "\n",
            "CONFUSION MATRIX\n",
            "[[31  7]\n",
            " [ 2 64]]\n"
          ]
        }
      ]
    },
    {
      "cell_type": "code",
      "execution_count": 94,
      "id": "b05b2995",
      "metadata": {
        "execution": {
          "iopub.execute_input": "2023-01-31T15:59:56.171704Z",
          "iopub.status.busy": "2023-01-31T15:59:56.170499Z",
          "iopub.status.idle": "2023-01-31T15:59:56.910767Z",
          "shell.execute_reply": "2023-01-31T15:59:56.909420Z",
          "shell.execute_reply.started": "2023-01-31T15:59:56.171666Z"
        },
        "papermill": {
          "duration": null,
          "end_time": null,
          "exception": null,
          "start_time": null,
          "status": "pending"
        },
        "tags": [],
        "id": "b05b2995",
        "colab": {
          "base_uri": "https://localhost:8080/",
          "height": 692
        },
        "outputId": "de31881a-99cd-427b-94e6-c1a91fad1e60"
      },
      "outputs": [
        {
          "output_type": "execute_result",
          "data": {
            "text/plain": [
              "[Text(0.5416666666666666, 0.875, 'X[2] <= 0.5\\nentropy = 0.947\\nsamples = 104\\nvalue = [38, 66]'),\n",
              " Text(0.3333333333333333, 0.625, 'X[1] <= 0.5\\nentropy = 0.918\\nsamples = 54\\nvalue = [36, 18]'),\n",
              " Text(0.16666666666666666, 0.375, 'X[0] <= 59.0\\nentropy = 0.391\\nsamples = 13\\nvalue = [1, 12]'),\n",
              " Text(0.08333333333333333, 0.125, 'entropy = 0.0\\nsamples = 11\\nvalue = [0, 11]'),\n",
              " Text(0.25, 0.125, 'entropy = 1.0\\nsamples = 2\\nvalue = [1, 1]'),\n",
              " Text(0.5, 0.375, 'X[10] <= 0.5\\nentropy = 0.601\\nsamples = 41\\nvalue = [35, 6]'),\n",
              " Text(0.4166666666666667, 0.125, 'entropy = 0.31\\nsamples = 36\\nvalue = [34, 2]'),\n",
              " Text(0.5833333333333334, 0.125, 'entropy = 0.722\\nsamples = 5\\nvalue = [1, 4]'),\n",
              " Text(0.75, 0.625, 'X[14] <= 0.5\\nentropy = 0.242\\nsamples = 50\\nvalue = [2, 48]'),\n",
              " Text(0.6666666666666666, 0.375, 'entropy = 0.0\\nsamples = 39\\nvalue = [0, 39]'),\n",
              " Text(0.8333333333333334, 0.375, 'X[9] <= 0.5\\nentropy = 0.684\\nsamples = 11\\nvalue = [2, 9]'),\n",
              " Text(0.75, 0.125, 'entropy = 0.0\\nsamples = 7\\nvalue = [0, 7]'),\n",
              " Text(0.9166666666666666, 0.125, 'entropy = 1.0\\nsamples = 4\\nvalue = [2, 2]')]"
            ]
          },
          "metadata": {},
          "execution_count": 94
        },
        {
          "output_type": "display_data",
          "data": {
            "text/plain": [
              "<Figure size 864x576 with 1 Axes>"
            ],
            "image/png": "[encoded data removed]"
          },
          "metadata": {
            "needs_background": "light"
          }
        }
      ],
      "source": [
        "plt.figure(figsize=(12,8))\n",
        "from sklearn import tree\n",
        "tree.plot_tree(clf.fit(X_test, y_test)) "
      ]
    },
    {
      "cell_type": "code",
      "execution_count": 95,
      "id": "36f2cf13",
      "metadata": {
        "execution": {
          "iopub.execute_input": "2023-01-31T15:59:56.912696Z",
          "iopub.status.busy": "2023-01-31T15:59:56.912290Z",
          "iopub.status.idle": "2023-01-31T15:59:57.332027Z",
          "shell.execute_reply": "2023-01-31T15:59:57.330764Z",
          "shell.execute_reply.started": "2023-01-31T15:59:56.912662Z"
        },
        "papermill": {
          "duration": null,
          "end_time": null,
          "exception": null,
          "start_time": null,
          "status": "pending"
        },
        "tags": [],
        "id": "36f2cf13",
        "colab": {
          "base_uri": "https://localhost:8080/"
        },
        "outputId": "71b7eb5e-e843-4f18-9df9-da84f90778d7"
      },
      "outputs": [
        {
          "output_type": "stream",
          "name": "stdout",
          "text": [
            "Accuracy: 90.192% (4.667%)\n",
            "-------------------------------------------\n",
            "CONFUSION MATRIX\n",
            "[[165  35]\n",
            " [ 16 304]]\n",
            "-------------------------------------------\n",
            "RECALL\n",
            "Recall Score (Mean): 95.000% (3.750%)\n",
            "-------------------------------------------\n",
            "PRECISION\n",
            "Precision Score (Mean): 89.941% (5.208%)\n",
            "-------------------------------------------\n",
            "-------------------------------------------\n",
            "ROC_AUC\n",
            "ROC_AUC Score (Mean): 94.172% (3.833%)\n"
          ]
        }
      ],
      "source": [
        "# Applying 10-Fold Cross Validation\n",
        "from sklearn.model_selection import cross_val_score\n",
        "scores = cross_val_score(clf, X, y, cv = 10, scoring='accuracy')\n",
        "# print('Cross-validation scores:{}'.format(scores))\n",
        "\n",
        "# print(\"-------------------------------------------\")\n",
        "\n",
        "# compute Average cross-validation score\n",
        "print(\"Accuracy: %.3f%% (%.3f%%)\" % (scores.mean()*100.0, scores.std()*100.0))\n",
        "\n",
        "print(\"-------------------------------------------\")\n",
        "\n",
        "# Confusion Matrix\n",
        "from sklearn.model_selection import cross_val_predict\n",
        "y_pred = cross_val_predict(clf, X, y, cv=10)\n",
        "print(\"CONFUSION MATRIX\")\n",
        "cnf_matrix=confusion_matrix(y, y_pred)\n",
        "print(cnf_matrix)\n",
        "\n",
        "print(\"-------------------------------------------\")\n",
        "# Recall Score\n",
        "print('RECALL')\n",
        "recall = cross_val_score(clf, X, y, cv = 10, scoring='recall')\n",
        "# print('Recall Score:{}'.format(recall))\n",
        "print(\"Recall Score (Mean): %.3f%% (%.3f%%)\" % (recall.mean()*100.0, recall.std()*100.0))\n",
        "\n",
        "print(\"-------------------------------------------\")\n",
        "\n",
        "# Recall Score\n",
        "print('PRECISION')\n",
        "precision = cross_val_score(clf, X, y, cv = 10, scoring='precision')\n",
        "# print('Precision Score:{}'.format(precision))\n",
        "print(\"Precision Score (Mean): %.3f%% (%.3f%%)\" % (precision.mean()*100.0, precision.std()*100.0))\n",
        "\n",
        "print(\"-------------------------------------------\")\n",
        "\n",
        "# # F1 Score\n",
        "# print('F1-SCORE')\n",
        "# f1_score = {'f1_score' : make_scorer(f1_score)}\n",
        "# results = cross_validate(clf, X, y, cv = 10, scoring=f1_score)\n",
        "# # print (results)\n",
        "\n",
        "print(\"-------------------------------------------\")\n",
        "\n",
        "# ROC_AUC\n",
        "print('ROC_AUC')\n",
        "auc = cross_val_score(clf, X, y, cv=10, scoring='roc_auc')\n",
        "# print('ROC_AUC Score:{}'.format(auc))\n",
        "print(\"ROC_AUC Score (Mean): %.3f%% (%.3f%%)\" % (auc.mean()*100.0, auc.std()*100.0))"
      ]
    },
    {
      "cell_type": "markdown",
      "id": "1efc711e",
      "metadata": {
        "papermill": {
          "duration": null,
          "end_time": null,
          "exception": null,
          "start_time": null,
          "status": "pending"
        },
        "tags": [],
        "id": "1efc711e"
      },
      "source": [
        "# **Decision Tree Classifier with criterion gini index**"
      ]
    },
    {
      "cell_type": "code",
      "execution_count": 96,
      "id": "edb2627b",
      "metadata": {
        "execution": {
          "iopub.execute_input": "2023-01-31T15:59:57.334747Z",
          "iopub.status.busy": "2023-01-31T15:59:57.333688Z",
          "iopub.status.idle": "2023-01-31T15:59:57.348891Z",
          "shell.execute_reply": "2023-01-31T15:59:57.347931Z",
          "shell.execute_reply.started": "2023-01-31T15:59:57.334709Z"
        },
        "papermill": {
          "duration": null,
          "end_time": null,
          "exception": null,
          "start_time": null,
          "status": "pending"
        },
        "tags": [],
        "id": "edb2627b",
        "colab": {
          "base_uri": "https://localhost:8080/"
        },
        "outputId": "6a52a631-744f-43b3-a1fc-cdf73b25b35e"
      },
      "outputs": [
        {
          "output_type": "stream",
          "name": "stdout",
          "text": [
            "Accuracy Model: 92.3076923076923\n"
          ]
        }
      ],
      "source": [
        "clf_gini = DecisionTreeClassifier(criterion='gini', max_depth=3, random_state=1)\n",
        "# fit the model\n",
        "clf_gini.fit(X_train, y_train)\n",
        "y_pred_gini=clf_gini.predict(X_test)\n",
        "print(('Accuracy Model:'), accuracy_score(y_test,y_pred_gini)*100)"
      ]
    },
    {
      "cell_type": "code",
      "execution_count": 97,
      "id": "aef583bd",
      "metadata": {
        "execution": {
          "iopub.execute_input": "2023-01-31T15:59:57.351263Z",
          "iopub.status.busy": "2023-01-31T15:59:57.350542Z",
          "iopub.status.idle": "2023-01-31T15:59:57.377327Z",
          "shell.execute_reply": "2023-01-31T15:59:57.376007Z",
          "shell.execute_reply.started": "2023-01-31T15:59:57.351228Z"
        },
        "papermill": {
          "duration": null,
          "end_time": null,
          "exception": null,
          "start_time": null,
          "status": "pending"
        },
        "tags": [],
        "id": "aef583bd",
        "colab": {
          "base_uri": "https://localhost:8080/"
        },
        "outputId": "a8fb0387-26d0-405b-ae21-1903ee2c6452"
      },
      "outputs": [
        {
          "output_type": "stream",
          "name": "stdout",
          "text": [
            "Training set score: 0.9038\n",
            "Test set score: 0.9231\n"
          ]
        }
      ],
      "source": [
        "print('Training set score: {:.4f}'.format(clf_gini.score(X_train, y_train)))\n",
        "print('Test set score: {:.4f}'.format(clf_gini.score(X_test, y_test)))"
      ]
    },
    {
      "cell_type": "code",
      "source": [
        "print(classification_report(y_test, y_pred_gini))\n",
        "\n",
        "print(\"CONFUSION MATRIX\")\n",
        "cnf_matrix=confusion_matrix(y_test, y_pred_gini)\n",
        "print(cnf_matrix)"
      ],
      "metadata": {
        "id": "ZGHlbjTtt1OM",
        "colab": {
          "base_uri": "https://localhost:8080/"
        },
        "outputId": "c697babd-b3ca-4845-8ba5-e9fae4fc5600"
      },
      "id": "ZGHlbjTtt1OM",
      "execution_count": 98,
      "outputs": [
        {
          "output_type": "stream",
          "name": "stdout",
          "text": [
            "              precision    recall  f1-score   support\n",
            "\n",
            "       False       0.94      0.84      0.89        38\n",
            "        True       0.91      0.97      0.94        66\n",
            "\n",
            "    accuracy                           0.92       104\n",
            "   macro avg       0.93      0.91      0.92       104\n",
            "weighted avg       0.92      0.92      0.92       104\n",
            "\n",
            "CONFUSION MATRIX\n",
            "[[32  6]\n",
            " [ 2 64]]\n"
          ]
        }
      ]
    },
    {
      "cell_type": "code",
      "execution_count": 99,
      "id": "59bf28ac",
      "metadata": {
        "execution": {
          "iopub.execute_input": "2023-01-31T15:59:57.379823Z",
          "iopub.status.busy": "2023-01-31T15:59:57.379142Z",
          "iopub.status.idle": "2023-01-31T15:59:58.236417Z",
          "shell.execute_reply": "2023-01-31T15:59:58.235098Z",
          "shell.execute_reply.started": "2023-01-31T15:59:57.379785Z"
        },
        "papermill": {
          "duration": null,
          "end_time": null,
          "exception": null,
          "start_time": null,
          "status": "pending"
        },
        "tags": [],
        "id": "59bf28ac",
        "colab": {
          "base_uri": "https://localhost:8080/",
          "height": 726
        },
        "outputId": "ee5b6f66-674f-4d5b-aa26-af216c99318c"
      },
      "outputs": [
        {
          "output_type": "execute_result",
          "data": {
            "text/plain": [
              "[Text(0.5, 0.875, 'X[2] <= 0.5\\ngini = 0.464\\nsamples = 104\\nvalue = [38, 66]'),\n",
              " Text(0.25, 0.625, 'X[1] <= 0.5\\ngini = 0.444\\nsamples = 54\\nvalue = [36, 18]'),\n",
              " Text(0.125, 0.375, 'X[0] <= 59.0\\ngini = 0.142\\nsamples = 13\\nvalue = [1, 12]'),\n",
              " Text(0.0625, 0.125, 'gini = 0.0\\nsamples = 11\\nvalue = [0, 11]'),\n",
              " Text(0.1875, 0.125, 'gini = 0.5\\nsamples = 2\\nvalue = [1, 1]'),\n",
              " Text(0.375, 0.375, 'X[10] <= 0.5\\ngini = 0.25\\nsamples = 41\\nvalue = [35, 6]'),\n",
              " Text(0.3125, 0.125, 'gini = 0.105\\nsamples = 36\\nvalue = [34, 2]'),\n",
              " Text(0.4375, 0.125, 'gini = 0.32\\nsamples = 5\\nvalue = [1, 4]'),\n",
              " Text(0.75, 0.625, 'X[0] <= 70.5\\ngini = 0.077\\nsamples = 50\\nvalue = [2, 48]'),\n",
              " Text(0.625, 0.375, 'X[7] <= 0.5\\ngini = 0.041\\nsamples = 48\\nvalue = [1, 47]'),\n",
              " Text(0.5625, 0.125, 'gini = 0.0\\nsamples = 39\\nvalue = [0, 39]'),\n",
              " Text(0.6875, 0.125, 'gini = 0.198\\nsamples = 9\\nvalue = [1, 8]'),\n",
              " Text(0.875, 0.375, 'X[7] <= 0.5\\ngini = 0.5\\nsamples = 2\\nvalue = [1, 1]'),\n",
              " Text(0.8125, 0.125, 'gini = 0.0\\nsamples = 1\\nvalue = [1, 0]'),\n",
              " Text(0.9375, 0.125, 'gini = 0.0\\nsamples = 1\\nvalue = [0, 1]')]"
            ]
          },
          "metadata": {},
          "execution_count": 99
        },
        {
          "output_type": "display_data",
          "data": {
            "text/plain": [
              "<Figure size 864x576 with 1 Axes>"
            ],
            "image/png": "[encoded data removed]"
          },
          "metadata": {
            "needs_background": "light"
          }
        }
      ],
      "source": [
        "plt.figure(figsize=(12,8))\n",
        "from sklearn import tree\n",
        "tree.plot_tree(clf_gini.fit(X_test, y_test)) "
      ]
    },
    {
      "cell_type": "code",
      "execution_count": 100,
      "id": "e7dd9847",
      "metadata": {
        "execution": {
          "iopub.execute_input": "2023-01-31T15:59:58.238295Z",
          "iopub.status.busy": "2023-01-31T15:59:58.237949Z",
          "iopub.status.idle": "2023-01-31T15:59:58.578925Z",
          "shell.execute_reply": "2023-01-31T15:59:58.577508Z",
          "shell.execute_reply.started": "2023-01-31T15:59:58.238264Z"
        },
        "papermill": {
          "duration": null,
          "end_time": null,
          "exception": null,
          "start_time": null,
          "status": "pending"
        },
        "tags": [],
        "id": "e7dd9847",
        "colab": {
          "base_uri": "https://localhost:8080/"
        },
        "outputId": "c70373ee-f64f-41de-af06-d3405d52a343"
      },
      "outputs": [
        {
          "output_type": "stream",
          "name": "stdout",
          "text": [
            "-------------------------------------------\n",
            "Accuracy: 91.731% (4.304%)\n",
            "-------------------------------------------\n",
            "CONFUSION MATRIX\n",
            "[[172  28]\n",
            " [ 15 305]]\n",
            "-------------------------------------------\n",
            "RECALL\n",
            "Recall Score (Mean): 95.312% (4.014%)\n",
            "-------------------------------------------\n",
            "PRECISION\n",
            "Precision Score (Mean): 91.799% (4.561%)\n",
            "-------------------------------------------\n",
            "-------------------------------------------\n",
            "ROC_AUC\n",
            "ROC_AUC Score (Mean): 94.523% (4.456%)\n"
          ]
        }
      ],
      "source": [
        "# Applying 10-Fold Cross Validation\n",
        "from sklearn.model_selection import cross_val_score\n",
        "scores = cross_val_score(clf_gini, X, y, cv = 10, scoring='accuracy')\n",
        "# print('Cross-validation scores:{}'.format(scores))\n",
        "\n",
        "print(\"-------------------------------------------\")\n",
        "\n",
        "# compute Average cross-validation score\n",
        "print(\"Accuracy: %.3f%% (%.3f%%)\" % (scores.mean()*100.0, scores.std()*100.0))\n",
        "\n",
        "print(\"-------------------------------------------\")\n",
        "\n",
        "# Confusion Matrix\n",
        "from sklearn.model_selection import cross_val_predict\n",
        "y_pred = cross_val_predict(clf_gini, X, y, cv=10)\n",
        "print(\"CONFUSION MATRIX\")\n",
        "cnf_matrix=confusion_matrix(y, y_pred)\n",
        "print(cnf_matrix)\n",
        "\n",
        "print(\"-------------------------------------------\")\n",
        "# Recall Score\n",
        "print('RECALL')\n",
        "recall = cross_val_score(clf_gini, X, y, cv = 10, scoring='recall')\n",
        "# print('Recall Score:{}'.format(recall))\n",
        "print(\"Recall Score (Mean): %.3f%% (%.3f%%)\" % (recall.mean()*100.0, recall.std()*100.0))\n",
        "\n",
        "print(\"-------------------------------------------\")\n",
        "\n",
        "# Recall Score\n",
        "print('PRECISION')\n",
        "precision = cross_val_score(clf_gini, X, y, cv = 10, scoring='precision')\n",
        "# print('Precision Score:{}'.format(precision))\n",
        "print(\"Precision Score (Mean): %.3f%% (%.3f%%)\" % (precision.mean()*100.0, precision.std()*100.0))\n",
        "\n",
        "print(\"-------------------------------------------\")\n",
        "\n",
        "# # F1 Score\n",
        "# print('F1-SCORE')\n",
        "# f1_score = {'f1_score' : make_scorer(f1_score)}\n",
        "# results = cross_validate(clf_gini, X, y, cv = 10, scoring=f1_score)\n",
        "# print (results)\n",
        "\n",
        "print(\"-------------------------------------------\")\n",
        "\n",
        "# ROC_AUC\n",
        "print('ROC_AUC')\n",
        "auc = cross_val_score(clf_gini, X, y, cv=10, scoring='roc_auc')\n",
        "# print('ROC_AUC Score:{}'.format(auc))\n",
        "print(\"ROC_AUC Score (Mean): %.3f%% (%.3f%%)\" % (auc.mean()*100.0, auc.std()*100.0))"
      ]
    },
    {
      "cell_type": "markdown",
      "id": "edcd6153",
      "metadata": {
        "papermill": {
          "duration": null,
          "end_time": null,
          "exception": null,
          "start_time": null,
          "status": "pending"
        },
        "tags": [],
        "id": "edcd6153"
      },
      "source": [
        "# **Random Forest**"
      ]
    },
    {
      "cell_type": "code",
      "execution_count": 101,
      "id": "5771d488",
      "metadata": {
        "execution": {
          "iopub.execute_input": "2023-01-31T15:59:58.581437Z",
          "iopub.status.busy": "2023-01-31T15:59:58.580663Z",
          "iopub.status.idle": "2023-01-31T15:59:58.767674Z",
          "shell.execute_reply": "2023-01-31T15:59:58.766583Z",
          "shell.execute_reply.started": "2023-01-31T15:59:58.581395Z"
        },
        "papermill": {
          "duration": null,
          "end_time": null,
          "exception": null,
          "start_time": null,
          "status": "pending"
        },
        "tags": [],
        "id": "5771d488",
        "colab": {
          "base_uri": "https://localhost:8080/"
        },
        "outputId": "acbc55b5-fcfa-4489-d568-7769b7e2568c"
      },
      "outputs": [
        {
          "output_type": "stream",
          "name": "stdout",
          "text": [
            "Accuracy Model: 98.07692307692307\n"
          ]
        }
      ],
      "source": [
        "from sklearn.ensemble import RandomForestClassifier\n",
        "rf_model = RandomForestClassifier(n_estimators=100, random_state=1)\n",
        "rf_model.fit(X_train,y_train)\n",
        "rf_pred=rf_model.predict(X_test)\n",
        "print(('Accuracy Model:'), accuracy_score(y_test,rf_pred)*100)"
      ]
    },
    {
      "cell_type": "code",
      "execution_count": 102,
      "id": "5fb54b93",
      "metadata": {
        "execution": {
          "iopub.execute_input": "2023-01-31T15:59:58.769678Z",
          "iopub.status.busy": "2023-01-31T15:59:58.769124Z",
          "iopub.status.idle": "2023-01-31T15:59:58.816538Z",
          "shell.execute_reply": "2023-01-31T15:59:58.815223Z",
          "shell.execute_reply.started": "2023-01-31T15:59:58.769643Z"
        },
        "papermill": {
          "duration": null,
          "end_time": null,
          "exception": null,
          "start_time": null,
          "status": "pending"
        },
        "tags": [],
        "id": "5fb54b93",
        "colab": {
          "base_uri": "https://localhost:8080/"
        },
        "outputId": "b89c8124-bdb3-4f7b-be19-9ff09774587d"
      },
      "outputs": [
        {
          "output_type": "stream",
          "name": "stdout",
          "text": [
            "Training set score: 1.0000\n",
            "Test set score: 0.9808\n"
          ]
        }
      ],
      "source": [
        "print('Training set score: {:.4f}'.format(rf_model.score(X_train, y_train)))\n",
        "print('Test set score: {:.4f}'.format(rf_model.score(X_test, y_test)))"
      ]
    },
    {
      "cell_type": "code",
      "source": [
        "print(classification_report(y_test, rf_pred))\n",
        "\n",
        "print(\"CONFUSION MATRIX\")\n",
        "cnf_matrix=confusion_matrix(y_test, rf_pred)\n",
        "print(cnf_matrix)"
      ],
      "metadata": {
        "id": "asKycOfAt5qf",
        "colab": {
          "base_uri": "https://localhost:8080/"
        },
        "outputId": "2af99b0f-c70c-4dc9-d899-702648efda24"
      },
      "id": "asKycOfAt5qf",
      "execution_count": 103,
      "outputs": [
        {
          "output_type": "stream",
          "name": "stdout",
          "text": [
            "              precision    recall  f1-score   support\n",
            "\n",
            "       False       1.00      0.95      0.97        38\n",
            "        True       0.97      1.00      0.99        66\n",
            "\n",
            "    accuracy                           0.98       104\n",
            "   macro avg       0.99      0.97      0.98       104\n",
            "weighted avg       0.98      0.98      0.98       104\n",
            "\n",
            "CONFUSION MATRIX\n",
            "[[36  2]\n",
            " [ 0 66]]\n"
          ]
        }
      ]
    },
    {
      "cell_type": "code",
      "execution_count": 104,
      "id": "2c4492df",
      "metadata": {
        "execution": {
          "iopub.execute_input": "2023-01-31T15:59:58.818327Z",
          "iopub.status.busy": "2023-01-31T15:59:58.817972Z",
          "iopub.status.idle": "2023-01-31T16:00:07.567660Z",
          "shell.execute_reply": "2023-01-31T16:00:07.566282Z",
          "shell.execute_reply.started": "2023-01-31T15:59:58.818295Z"
        },
        "papermill": {
          "duration": null,
          "end_time": null,
          "exception": null,
          "start_time": null,
          "status": "pending"
        },
        "tags": [],
        "id": "2c4492df",
        "colab": {
          "base_uri": "https://localhost:8080/"
        },
        "outputId": "2ae0b745-fe11-482b-e1d1-228075d5e720"
      },
      "outputs": [
        {
          "output_type": "stream",
          "name": "stdout",
          "text": [
            "Accuracy: 97.885% (2.500%)\n",
            "-------------------------------------------\n",
            "CONFUSION MATRIX\n",
            "[[196   4]\n",
            " [  7 313]]\n",
            "-------------------------------------------\n",
            "RECALL\n",
            "Recall Score (Mean): 97.812% (2.441%)\n",
            "-------------------------------------------\n",
            "PRECISION\n",
            "Precision Score (Mean): 98.749% (2.074%)\n",
            "-------------------------------------------\n",
            "ROC_AUC\n",
            "ROC_AUC Score (Mean): 99.672% (0.634%)\n"
          ]
        }
      ],
      "source": [
        "# Applying 10-Fold Cross Validation\n",
        "from sklearn.model_selection import cross_val_score\n",
        "scores = cross_val_score(rf_model, X, y, cv = 10, scoring='accuracy')\n",
        "# print('Cross-validation scores:{}'.format(scores))\n",
        "\n",
        "# print(\"-------------------------------------------\")\n",
        "\n",
        "# compute Average cross-validation score\n",
        "print(\"Accuracy: %.3f%% (%.3f%%)\" % (scores.mean()*100.0, scores.std()*100.0))\n",
        "\n",
        "print(\"-------------------------------------------\")\n",
        "\n",
        "# Confusion Matrix\n",
        "from sklearn.model_selection import cross_val_predict\n",
        "y_pred = cross_val_predict(rf_model, X, y, cv=10)\n",
        "print(\"CONFUSION MATRIX\")\n",
        "cnf_matrix=confusion_matrix(y, y_pred)\n",
        "print(cnf_matrix)\n",
        "\n",
        "print(\"-------------------------------------------\")\n",
        "# Recall Score\n",
        "print('RECALL')\n",
        "recall = cross_val_score(rf_model, X, y, cv = 10, scoring='recall')\n",
        "# print('Recall Score:{}'.format(recall))\n",
        "print(\"Recall Score (Mean): %.3f%% (%.3f%%)\" % (recall.mean()*100.0, recall.std()*100.0))\n",
        "\n",
        "print(\"-------------------------------------------\")\n",
        "\n",
        "# Recall Score\n",
        "print('PRECISION')\n",
        "precision = cross_val_score(rf_model, X, y, cv = 10, scoring='precision')\n",
        "# print('Precision Score:{}'.format(precision))\n",
        "print(\"Precision Score (Mean): %.3f%% (%.3f%%)\" % (precision.mean()*100.0, precision.std()*100.0))\n",
        "\n",
        "print(\"-------------------------------------------\")\n",
        "\n",
        "# # F1 Score\n",
        "# print('F1-SCORE')\n",
        "# f1_score = {'f1_score' : make_scorer(f1_score)}\n",
        "# results = cross_validate(rf_model, X, y, cv = 10, scoring=f1_score)\n",
        "# print (results)\n",
        "\n",
        "# print(\"-------------------------------------------\")\n",
        "\n",
        "# ROC_AUC\n",
        "print('ROC_AUC')\n",
        "auc = cross_val_score(rf_model, X, y, cv=10, scoring='roc_auc')\n",
        "# print('ROC_AUC Score:{}'.format(auc))\n",
        "print(\"ROC_AUC Score (Mean): %.3f%% (%.3f%%)\" % (auc.mean()*100.0, auc.std()*100.0))"
      ]
    },
    {
      "cell_type": "code",
      "source": [
        "param_grid = { \n",
        "    'n_estimators': [100,200, 500,1000],\n",
        "    'max_features': ['auto', 'sqrt', 'log2'],\n",
        "    'max_depth' : [4,5,6,7,8],\n",
        "    'criterion' :['gini', 'entropy']\n",
        "}\n"
      ],
      "metadata": {
        "id": "vZY9kpJdvRQp"
      },
      "id": "vZY9kpJdvRQp",
      "execution_count": 105,
      "outputs": []
    },
    {
      "cell_type": "code",
      "source": [
        "from sklearn.model_selection import GridSearchCV\n",
        "CV_rf = GridSearchCV(estimator=rf_model, param_grid=param_grid, cv= 10)\n",
        "CV_rf.fit(X_train, y_train)"
      ],
      "metadata": {
        "id": "o3dHlQWJvbG4",
        "colab": {
          "base_uri": "https://localhost:8080/"
        },
        "outputId": "1b4b1db4-83df-4632-ccb5-c584c2294f49"
      },
      "id": "o3dHlQWJvbG4",
      "execution_count": 106,
      "outputs": [
        {
          "output_type": "execute_result",
          "data": {
            "text/plain": [
              "GridSearchCV(cv=10, estimator=RandomForestClassifier(random_state=1),\n",
              "             param_grid={'criterion': ['gini', 'entropy'],\n",
              "                         'max_depth': [4, 5, 6, 7, 8],\n",
              "                         'max_features': ['auto', 'sqrt', 'log2'],\n",
              "                         'n_estimators': [100, 200, 500, 1000]})"
            ]
          },
          "metadata": {},
          "execution_count": 106
        }
      ]
    },
    {
      "cell_type": "code",
      "source": [
        "CV_rf.best_params_"
      ],
      "metadata": {
        "id": "ZzUjDKaMvprO",
        "colab": {
          "base_uri": "https://localhost:8080/"
        },
        "outputId": "c2e4e6f7-a6fe-47e0-eb19-d90951a223cc"
      },
      "id": "ZzUjDKaMvprO",
      "execution_count": 107,
      "outputs": [
        {
          "output_type": "execute_result",
          "data": {
            "text/plain": [
              "{'criterion': 'gini',\n",
              " 'max_depth': 8,\n",
              " 'max_features': 'auto',\n",
              " 'n_estimators': 500}"
            ]
          },
          "metadata": {},
          "execution_count": 107
        }
      ]
    },
    {
      "cell_type": "code",
      "source": [
        "rf2 = RandomForestClassifier(n_estimators = 500, max_depth = 8, max_features = 'auto', criterion = 'gini').fit(X_train, y_train)\n",
        "rf2_pred=rf2.predict(X_test)\n",
        "print(('Accuracy Model:'), accuracy_score(y_test,rf2_pred)*100)"
      ],
      "metadata": {
        "id": "i0SfWJNhyF12",
        "colab": {
          "base_uri": "https://localhost:8080/"
        },
        "outputId": "f67b3a3e-caf9-4c12-ef4d-7a2932700e46"
      },
      "id": "i0SfWJNhyF12",
      "execution_count": 108,
      "outputs": [
        {
          "output_type": "stream",
          "name": "stdout",
          "text": [
            "Accuracy Model: 98.07692307692307\n"
          ]
        }
      ]
    },
    {
      "cell_type": "code",
      "source": [
        "print(classification_report(y_test, rf2_pred))\n",
        "\n",
        "print(\"CONFUSION MATRIX\")\n",
        "cnf_matrix=confusion_matrix(y_test, rf2_pred)\n",
        "print(cnf_matrix)"
      ],
      "metadata": {
        "id": "BNg08HtWyurh",
        "colab": {
          "base_uri": "https://localhost:8080/"
        },
        "outputId": "5194a1b8-21f5-40c9-cb5c-5a5f7f56ab61"
      },
      "id": "BNg08HtWyurh",
      "execution_count": 109,
      "outputs": [
        {
          "output_type": "stream",
          "name": "stdout",
          "text": [
            "              precision    recall  f1-score   support\n",
            "\n",
            "       False       1.00      0.95      0.97        38\n",
            "        True       0.97      1.00      0.99        66\n",
            "\n",
            "    accuracy                           0.98       104\n",
            "   macro avg       0.99      0.97      0.98       104\n",
            "weighted avg       0.98      0.98      0.98       104\n",
            "\n",
            "CONFUSION MATRIX\n",
            "[[36  2]\n",
            " [ 0 66]]\n"
          ]
        }
      ]
    },
    {
      "cell_type": "code",
      "source": [
        "result = pd.DataFrame({'Actual':y_test,'Prediction' :rf2_pred})\n",
        "result.head(5)"
      ],
      "metadata": {
        "colab": {
          "base_uri": "https://localhost:8080/",
          "height": 206
        },
        "id": "Cj4-3cSjX5q_",
        "outputId": "4471d965-67f1-4d5f-b2a6-5e188d97b2c0"
      },
      "id": "Cj4-3cSjX5q_",
      "execution_count": 110,
      "outputs": [
        {
          "output_type": "execute_result",
          "data": {
            "text/plain": [
              "     Actual  Prediction\n",
              "273   False       False\n",
              "272   False       False\n",
              "329   False       False\n",
              "480   False       False\n",
              "173    True        True"
            ],
            "text/html": [
              "\n",
              "  <div id=\"df-28be5d99-e763-48b2-b2e1-8902a2780900\">\n",
              "    <div class=\"colab-df-container\">\n",
              "      <div>\n",
              "<style scoped>\n",
              "    .dataframe tbody tr th:only-of-type {\n",
              "        vertical-align: middle;\n",
              "    }\n",
              "\n",
              "    .dataframe tbody tr th {\n",
              "        vertical-align: top;\n",
              "    }\n",
              "\n",
              "    .dataframe thead th {\n",
              "        text-align: right;\n",
              "    }\n",
              "</style>\n",
              "<table border=\"1\" class=\"dataframe\">\n",
              "  <thead>\n",
              "    <tr style=\"text-align: right;\">\n",
              "      <th></th>\n",
              "      <th>Actual</th>\n",
              "      <th>Prediction</th>\n",
              "    </tr>\n",
              "  </thead>\n",
              "  <tbody>\n",
              "    <tr>\n",
              "      <th>273</th>\n",
              "      <td>False</td>\n",
              "      <td>False</td>\n",
              "    </tr>\n",
              "    <tr>\n",
              "      <th>272</th>\n",
              "      <td>False</td>\n",
              "      <td>False</td>\n",
              "    </tr>\n",
              "    <tr>\n",
              "      <th>329</th>\n",
              "      <td>False</td>\n",
              "      <td>False</td>\n",
              "    </tr>\n",
              "    <tr>\n",
              "      <th>480</th>\n",
              "      <td>False</td>\n",
              "      <td>False</td>\n",
              "    </tr>\n",
              "    <tr>\n",
              "      <th>173</th>\n",
              "      <td>True</td>\n",
              "      <td>True</td>\n",
              "    </tr>\n",
              "  </tbody>\n",
              "</table>\n",
              "</div>\n",
              "      <button class=\"colab-df-convert\" onclick=\"convertToInteractive('df-28be5d99-e763-48b2-b2e1-8902a2780900')\"\n",
              "              title=\"Convert this dataframe to an interactive table.\"\n",
              "              style=\"display:none;\">\n",
              "        \n",
              "  <svg xmlns=\"http://www.w3.org/2000/svg\" height=\"24px\"viewBox=\"0 0 24 24\"\n",
              "       width=\"24px\">\n",
              "    <path d=\"M0 0h24v24H0V0z\" fill=\"none\"/>\n",
              "    <path d=\"M18.56 5.44l.94 2.06.94-2.06 2.06-.94-2.06-.94-.94-2.06-.94 2.06-2.06.94zm-11 1L8.5 8.5l.94-2.06 2.06-.94-2.06-.94L8.5 2.5l-.94 2.06-2.06.94zm10 10l.94 2.06.94-2.06 2.06-.94-2.06-.94-.94-2.06-.94 2.06-2.06.94z\"/><path d=\"M17.41 7.96l-1.37-1.37c-.4-.4-.92-.59-1.43-.59-.52 0-1.04.2-1.43.59L10.3 9.45l-7.72 7.72c-.78.78-.78 2.05 0 2.83L4 21.41c.39.39.9.59 1.41.59.51 0 1.02-.2 1.41-.59l7.78-7.78 2.81-2.81c.8-.78.8-2.07 0-2.86zM5.41 20L4 18.59l7.72-7.72 1.47 1.35L5.41 20z\"/>\n",
              "  </svg>\n",
              "      </button>\n",
              "      \n",
              "  <style>\n",
              "    .colab-df-container {\n",
              "      display:flex;\n",
              "      flex-wrap:wrap;\n",
              "      gap: 12px;\n",
              "    }\n",
              "\n",
              "    .colab-df-convert {\n",
              "      background-color: #E8F0FE;\n",
              "      border: none;\n",
              "      border-radius: 50%;\n",
              "      cursor: pointer;\n",
              "      display: none;\n",
              "      fill: #1967D2;\n",
              "      height: 32px;\n",
              "      padding: 0 0 0 0;\n",
              "      width: 32px;\n",
              "    }\n",
              "\n",
              "    .colab-df-convert:hover {\n",
              "      background-color: #E2EBFA;\n",
              "      box-shadow: 0px 1px 2px rgba(60, 64, 67, 0.3), 0px 1px 3px 1px rgba(60, 64, 67, 0.15);\n",
              "      fill: #174EA6;\n",
              "    }\n",
              "\n",
              "    [theme=dark] .colab-df-convert {\n",
              "      background-color: #3B4455;\n",
              "      fill: #D2E3FC;\n",
              "    }\n",
              "\n",
              "    [theme=dark] .colab-df-convert:hover {\n",
              "      background-color: #434B5C;\n",
              "      box-shadow: 0px 1px 3px 1px rgba(0, 0, 0, 0.15);\n",
              "      filter: drop-shadow(0px 1px 2px rgba(0, 0, 0, 0.3));\n",
              "      fill: #FFFFFF;\n",
              "    }\n",
              "  </style>\n",
              "\n",
              "      <script>\n",
              "        const buttonEl =\n",
              "          document.querySelector('#df-28be5d99-e763-48b2-b2e1-8902a2780900 button.colab-df-convert');\n",
              "        buttonEl.style.display =\n",
              "          google.colab.kernel.accessAllowed ? 'block' : 'none';\n",
              "\n",
              "        async function convertToInteractive(key) {\n",
              "          const element = document.querySelector('#df-28be5d99-e763-48b2-b2e1-8902a2780900');\n",
              "          const dataTable =\n",
              "            await google.colab.kernel.invokeFunction('convertToInteractive',\n",
              "                                                     [key], {});\n",
              "          if (!dataTable) return;\n",
              "\n",
              "          const docLinkHtml = 'Like what you see? Visit the ' +\n",
              "            '<a target=\"_blank\" href=https://colab.research.google.com/notebooks/data_table.ipynb>data table notebook</a>'\n",
              "            + ' to learn more about interactive tables.';\n",
              "          element.innerHTML = '';\n",
              "          dataTable['output_type'] = 'display_data';\n",
              "          await google.colab.output.renderOutput(dataTable, element);\n",
              "          const docLink = document.createElement('div');\n",
              "          docLink.innerHTML = docLinkHtml;\n",
              "          element.appendChild(docLink);\n",
              "        }\n",
              "      </script>\n",
              "    </div>\n",
              "  </div>\n",
              "  "
            ]
          },
          "metadata": {},
          "execution_count": 110
        }
      ]
    },
    {
      "cell_type": "code",
      "source": [
        "unique, counts = np.unique(rf2_pred, return_counts=True)\n",
        "dict(zip(unique, counts))"
      ],
      "metadata": {
        "colab": {
          "base_uri": "https://localhost:8080/"
        },
        "id": "uWp4NoGXYJYD",
        "outputId": "3054b821-31e5-49cf-d594-3aed75e22ffa"
      },
      "id": "uWp4NoGXYJYD",
      "execution_count": 111,
      "outputs": [
        {
          "output_type": "execute_result",
          "data": {
            "text/plain": [
              "{False: 36, True: 68}"
            ]
          },
          "metadata": {},
          "execution_count": 111
        }
      ]
    },
    {
      "cell_type": "code",
      "source": [
        "f_list= list(X.columns)\n",
        "f_importance=pd.Series(rf2.feature_importances_, index=f_list).sort_values(ascending=False)\n",
        "\n",
        "print(f_importance)"
      ],
      "metadata": {
        "id": "ayE05LRvud7K",
        "colab": {
          "base_uri": "https://localhost:8080/"
        },
        "outputId": "96abba38-65c5-4143-ee36-ff4711088d4c"
      },
      "id": "ayE05LRvud7K",
      "execution_count": 112,
      "outputs": [
        {
          "output_type": "stream",
          "name": "stdout",
          "text": [
            "Polyuria              0.230549\n",
            "Polydipsia            0.196804\n",
            "Age                   0.088435\n",
            "Gender                0.080379\n",
            "partial_paresis       0.056238\n",
            "sudden_weight_loss    0.055062\n",
            "Alopecia              0.042276\n",
            "Irritability          0.040245\n",
            "Polyphagia            0.035403\n",
            "visual_blurring       0.031813\n",
            "delayed_healing       0.030570\n",
            "Itching               0.027250\n",
            "muscle_stiffness      0.023091\n",
            "weakness              0.021060\n",
            "Genital_thrush        0.020487\n",
            "Obesity               0.020336\n",
            "dtype: float64\n"
          ]
        }
      ]
    },
    {
      "cell_type": "code",
      "source": [
        "from sklearn.metrics import roc_curve\n",
        "from sklearn.metrics import RocCurveDisplay\n",
        "def plot_sklearn_roc_curve(y_test, rf2_pred):\n",
        "    fpr, tpr, _ = roc_curve(y_test, rf2_pred)\n",
        "    roc_display = RocCurveDisplay(fpr=fpr, tpr=tpr).plot()\n",
        "    roc_display.figure_.set_size_inches(5,5)\n",
        "    plt.plot([0, 1], [0, 1], color = 'g')\n",
        "# Plots the ROC curve using the sklearn methods - Bad plot\n",
        "plot_sklearn_roc_curve(y_test, rf2_pred)"
      ],
      "metadata": {
        "id": "gVcmL4YmjqKS",
        "colab": {
          "base_uri": "https://localhost:8080/",
          "height": 334
        },
        "outputId": "a06b410a-d7a1-4acd-a3a5-a9eb3ff7c7e7"
      },
      "id": "gVcmL4YmjqKS",
      "execution_count": 113,
      "outputs": [
        {
          "output_type": "display_data",
          "data": {
            "text/plain": [
              "<Figure size 360x360 with 1 Axes>"
            ],
            "image/png": "[encoded data removed]"
          },
          "metadata": {
            "needs_background": "light"
          }
        }
      ]
    },
    {
      "cell_type": "code",
      "source": [
        "def roc(y_test, y_pred_en):\n",
        "    fpr, tpr, _ = roc_curve(y_test, y_pred_en)\n",
        "    roc_display = RocCurveDisplay(fpr=fpr, tpr=tpr).plot()\n",
        "    roc_display.figure_.set_size_inches(5,5)\n",
        "    plt.plot([0, 1], [0, 1], color = 'g')\n",
        "# Plots the ROC curve using the sklearn methods - Bad plot\n",
        "roc(y_test, y_pred_en)"
      ],
      "metadata": {
        "id": "dcVpY6FakvmV",
        "colab": {
          "base_uri": "https://localhost:8080/",
          "height": 334
        },
        "outputId": "4bbb064e-f701-443c-ba68-6a5bcbc36c21"
      },
      "id": "dcVpY6FakvmV",
      "execution_count": 114,
      "outputs": [
        {
          "output_type": "display_data",
          "data": {
            "text/plain": [
              "<Figure size 360x360 with 1 Axes>"
            ],
            "image/png": "[encoded data removed]"
          },
          "metadata": {
            "needs_background": "light"
          }
        }
      ]
    }
  ],
  "metadata": {
    "kernelspec": {
      "display_name": "Python 3",
      "language": "python",
      "name": "python3"
    },
    "language_info": {
      "codemirror_mode": {
        "name": "ipython",
        "version": 3
      },
      "file_extension": ".py",
      "mimetype": "text/x-python",
      "name": "python",
      "nbconvert_exporter": "python",
      "pygments_lexer": "ipython3",
      "version": "3.7.12"
    },
    "papermill": {
      "default_parameters": {},
      "duration": 9.620945,
      "end_time": "2023-01-31T16:00:41.354604",
      "environment_variables": {},
      "exception": true,
      "input_path": "__notebook__.ipynb",
      "output_path": "__notebook__.ipynb",
      "parameters": {},
      "start_time": "2023-01-31T16:00:31.733659",
      "version": "2.3.4"
    },
    "colab": {
      "provenance": []
    }
  },
  "nbformat": 4,
  "nbformat_minor": 5
}