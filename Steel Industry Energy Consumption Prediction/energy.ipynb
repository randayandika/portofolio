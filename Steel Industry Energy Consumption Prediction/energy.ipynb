{
 "cells": [
  {
   "cell_type": "markdown",
   "id": "6629cd77",
   "metadata": {
    "papermill": {
     "duration": 0.01463,
     "end_time": "2023-01-28T14:44:13.824180",
     "exception": false,
     "start_time": "2023-01-28T14:44:13.809550",
     "status": "completed"
    },
    "tags": []
   },
   "source": [
    "# **DATA UNDERSTANDING**"
   ]
  },
  {
   "cell_type": "code",
   "execution_count": 1,
   "id": "0e850c08",
   "metadata": {
    "_cell_guid": "b1076dfc-b9ad-4769-8c92-a6c4dae69d19",
    "_uuid": "8f2839f25d086af736a60e9eeb907d3b93b6e0e5",
    "execution": {
     "iopub.execute_input": "2023-01-28T14:44:13.852931Z",
     "iopub.status.busy": "2023-01-28T14:44:13.852180Z",
     "iopub.status.idle": "2023-01-28T14:44:14.006911Z",
     "shell.execute_reply": "2023-01-28T14:44:14.005602Z"
    },
    "papermill": {
     "duration": 0.171867,
     "end_time": "2023-01-28T14:44:14.009649",
     "exception": false,
     "start_time": "2023-01-28T14:44:13.837782",
     "status": "completed"
    },
    "tags": []
   },
   "outputs": [
    {
     "data": {
      "text/html": [
       "<div>\n",
       "<style scoped>\n",
       "    .dataframe tbody tr th:only-of-type {\n",
       "        vertical-align: middle;\n",
       "    }\n",
       "\n",
       "    .dataframe tbody tr th {\n",
       "        vertical-align: top;\n",
       "    }\n",
       "\n",
       "    .dataframe thead th {\n",
       "        text-align: right;\n",
       "    }\n",
       "</style>\n",
       "<table border=\"1\" class=\"dataframe\">\n",
       "  <thead>\n",
       "    <tr style=\"text-align: right;\">\n",
       "      <th></th>\n",
       "      <th>date</th>\n",
       "      <th>Usage_kWh</th>\n",
       "      <th>Lagging_Current_Reactive.Power_kVarh</th>\n",
       "      <th>Leading_Current_Reactive_Power_kVarh</th>\n",
       "      <th>CO2(tCO2)</th>\n",
       "      <th>Lagging_Current_Power_Factor</th>\n",
       "      <th>Leading_Current_Power_Factor</th>\n",
       "      <th>NSM</th>\n",
       "      <th>WeekStatus</th>\n",
       "      <th>Day_of_week</th>\n",
       "      <th>Load_Type</th>\n",
       "    </tr>\n",
       "  </thead>\n",
       "  <tbody>\n",
       "    <tr>\n",
       "      <th>0</th>\n",
       "      <td>01/01/2018 00:15</td>\n",
       "      <td>3.17</td>\n",
       "      <td>2.95</td>\n",
       "      <td>0.0</td>\n",
       "      <td>0.0</td>\n",
       "      <td>73.21</td>\n",
       "      <td>100.0</td>\n",
       "      <td>900</td>\n",
       "      <td>Weekday</td>\n",
       "      <td>Monday</td>\n",
       "      <td>Light_Load</td>\n",
       "    </tr>\n",
       "    <tr>\n",
       "      <th>1</th>\n",
       "      <td>01/01/2018 00:30</td>\n",
       "      <td>4.00</td>\n",
       "      <td>4.46</td>\n",
       "      <td>0.0</td>\n",
       "      <td>0.0</td>\n",
       "      <td>66.77</td>\n",
       "      <td>100.0</td>\n",
       "      <td>1800</td>\n",
       "      <td>Weekday</td>\n",
       "      <td>Monday</td>\n",
       "      <td>Light_Load</td>\n",
       "    </tr>\n",
       "    <tr>\n",
       "      <th>2</th>\n",
       "      <td>01/01/2018 00:45</td>\n",
       "      <td>3.24</td>\n",
       "      <td>3.28</td>\n",
       "      <td>0.0</td>\n",
       "      <td>0.0</td>\n",
       "      <td>70.28</td>\n",
       "      <td>100.0</td>\n",
       "      <td>2700</td>\n",
       "      <td>Weekday</td>\n",
       "      <td>Monday</td>\n",
       "      <td>Light_Load</td>\n",
       "    </tr>\n",
       "    <tr>\n",
       "      <th>3</th>\n",
       "      <td>01/01/2018 01:00</td>\n",
       "      <td>3.31</td>\n",
       "      <td>3.56</td>\n",
       "      <td>0.0</td>\n",
       "      <td>0.0</td>\n",
       "      <td>68.09</td>\n",
       "      <td>100.0</td>\n",
       "      <td>3600</td>\n",
       "      <td>Weekday</td>\n",
       "      <td>Monday</td>\n",
       "      <td>Light_Load</td>\n",
       "    </tr>\n",
       "    <tr>\n",
       "      <th>4</th>\n",
       "      <td>01/01/2018 01:15</td>\n",
       "      <td>3.82</td>\n",
       "      <td>4.50</td>\n",
       "      <td>0.0</td>\n",
       "      <td>0.0</td>\n",
       "      <td>64.72</td>\n",
       "      <td>100.0</td>\n",
       "      <td>4500</td>\n",
       "      <td>Weekday</td>\n",
       "      <td>Monday</td>\n",
       "      <td>Light_Load</td>\n",
       "    </tr>\n",
       "  </tbody>\n",
       "</table>\n",
       "</div>"
      ],
      "text/plain": [
       "               date  Usage_kWh  Lagging_Current_Reactive.Power_kVarh  \\\n",
       "0  01/01/2018 00:15       3.17                                  2.95   \n",
       "1  01/01/2018 00:30       4.00                                  4.46   \n",
       "2  01/01/2018 00:45       3.24                                  3.28   \n",
       "3  01/01/2018 01:00       3.31                                  3.56   \n",
       "4  01/01/2018 01:15       3.82                                  4.50   \n",
       "\n",
       "   Leading_Current_Reactive_Power_kVarh  CO2(tCO2)  \\\n",
       "0                                   0.0        0.0   \n",
       "1                                   0.0        0.0   \n",
       "2                                   0.0        0.0   \n",
       "3                                   0.0        0.0   \n",
       "4                                   0.0        0.0   \n",
       "\n",
       "   Lagging_Current_Power_Factor  Leading_Current_Power_Factor   NSM  \\\n",
       "0                         73.21                         100.0   900   \n",
       "1                         66.77                         100.0  1800   \n",
       "2                         70.28                         100.0  2700   \n",
       "3                         68.09                         100.0  3600   \n",
       "4                         64.72                         100.0  4500   \n",
       "\n",
       "  WeekStatus Day_of_week   Load_Type  \n",
       "0    Weekday      Monday  Light_Load  \n",
       "1    Weekday      Monday  Light_Load  \n",
       "2    Weekday      Monday  Light_Load  \n",
       "3    Weekday      Monday  Light_Load  \n",
       "4    Weekday      Monday  Light_Load  "
      ]
     },
     "execution_count": 1,
     "metadata": {},
     "output_type": "execute_result"
    }
   ],
   "source": [
    "import numpy as np\n",
    "import pandas as pd\n",
    "# Import and read dataset\n",
    "df = pd.read_csv('/kaggle/input/teel-industry-data/Steel_industry_datasets.csv')\n",
    "df.head(5)"
   ]
  },
  {
   "cell_type": "code",
   "execution_count": 2,
   "id": "90f45394",
   "metadata": {
    "execution": {
     "iopub.execute_input": "2023-01-28T14:44:14.039175Z",
     "iopub.status.busy": "2023-01-28T14:44:14.038728Z",
     "iopub.status.idle": "2023-01-28T14:44:14.046304Z",
     "shell.execute_reply": "2023-01-28T14:44:14.045044Z"
    },
    "papermill": {
     "duration": 0.024422,
     "end_time": "2023-01-28T14:44:14.048535",
     "exception": false,
     "start_time": "2023-01-28T14:44:14.024113",
     "status": "completed"
    },
    "tags": []
   },
   "outputs": [
    {
     "data": {
      "text/plain": [
       "(35040, 11)"
      ]
     },
     "execution_count": 2,
     "metadata": {},
     "output_type": "execute_result"
    }
   ],
   "source": [
    "df.shape"
   ]
  },
  {
   "cell_type": "code",
   "execution_count": 3,
   "id": "18be87cc",
   "metadata": {
    "execution": {
     "iopub.execute_input": "2023-01-28T14:44:14.075861Z",
     "iopub.status.busy": "2023-01-28T14:44:14.075385Z",
     "iopub.status.idle": "2023-01-28T14:44:14.084856Z",
     "shell.execute_reply": "2023-01-28T14:44:14.083711Z"
    },
    "papermill": {
     "duration": 0.026027,
     "end_time": "2023-01-28T14:44:14.087256",
     "exception": false,
     "start_time": "2023-01-28T14:44:14.061229",
     "status": "completed"
    },
    "tags": []
   },
   "outputs": [
    {
     "data": {
      "text/plain": [
       "date                                     object\n",
       "Usage_kWh                               float64\n",
       "Lagging_Current_Reactive.Power_kVarh    float64\n",
       "Leading_Current_Reactive_Power_kVarh    float64\n",
       "CO2(tCO2)                               float64\n",
       "Lagging_Current_Power_Factor            float64\n",
       "Leading_Current_Power_Factor            float64\n",
       "NSM                                       int64\n",
       "WeekStatus                               object\n",
       "Day_of_week                              object\n",
       "Load_Type                                object\n",
       "dtype: object"
      ]
     },
     "execution_count": 3,
     "metadata": {},
     "output_type": "execute_result"
    }
   ],
   "source": [
    "df.dtypes"
   ]
  },
  {
   "cell_type": "code",
   "execution_count": 4,
   "id": "cb5712d4",
   "metadata": {
    "execution": {
     "iopub.execute_input": "2023-01-28T14:44:14.115575Z",
     "iopub.status.busy": "2023-01-28T14:44:14.115181Z",
     "iopub.status.idle": "2023-01-28T14:44:14.148454Z",
     "shell.execute_reply": "2023-01-28T14:44:14.147128Z"
    },
    "papermill": {
     "duration": 0.050681,
     "end_time": "2023-01-28T14:44:14.151199",
     "exception": false,
     "start_time": "2023-01-28T14:44:14.100518",
     "status": "completed"
    },
    "tags": []
   },
   "outputs": [
    {
     "name": "stdout",
     "output_type": "stream",
     "text": [
      "<class 'pandas.core.frame.DataFrame'>\n",
      "RangeIndex: 35040 entries, 0 to 35039\n",
      "Data columns (total 11 columns):\n",
      " #   Column                                Non-Null Count  Dtype  \n",
      "---  ------                                --------------  -----  \n",
      " 0   date                                  35040 non-null  object \n",
      " 1   Usage_kWh                             35040 non-null  float64\n",
      " 2   Lagging_Current_Reactive.Power_kVarh  35040 non-null  float64\n",
      " 3   Leading_Current_Reactive_Power_kVarh  35040 non-null  float64\n",
      " 4   CO2(tCO2)                             35040 non-null  float64\n",
      " 5   Lagging_Current_Power_Factor          35040 non-null  float64\n",
      " 6   Leading_Current_Power_Factor          35040 non-null  float64\n",
      " 7   NSM                                   35040 non-null  int64  \n",
      " 8   WeekStatus                            35040 non-null  object \n",
      " 9   Day_of_week                           35040 non-null  object \n",
      " 10  Load_Type                             35040 non-null  object \n",
      "dtypes: float64(6), int64(1), object(4)\n",
      "memory usage: 2.9+ MB\n"
     ]
    }
   ],
   "source": [
    "df.info()"
   ]
  },
  {
   "cell_type": "code",
   "execution_count": 5,
   "id": "ab4d1e1d",
   "metadata": {
    "execution": {
     "iopub.execute_input": "2023-01-28T14:44:14.179951Z",
     "iopub.status.busy": "2023-01-28T14:44:14.179537Z",
     "iopub.status.idle": "2023-01-28T14:44:14.226044Z",
     "shell.execute_reply": "2023-01-28T14:44:14.225114Z"
    },
    "papermill": {
     "duration": 0.063675,
     "end_time": "2023-01-28T14:44:14.228326",
     "exception": false,
     "start_time": "2023-01-28T14:44:14.164651",
     "status": "completed"
    },
    "tags": []
   },
   "outputs": [
    {
     "data": {
      "text/html": [
       "<div>\n",
       "<style scoped>\n",
       "    .dataframe tbody tr th:only-of-type {\n",
       "        vertical-align: middle;\n",
       "    }\n",
       "\n",
       "    .dataframe tbody tr th {\n",
       "        vertical-align: top;\n",
       "    }\n",
       "\n",
       "    .dataframe thead th {\n",
       "        text-align: right;\n",
       "    }\n",
       "</style>\n",
       "<table border=\"1\" class=\"dataframe\">\n",
       "  <thead>\n",
       "    <tr style=\"text-align: right;\">\n",
       "      <th></th>\n",
       "      <th>Usage_kWh</th>\n",
       "      <th>Lagging_Current_Reactive.Power_kVarh</th>\n",
       "      <th>Leading_Current_Reactive_Power_kVarh</th>\n",
       "      <th>CO2(tCO2)</th>\n",
       "      <th>Lagging_Current_Power_Factor</th>\n",
       "      <th>Leading_Current_Power_Factor</th>\n",
       "      <th>NSM</th>\n",
       "    </tr>\n",
       "  </thead>\n",
       "  <tbody>\n",
       "    <tr>\n",
       "      <th>count</th>\n",
       "      <td>35040.000000</td>\n",
       "      <td>35040.000000</td>\n",
       "      <td>35040.000000</td>\n",
       "      <td>35040.000000</td>\n",
       "      <td>35040.000000</td>\n",
       "      <td>35040.000000</td>\n",
       "      <td>35040.000000</td>\n",
       "    </tr>\n",
       "    <tr>\n",
       "      <th>mean</th>\n",
       "      <td>27.386892</td>\n",
       "      <td>13.035384</td>\n",
       "      <td>3.870949</td>\n",
       "      <td>0.011524</td>\n",
       "      <td>80.578056</td>\n",
       "      <td>84.367870</td>\n",
       "      <td>42750.000000</td>\n",
       "    </tr>\n",
       "    <tr>\n",
       "      <th>std</th>\n",
       "      <td>33.444380</td>\n",
       "      <td>16.306000</td>\n",
       "      <td>7.424463</td>\n",
       "      <td>0.016151</td>\n",
       "      <td>18.921322</td>\n",
       "      <td>30.456535</td>\n",
       "      <td>24940.534317</td>\n",
       "    </tr>\n",
       "    <tr>\n",
       "      <th>min</th>\n",
       "      <td>0.000000</td>\n",
       "      <td>0.000000</td>\n",
       "      <td>0.000000</td>\n",
       "      <td>0.000000</td>\n",
       "      <td>0.000000</td>\n",
       "      <td>0.000000</td>\n",
       "      <td>0.000000</td>\n",
       "    </tr>\n",
       "    <tr>\n",
       "      <th>25%</th>\n",
       "      <td>3.200000</td>\n",
       "      <td>2.300000</td>\n",
       "      <td>0.000000</td>\n",
       "      <td>0.000000</td>\n",
       "      <td>63.320000</td>\n",
       "      <td>99.700000</td>\n",
       "      <td>21375.000000</td>\n",
       "    </tr>\n",
       "    <tr>\n",
       "      <th>50%</th>\n",
       "      <td>4.570000</td>\n",
       "      <td>5.000000</td>\n",
       "      <td>0.000000</td>\n",
       "      <td>0.000000</td>\n",
       "      <td>87.960000</td>\n",
       "      <td>100.000000</td>\n",
       "      <td>42750.000000</td>\n",
       "    </tr>\n",
       "    <tr>\n",
       "      <th>75%</th>\n",
       "      <td>51.237500</td>\n",
       "      <td>22.640000</td>\n",
       "      <td>2.090000</td>\n",
       "      <td>0.020000</td>\n",
       "      <td>99.022500</td>\n",
       "      <td>100.000000</td>\n",
       "      <td>64125.000000</td>\n",
       "    </tr>\n",
       "    <tr>\n",
       "      <th>max</th>\n",
       "      <td>157.180000</td>\n",
       "      <td>96.910000</td>\n",
       "      <td>27.760000</td>\n",
       "      <td>0.070000</td>\n",
       "      <td>100.000000</td>\n",
       "      <td>100.000000</td>\n",
       "      <td>85500.000000</td>\n",
       "    </tr>\n",
       "  </tbody>\n",
       "</table>\n",
       "</div>"
      ],
      "text/plain": [
       "          Usage_kWh  Lagging_Current_Reactive.Power_kVarh  \\\n",
       "count  35040.000000                          35040.000000   \n",
       "mean      27.386892                             13.035384   \n",
       "std       33.444380                             16.306000   \n",
       "min        0.000000                              0.000000   \n",
       "25%        3.200000                              2.300000   \n",
       "50%        4.570000                              5.000000   \n",
       "75%       51.237500                             22.640000   \n",
       "max      157.180000                             96.910000   \n",
       "\n",
       "       Leading_Current_Reactive_Power_kVarh     CO2(tCO2)  \\\n",
       "count                          35040.000000  35040.000000   \n",
       "mean                               3.870949      0.011524   \n",
       "std                                7.424463      0.016151   \n",
       "min                                0.000000      0.000000   \n",
       "25%                                0.000000      0.000000   \n",
       "50%                                0.000000      0.000000   \n",
       "75%                                2.090000      0.020000   \n",
       "max                               27.760000      0.070000   \n",
       "\n",
       "       Lagging_Current_Power_Factor  Leading_Current_Power_Factor  \\\n",
       "count                  35040.000000                  35040.000000   \n",
       "mean                      80.578056                     84.367870   \n",
       "std                       18.921322                     30.456535   \n",
       "min                        0.000000                      0.000000   \n",
       "25%                       63.320000                     99.700000   \n",
       "50%                       87.960000                    100.000000   \n",
       "75%                       99.022500                    100.000000   \n",
       "max                      100.000000                    100.000000   \n",
       "\n",
       "                NSM  \n",
       "count  35040.000000  \n",
       "mean   42750.000000  \n",
       "std    24940.534317  \n",
       "min        0.000000  \n",
       "25%    21375.000000  \n",
       "50%    42750.000000  \n",
       "75%    64125.000000  \n",
       "max    85500.000000  "
      ]
     },
     "execution_count": 5,
     "metadata": {},
     "output_type": "execute_result"
    }
   ],
   "source": [
    "df.describe()"
   ]
  },
  {
   "cell_type": "code",
   "execution_count": 6,
   "id": "d6e519b2",
   "metadata": {
    "execution": {
     "iopub.execute_input": "2023-01-28T14:44:14.257996Z",
     "iopub.status.busy": "2023-01-28T14:44:14.257009Z",
     "iopub.status.idle": "2023-01-28T14:44:14.264623Z",
     "shell.execute_reply": "2023-01-28T14:44:14.263480Z"
    },
    "papermill": {
     "duration": 0.025434,
     "end_time": "2023-01-28T14:44:14.267046",
     "exception": false,
     "start_time": "2023-01-28T14:44:14.241612",
     "status": "completed"
    },
    "tags": []
   },
   "outputs": [
    {
     "data": {
      "text/plain": [
       "Index(['date', 'Usage_kWh', 'Lagging_Current_Reactive.Power_kVarh',\n",
       "       'Leading_Current_Reactive_Power_kVarh', 'CO2(tCO2)',\n",
       "       'Lagging_Current_Power_Factor', 'Leading_Current_Power_Factor', 'NSM',\n",
       "       'WeekStatus', 'Day_of_week', 'Load_Type'],\n",
       "      dtype='object')"
      ]
     },
     "execution_count": 6,
     "metadata": {},
     "output_type": "execute_result"
    }
   ],
   "source": [
    "df.columns"
   ]
  },
  {
   "cell_type": "code",
   "execution_count": 7,
   "id": "7105f773",
   "metadata": {
    "execution": {
     "iopub.execute_input": "2023-01-28T14:44:14.296560Z",
     "iopub.status.busy": "2023-01-28T14:44:14.295907Z",
     "iopub.status.idle": "2023-01-28T14:44:14.305589Z",
     "shell.execute_reply": "2023-01-28T14:44:14.304389Z"
    },
    "papermill": {
     "duration": 0.027192,
     "end_time": "2023-01-28T14:44:14.308308",
     "exception": false,
     "start_time": "2023-01-28T14:44:14.281116",
     "status": "completed"
    },
    "tags": []
   },
   "outputs": [
    {
     "data": {
      "text/plain": [
       "Index(['Usage_kWh', 'Lagging_Current_Reactive.Power_kVarh',\n",
       "       'Leading_Current_Reactive_Power_kVarh', 'CO2(tCO2)',\n",
       "       'Lagging_Current_Power_Factor', 'Leading_Current_Power_Factor', 'NSM'],\n",
       "      dtype='object')"
      ]
     },
     "execution_count": 7,
     "metadata": {},
     "output_type": "execute_result"
    }
   ],
   "source": [
    "numerical =  df.select_dtypes(include=[np.number])\n",
    "numerical.columns"
   ]
  },
  {
   "cell_type": "code",
   "execution_count": 8,
   "id": "9464f539",
   "metadata": {
    "execution": {
     "iopub.execute_input": "2023-01-28T14:44:14.339035Z",
     "iopub.status.busy": "2023-01-28T14:44:14.338262Z",
     "iopub.status.idle": "2023-01-28T14:44:14.348480Z",
     "shell.execute_reply": "2023-01-28T14:44:14.347380Z"
    },
    "papermill": {
     "duration": 0.028649,
     "end_time": "2023-01-28T14:44:14.351048",
     "exception": false,
     "start_time": "2023-01-28T14:44:14.322399",
     "status": "completed"
    },
    "tags": []
   },
   "outputs": [
    {
     "data": {
      "text/plain": [
       "Index(['date', 'WeekStatus', 'Day_of_week', 'Load_Type'], dtype='object')"
      ]
     },
     "execution_count": 8,
     "metadata": {},
     "output_type": "execute_result"
    }
   ],
   "source": [
    "categorical = df.select_dtypes(exclude=[np.number])\n",
    "categorical.columns"
   ]
  },
  {
   "cell_type": "code",
   "execution_count": 9,
   "id": "79b3d65f",
   "metadata": {
    "execution": {
     "iopub.execute_input": "2023-01-28T14:44:14.381972Z",
     "iopub.status.busy": "2023-01-28T14:44:14.381524Z",
     "iopub.status.idle": "2023-01-28T14:44:14.388096Z",
     "shell.execute_reply": "2023-01-28T14:44:14.386637Z"
    },
    "papermill": {
     "duration": 0.02558,
     "end_time": "2023-01-28T14:44:14.390992",
     "exception": false,
     "start_time": "2023-01-28T14:44:14.365412",
     "status": "completed"
    },
    "tags": []
   },
   "outputs": [],
   "source": [
    "df.rename(columns = {'Lagging_Current_Reactive.Power_kVarh':'Lagging_Current_Reactive'}, inplace = True)\n",
    "df.rename(columns = {'CO2(tCO2)':'co2'}, inplace = True)"
   ]
  },
  {
   "cell_type": "markdown",
   "id": "8ada98e1",
   "metadata": {
    "papermill": {
     "duration": 0.013331,
     "end_time": "2023-01-28T14:44:14.418228",
     "exception": false,
     "start_time": "2023-01-28T14:44:14.404897",
     "status": "completed"
    },
    "tags": []
   },
   "source": [
    "# **EDA & DATA VISUALIZATION**"
   ]
  },
  {
   "cell_type": "code",
   "execution_count": 10,
   "id": "ca238f9f",
   "metadata": {
    "execution": {
     "iopub.execute_input": "2023-01-28T14:44:14.448200Z",
     "iopub.status.busy": "2023-01-28T14:44:14.447458Z",
     "iopub.status.idle": "2023-01-28T14:44:17.475730Z",
     "shell.execute_reply": "2023-01-28T14:44:17.474503Z"
    },
    "papermill": {
     "duration": 3.046602,
     "end_time": "2023-01-28T14:44:17.478434",
     "exception": false,
     "start_time": "2023-01-28T14:44:14.431832",
     "status": "completed"
    },
    "tags": []
   },
   "outputs": [
    {
     "name": "stderr",
     "output_type": "stream",
     "text": [
      "/opt/conda/lib/python3.7/site-packages/seaborn/distributions.py:2619: FutureWarning: `distplot` is a deprecated function and will be removed in a future version. Please adapt your code to use either `displot` (a figure-level function with similar flexibility) or `histplot` (an axes-level function for histograms).\n",
      "  warnings.warn(msg, FutureWarning)\n"
     ]
    },
    {
     "data": {
      "image/png": "[encoded data removed]",
      "text/plain": [
       "<Figure size 1440x576 with 2 Axes>"
      ]
     },
     "metadata": {
      "needs_background": "light"
     },
     "output_type": "display_data"
    }
   ],
   "source": [
    "import plotly.express as px\n",
    "import seaborn as sns\n",
    "import matplotlib.pyplot as plt\n",
    "\n",
    "plt.figure(figsize=(20,8))\n",
    "\n",
    "plt.subplot(1,2,1)\n",
    "plt.title('Usage kWh Distribution Plot')\n",
    "sns.distplot(df.Usage_kWh)\n",
    "\n",
    "plt.subplot(1,2,2)\n",
    "plt.title('Usage kWh Spread')\n",
    "sns.boxplot(y=df.Usage_kWh)\n",
    "\n",
    "plt.show()"
   ]
  },
  {
   "cell_type": "code",
   "execution_count": 11,
   "id": "431f09b7",
   "metadata": {
    "execution": {
     "iopub.execute_input": "2023-01-28T14:44:17.509904Z",
     "iopub.status.busy": "2023-01-28T14:44:17.509080Z",
     "iopub.status.idle": "2023-01-28T14:44:18.151872Z",
     "shell.execute_reply": "2023-01-28T14:44:18.150705Z"
    },
    "papermill": {
     "duration": 0.66138,
     "end_time": "2023-01-28T14:44:18.154574",
     "exception": false,
     "start_time": "2023-01-28T14:44:17.493194",
     "status": "completed"
    },
    "tags": []
   },
   "outputs": [
    {
     "name": "stderr",
     "output_type": "stream",
     "text": [
      "/opt/conda/lib/python3.7/site-packages/seaborn/distributions.py:2619: FutureWarning: `distplot` is a deprecated function and will be removed in a future version. Please adapt your code to use either `displot` (a figure-level function with similar flexibility) or `histplot` (an axes-level function for histograms).\n",
      "  warnings.warn(msg, FutureWarning)\n"
     ]
    },
    {
     "data": {
      "image/png": "[encoded data removed]",
      "text/plain": [
       "<Figure size 1440x576 with 2 Axes>"
      ]
     },
     "metadata": {
      "needs_background": "light"
     },
     "output_type": "display_data"
    }
   ],
   "source": [
    "plt.figure(figsize=(20,8))\n",
    "\n",
    "plt.subplot(1,2,1)\n",
    "plt.title('Lagging_Current_Reactive.Power_kVarh Distribution Plot')\n",
    "sns.distplot(df.Lagging_Current_Reactive)\n",
    "\n",
    "plt.subplot(1,2,2)\n",
    "plt.title('Lagging_Current_Reactive.Power_kVarh Spread')\n",
    "sns.boxplot(y=df.Lagging_Current_Reactive)\n",
    "\n",
    "plt.show()"
   ]
  },
  {
   "cell_type": "code",
   "execution_count": 12,
   "id": "80c83463",
   "metadata": {
    "execution": {
     "iopub.execute_input": "2023-01-28T14:44:18.186010Z",
     "iopub.status.busy": "2023-01-28T14:44:18.185537Z",
     "iopub.status.idle": "2023-01-28T14:44:18.933001Z",
     "shell.execute_reply": "2023-01-28T14:44:18.931729Z"
    },
    "papermill": {
     "duration": 0.76664,
     "end_time": "2023-01-28T14:44:18.935840",
     "exception": false,
     "start_time": "2023-01-28T14:44:18.169200",
     "status": "completed"
    },
    "tags": []
   },
   "outputs": [
    {
     "name": "stderr",
     "output_type": "stream",
     "text": [
      "/opt/conda/lib/python3.7/site-packages/seaborn/distributions.py:2619: FutureWarning: `distplot` is a deprecated function and will be removed in a future version. Please adapt your code to use either `displot` (a figure-level function with similar flexibility) or `histplot` (an axes-level function for histograms).\n",
      "  warnings.warn(msg, FutureWarning)\n"
     ]
    },
    {
     "data": {
      "image/png": "[encoded data removed]",
      "text/plain": [
       "<Figure size 1440x576 with 2 Axes>"
      ]
     },
     "metadata": {
      "needs_background": "light"
     },
     "output_type": "display_data"
    }
   ],
   "source": [
    "plt.figure(figsize=(20,8))\n",
    "\n",
    "plt.subplot(1,2,1)\n",
    "plt.title('CO2 Distribution Plot')\n",
    "sns.distplot(df.co2)\n",
    "\n",
    "plt.subplot(1,2,2)\n",
    "plt.title('CO2 Spread')\n",
    "sns.boxplot(y=df.co2)\n",
    "\n",
    "plt.show()"
   ]
  },
  {
   "cell_type": "code",
   "execution_count": 13,
   "id": "cc09eca6",
   "metadata": {
    "execution": {
     "iopub.execute_input": "2023-01-28T14:44:18.969132Z",
     "iopub.status.busy": "2023-01-28T14:44:18.968504Z",
     "iopub.status.idle": "2023-01-28T14:44:19.592998Z",
     "shell.execute_reply": "2023-01-28T14:44:19.591865Z"
    },
    "papermill": {
     "duration": 0.644154,
     "end_time": "2023-01-28T14:44:19.595776",
     "exception": false,
     "start_time": "2023-01-28T14:44:18.951622",
     "status": "completed"
    },
    "tags": []
   },
   "outputs": [
    {
     "name": "stderr",
     "output_type": "stream",
     "text": [
      "/opt/conda/lib/python3.7/site-packages/seaborn/distributions.py:2619: FutureWarning: `distplot` is a deprecated function and will be removed in a future version. Please adapt your code to use either `displot` (a figure-level function with similar flexibility) or `histplot` (an axes-level function for histograms).\n",
      "  warnings.warn(msg, FutureWarning)\n"
     ]
    },
    {
     "data": {
      "image/png": "[encoded data removed]",
      "text/plain": [
       "<Figure size 1440x576 with 2 Axes>"
      ]
     },
     "metadata": {
      "needs_background": "light"
     },
     "output_type": "display_data"
    }
   ],
   "source": [
    "plt.figure(figsize=(20,8))\n",
    "\n",
    "plt.subplot(1,2,1)\n",
    "plt.title('Leading_Current_Reactive_Power_kVarh Distribution Plot')\n",
    "sns.distplot(df.Leading_Current_Reactive_Power_kVarh)\n",
    "\n",
    "plt.subplot(1,2,2)\n",
    "plt.title('Leading_Current_Reactive_Power_kVarh Spread')\n",
    "sns.boxplot(y=df.Leading_Current_Reactive_Power_kVarh)\n",
    "\n",
    "plt.show()"
   ]
  },
  {
   "cell_type": "code",
   "execution_count": 14,
   "id": "8e6f1c9d",
   "metadata": {
    "execution": {
     "iopub.execute_input": "2023-01-28T14:44:19.629635Z",
     "iopub.status.busy": "2023-01-28T14:44:19.629216Z",
     "iopub.status.idle": "2023-01-28T14:44:20.202305Z",
     "shell.execute_reply": "2023-01-28T14:44:20.200883Z"
    },
    "papermill": {
     "duration": 0.593018,
     "end_time": "2023-01-28T14:44:20.205076",
     "exception": false,
     "start_time": "2023-01-28T14:44:19.612058",
     "status": "completed"
    },
    "tags": []
   },
   "outputs": [
    {
     "name": "stderr",
     "output_type": "stream",
     "text": [
      "/opt/conda/lib/python3.7/site-packages/seaborn/distributions.py:2619: FutureWarning: `distplot` is a deprecated function and will be removed in a future version. Please adapt your code to use either `displot` (a figure-level function with similar flexibility) or `histplot` (an axes-level function for histograms).\n",
      "  warnings.warn(msg, FutureWarning)\n"
     ]
    },
    {
     "data": {
      "image/png": "[encoded data removed]",
      "text/plain": [
       "<Figure size 1440x576 with 2 Axes>"
      ]
     },
     "metadata": {
      "needs_background": "light"
     },
     "output_type": "display_data"
    }
   ],
   "source": [
    "plt.figure(figsize=(20,8))\n",
    "\n",
    "plt.subplot(1,2,1)\n",
    "plt.title('Lagging_Current_Power_Factor Distribution Plot')\n",
    "sns.distplot(df.Lagging_Current_Power_Factor)\n",
    "\n",
    "plt.subplot(1,2,2)\n",
    "plt.title('Lagging_Current_Power_Factor Spread')\n",
    "sns.boxplot(y=df.Lagging_Current_Power_Factor)\n",
    "\n",
    "plt.show()"
   ]
  },
  {
   "cell_type": "code",
   "execution_count": 15,
   "id": "dfcc467c",
   "metadata": {
    "execution": {
     "iopub.execute_input": "2023-01-28T14:44:20.240240Z",
     "iopub.status.busy": "2023-01-28T14:44:20.239444Z",
     "iopub.status.idle": "2023-01-28T14:44:20.810889Z",
     "shell.execute_reply": "2023-01-28T14:44:20.809701Z"
    },
    "papermill": {
     "duration": 0.591795,
     "end_time": "2023-01-28T14:44:20.813427",
     "exception": false,
     "start_time": "2023-01-28T14:44:20.221632",
     "status": "completed"
    },
    "tags": []
   },
   "outputs": [
    {
     "name": "stderr",
     "output_type": "stream",
     "text": [
      "/opt/conda/lib/python3.7/site-packages/seaborn/distributions.py:2619: FutureWarning: `distplot` is a deprecated function and will be removed in a future version. Please adapt your code to use either `displot` (a figure-level function with similar flexibility) or `histplot` (an axes-level function for histograms).\n",
      "  warnings.warn(msg, FutureWarning)\n"
     ]
    },
    {
     "data": {
      "image/png": "[encoded data removed]",
      "text/plain": [
       "<Figure size 1440x576 with 2 Axes>"
      ]
     },
     "metadata": {
      "needs_background": "light"
     },
     "output_type": "display_data"
    }
   ],
   "source": [
    "plt.figure(figsize=(20,8))\n",
    "\n",
    "plt.subplot(1,2,1)\n",
    "plt.title('Leading_Current_Power_Factor Distribution Plot')\n",
    "sns.distplot(df.Leading_Current_Power_Factor)\n",
    "\n",
    "plt.subplot(1,2,2)\n",
    "plt.title('Leading_Current_Power_Factor Spread')\n",
    "sns.boxplot(y=df.Leading_Current_Power_Factor)\n",
    "\n",
    "plt.show()"
   ]
  },
  {
   "cell_type": "code",
   "execution_count": 16,
   "id": "423c7169",
   "metadata": {
    "execution": {
     "iopub.execute_input": "2023-01-28T14:44:20.850381Z",
     "iopub.status.busy": "2023-01-28T14:44:20.849649Z",
     "iopub.status.idle": "2023-01-28T14:44:21.416224Z",
     "shell.execute_reply": "2023-01-28T14:44:21.415034Z"
    },
    "papermill": {
     "duration": 0.587911,
     "end_time": "2023-01-28T14:44:21.418946",
     "exception": false,
     "start_time": "2023-01-28T14:44:20.831035",
     "status": "completed"
    },
    "tags": []
   },
   "outputs": [
    {
     "name": "stderr",
     "output_type": "stream",
     "text": [
      "/opt/conda/lib/python3.7/site-packages/seaborn/distributions.py:2619: FutureWarning: `distplot` is a deprecated function and will be removed in a future version. Please adapt your code to use either `displot` (a figure-level function with similar flexibility) or `histplot` (an axes-level function for histograms).\n",
      "  warnings.warn(msg, FutureWarning)\n"
     ]
    },
    {
     "data": {
      "image/png": "[encoded data removed]",
      "text/plain": [
       "<Figure size 1440x576 with 2 Axes>"
      ]
     },
     "metadata": {
      "needs_background": "light"
     },
     "output_type": "display_data"
    }
   ],
   "source": [
    "plt.figure(figsize=(20,8))\n",
    "\n",
    "plt.subplot(1,2,1)\n",
    "plt.title('NSM Distribution Plot')\n",
    "sns.distplot(df.NSM)\n",
    "\n",
    "plt.subplot(1,2,2)\n",
    "plt.title('NSM Spread')\n",
    "sns.boxplot(y=df.NSM)\n",
    "\n",
    "plt.show()"
   ]
  },
  {
   "cell_type": "code",
   "execution_count": 17,
   "id": "043c3861",
   "metadata": {
    "execution": {
     "iopub.execute_input": "2023-01-28T14:44:21.456792Z",
     "iopub.status.busy": "2023-01-28T14:44:21.456348Z",
     "iopub.status.idle": "2023-01-28T14:44:21.604587Z",
     "shell.execute_reply": "2023-01-28T14:44:21.602739Z"
    },
    "papermill": {
     "duration": 0.171991,
     "end_time": "2023-01-28T14:44:21.609215",
     "exception": false,
     "start_time": "2023-01-28T14:44:21.437224",
     "status": "completed"
    },
    "tags": []
   },
   "outputs": [
    {
     "data": {
      "image/png": "[encoded data removed]",
      "text/plain": [
       "<Figure size 360x360 with 1 Axes>"
      ]
     },
     "metadata": {},
     "output_type": "display_data"
    },
    {
     "data": {
      "text/plain": [
       "Weekday    25056\n",
       "Weekend     9984\n",
       "Name: WeekStatus, dtype: int64"
      ]
     },
     "execution_count": 17,
     "metadata": {},
     "output_type": "execute_result"
    }
   ],
   "source": [
    "df_pie=df.groupby(['WeekStatus'])['Usage_kWh'].sum().reset_index()\n",
    "plt.figure(figsize=(5,5))\n",
    "plt.title('WeekStatus')\n",
    "plt.pie(df_pie['Usage_kWh'], labels= df_pie['WeekStatus'],autopct='%1.2f%%',)\n",
    "plt.show()\n",
    "\n",
    "categorical.WeekStatus.value_counts()"
   ]
  },
  {
   "cell_type": "code",
   "execution_count": 18,
   "id": "0e65b5b1",
   "metadata": {
    "execution": {
     "iopub.execute_input": "2023-01-28T14:44:21.679958Z",
     "iopub.status.busy": "2023-01-28T14:44:21.679157Z",
     "iopub.status.idle": "2023-01-28T14:44:21.852328Z",
     "shell.execute_reply": "2023-01-28T14:44:21.850633Z"
    },
    "papermill": {
     "duration": 0.201423,
     "end_time": "2023-01-28T14:44:21.856894",
     "exception": false,
     "start_time": "2023-01-28T14:44:21.655471",
     "status": "completed"
    },
    "tags": []
   },
   "outputs": [
    {
     "data": {
      "image/png": "[encoded data removed]",
      "text/plain": [
       "<Figure size 360x360 with 1 Axes>"
      ]
     },
     "metadata": {},
     "output_type": "display_data"
    },
    {
     "data": {
      "text/plain": [
       "Monday       5088\n",
       "Tuesday      4992\n",
       "Wednesday    4992\n",
       "Thursday     4992\n",
       "Friday       4992\n",
       "Saturday     4992\n",
       "Sunday       4992\n",
       "Name: Day_of_week, dtype: int64"
      ]
     },
     "execution_count": 18,
     "metadata": {},
     "output_type": "execute_result"
    }
   ],
   "source": [
    "df_pie=df.groupby(['Day_of_week'])['Usage_kWh'].sum().reset_index()\n",
    "plt.figure(figsize=(5,5))\n",
    "plt.title('Day_of_week')\n",
    "plt.pie(df_pie['Usage_kWh'], labels= df_pie['Day_of_week'],autopct='%1.2f%%',)\n",
    "plt.show()\n",
    "\n",
    "categorical.Day_of_week.value_counts()"
   ]
  },
  {
   "cell_type": "code",
   "execution_count": 19,
   "id": "06e4bcfc",
   "metadata": {
    "execution": {
     "iopub.execute_input": "2023-01-28T14:44:21.915932Z",
     "iopub.status.busy": "2023-01-28T14:44:21.915179Z",
     "iopub.status.idle": "2023-01-28T14:44:22.049781Z",
     "shell.execute_reply": "2023-01-28T14:44:22.048035Z"
    },
    "papermill": {
     "duration": 0.159593,
     "end_time": "2023-01-28T14:44:22.054715",
     "exception": false,
     "start_time": "2023-01-28T14:44:21.895122",
     "status": "completed"
    },
    "tags": []
   },
   "outputs": [
    {
     "data": {
      "image/png": "[encoded data removed]",
      "text/plain": [
       "<Figure size 360x360 with 1 Axes>"
      ]
     },
     "metadata": {},
     "output_type": "display_data"
    },
    {
     "data": {
      "text/plain": [
       "Monday       5088\n",
       "Tuesday      4992\n",
       "Wednesday    4992\n",
       "Thursday     4992\n",
       "Friday       4992\n",
       "Saturday     4992\n",
       "Sunday       4992\n",
       "Name: Day_of_week, dtype: int64"
      ]
     },
     "execution_count": 19,
     "metadata": {},
     "output_type": "execute_result"
    }
   ],
   "source": [
    "df_pie=df.groupby(['Load_Type'])['Usage_kWh'].sum().reset_index()\n",
    "plt.figure(figsize=(5,5))\n",
    "plt.title('Load_Type')\n",
    "plt.pie(df_pie['Usage_kWh'], labels= df_pie['Load_Type'],autopct='%1.2f%%',)\n",
    "plt.show()\n",
    "\n",
    "categorical.Day_of_week.value_counts()"
   ]
  },
  {
   "cell_type": "code",
   "execution_count": 20,
   "id": "764ccf6d",
   "metadata": {
    "execution": {
     "iopub.execute_input": "2023-01-28T14:44:22.123543Z",
     "iopub.status.busy": "2023-01-28T14:44:22.122774Z",
     "iopub.status.idle": "2023-01-28T14:44:22.638432Z",
     "shell.execute_reply": "2023-01-28T14:44:22.637487Z"
    },
    "papermill": {
     "duration": 0.539562,
     "end_time": "2023-01-28T14:44:22.640984",
     "exception": false,
     "start_time": "2023-01-28T14:44:22.101422",
     "status": "completed"
    },
    "tags": []
   },
   "outputs": [
    {
     "data": {
      "image/png": "[encoded data removed]",
      "text/plain": [
       "<Figure size 1800x720 with 3 Axes>"
      ]
     },
     "metadata": {
      "needs_background": "light"
     },
     "output_type": "display_data"
    }
   ],
   "source": [
    "plt.figure(figsize=(25, 10))\n",
    "\n",
    "plt.subplot(1,3,1)\n",
    "plt1 = df.WeekStatus.value_counts().plot(kind='bar', color=\"#003f5c\")\n",
    "plt.title('WeekStatus Histogram')\n",
    "plt1.set(xlabel = 'WeekStatus', ylabel='Frequency of WeekStatus')\n",
    "\n",
    "plt.subplot(1,3,2)\n",
    "plt1 = df.Day_of_week.value_counts().plot(kind='bar',color=\"#bc5090\")\n",
    "plt.title('Day_of_week Histogram')\n",
    "plt1.set(xlabel = 'Day_of_week', ylabel='Frequency Day_of_week')\n",
    "\n",
    "plt.subplot(1,3,3)\n",
    "plt1 = df.Load_Type.value_counts().plot(kind='bar',color=\"#ffa600\")\n",
    "plt.title('Load_Type Histogram')\n",
    "plt1.set(xlabel = 'Load_Type', ylabel='Frequency of Load_Type')\n",
    "\n",
    "plt.show()"
   ]
  },
  {
   "cell_type": "code",
   "execution_count": 21,
   "id": "5290949b",
   "metadata": {
    "execution": {
     "iopub.execute_input": "2023-01-28T14:44:22.683158Z",
     "iopub.status.busy": "2023-01-28T14:44:22.682439Z",
     "iopub.status.idle": "2023-01-28T14:44:22.708045Z",
     "shell.execute_reply": "2023-01-28T14:44:22.706785Z"
    },
    "papermill": {
     "duration": 0.049708,
     "end_time": "2023-01-28T14:44:22.711123",
     "exception": false,
     "start_time": "2023-01-28T14:44:22.661415",
     "status": "completed"
    },
    "tags": []
   },
   "outputs": [
    {
     "data": {
      "text/html": [
       "<div>\n",
       "<style scoped>\n",
       "    .dataframe tbody tr th:only-of-type {\n",
       "        vertical-align: middle;\n",
       "    }\n",
       "\n",
       "    .dataframe tbody tr th {\n",
       "        vertical-align: top;\n",
       "    }\n",
       "\n",
       "    .dataframe thead th {\n",
       "        text-align: right;\n",
       "    }\n",
       "</style>\n",
       "<table border=\"1\" class=\"dataframe\">\n",
       "  <thead>\n",
       "    <tr style=\"text-align: right;\">\n",
       "      <th></th>\n",
       "      <th>Usage_kWh</th>\n",
       "      <th>Lagging_Current_Reactive</th>\n",
       "      <th>Leading_Current_Reactive_Power_kVarh</th>\n",
       "      <th>co2</th>\n",
       "      <th>Lagging_Current_Power_Factor</th>\n",
       "      <th>Leading_Current_Power_Factor</th>\n",
       "      <th>NSM</th>\n",
       "    </tr>\n",
       "  </thead>\n",
       "  <tbody>\n",
       "    <tr>\n",
       "      <th>Usage_kWh</th>\n",
       "      <td>1.000000</td>\n",
       "      <td>0.896150</td>\n",
       "      <td>-0.324922</td>\n",
       "      <td>0.988180</td>\n",
       "      <td>0.385960</td>\n",
       "      <td>0.353566</td>\n",
       "      <td>0.234610</td>\n",
       "    </tr>\n",
       "    <tr>\n",
       "      <th>Lagging_Current_Reactive</th>\n",
       "      <td>0.896150</td>\n",
       "      <td>1.000000</td>\n",
       "      <td>-0.405142</td>\n",
       "      <td>0.886948</td>\n",
       "      <td>0.144534</td>\n",
       "      <td>0.407716</td>\n",
       "      <td>0.082662</td>\n",
       "    </tr>\n",
       "    <tr>\n",
       "      <th>Leading_Current_Reactive_Power_kVarh</th>\n",
       "      <td>-0.324922</td>\n",
       "      <td>-0.405142</td>\n",
       "      <td>1.000000</td>\n",
       "      <td>-0.332777</td>\n",
       "      <td>0.526770</td>\n",
       "      <td>-0.944039</td>\n",
       "      <td>0.371605</td>\n",
       "    </tr>\n",
       "    <tr>\n",
       "      <th>co2</th>\n",
       "      <td>0.988180</td>\n",
       "      <td>0.886948</td>\n",
       "      <td>-0.332777</td>\n",
       "      <td>1.000000</td>\n",
       "      <td>0.379605</td>\n",
       "      <td>0.360019</td>\n",
       "      <td>0.231726</td>\n",
       "    </tr>\n",
       "    <tr>\n",
       "      <th>Lagging_Current_Power_Factor</th>\n",
       "      <td>0.385960</td>\n",
       "      <td>0.144534</td>\n",
       "      <td>0.526770</td>\n",
       "      <td>0.379605</td>\n",
       "      <td>1.000000</td>\n",
       "      <td>-0.519967</td>\n",
       "      <td>0.565270</td>\n",
       "    </tr>\n",
       "    <tr>\n",
       "      <th>Leading_Current_Power_Factor</th>\n",
       "      <td>0.353566</td>\n",
       "      <td>0.407716</td>\n",
       "      <td>-0.944039</td>\n",
       "      <td>0.360019</td>\n",
       "      <td>-0.519967</td>\n",
       "      <td>1.000000</td>\n",
       "      <td>-0.360563</td>\n",
       "    </tr>\n",
       "    <tr>\n",
       "      <th>NSM</th>\n",
       "      <td>0.234610</td>\n",
       "      <td>0.082662</td>\n",
       "      <td>0.371605</td>\n",
       "      <td>0.231726</td>\n",
       "      <td>0.565270</td>\n",
       "      <td>-0.360563</td>\n",
       "      <td>1.000000</td>\n",
       "    </tr>\n",
       "  </tbody>\n",
       "</table>\n",
       "</div>"
      ],
      "text/plain": [
       "                                      Usage_kWh  Lagging_Current_Reactive  \\\n",
       "Usage_kWh                              1.000000                  0.896150   \n",
       "Lagging_Current_Reactive               0.896150                  1.000000   \n",
       "Leading_Current_Reactive_Power_kVarh  -0.324922                 -0.405142   \n",
       "co2                                    0.988180                  0.886948   \n",
       "Lagging_Current_Power_Factor           0.385960                  0.144534   \n",
       "Leading_Current_Power_Factor           0.353566                  0.407716   \n",
       "NSM                                    0.234610                  0.082662   \n",
       "\n",
       "                                      Leading_Current_Reactive_Power_kVarh  \\\n",
       "Usage_kWh                                                        -0.324922   \n",
       "Lagging_Current_Reactive                                         -0.405142   \n",
       "Leading_Current_Reactive_Power_kVarh                              1.000000   \n",
       "co2                                                              -0.332777   \n",
       "Lagging_Current_Power_Factor                                      0.526770   \n",
       "Leading_Current_Power_Factor                                     -0.944039   \n",
       "NSM                                                               0.371605   \n",
       "\n",
       "                                           co2  Lagging_Current_Power_Factor  \\\n",
       "Usage_kWh                             0.988180                      0.385960   \n",
       "Lagging_Current_Reactive              0.886948                      0.144534   \n",
       "Leading_Current_Reactive_Power_kVarh -0.332777                      0.526770   \n",
       "co2                                   1.000000                      0.379605   \n",
       "Lagging_Current_Power_Factor          0.379605                      1.000000   \n",
       "Leading_Current_Power_Factor          0.360019                     -0.519967   \n",
       "NSM                                   0.231726                      0.565270   \n",
       "\n",
       "                                      Leading_Current_Power_Factor       NSM  \n",
       "Usage_kWh                                                 0.353566  0.234610  \n",
       "Lagging_Current_Reactive                                  0.407716  0.082662  \n",
       "Leading_Current_Reactive_Power_kVarh                     -0.944039  0.371605  \n",
       "co2                                                       0.360019  0.231726  \n",
       "Lagging_Current_Power_Factor                             -0.519967  0.565270  \n",
       "Leading_Current_Power_Factor                              1.000000 -0.360563  \n",
       "NSM                                                      -0.360563  1.000000  "
      ]
     },
     "execution_count": 21,
     "metadata": {},
     "output_type": "execute_result"
    }
   ],
   "source": [
    "df.corr()"
   ]
  },
  {
   "cell_type": "code",
   "execution_count": 22,
   "id": "264759ca",
   "metadata": {
    "execution": {
     "iopub.execute_input": "2023-01-28T14:44:22.754052Z",
     "iopub.status.busy": "2023-01-28T14:44:22.753600Z",
     "iopub.status.idle": "2023-01-28T14:44:23.112415Z",
     "shell.execute_reply": "2023-01-28T14:44:23.111270Z"
    },
    "papermill": {
     "duration": 0.383724,
     "end_time": "2023-01-28T14:44:23.115301",
     "exception": false,
     "start_time": "2023-01-28T14:44:22.731577",
     "status": "completed"
    },
    "tags": []
   },
   "outputs": [
    {
     "data": {
      "text/plain": [
       "<AxesSubplot:>"
      ]
     },
     "execution_count": 22,
     "metadata": {},
     "output_type": "execute_result"
    },
    {
     "data": {
      "image/png": "[encoded data removed]",
      "text/plain": [
       "<Figure size 432x288 with 2 Axes>"
      ]
     },
     "metadata": {
      "needs_background": "light"
     },
     "output_type": "display_data"
    }
   ],
   "source": [
    "sns.heatmap(df.corr())"
   ]
  },
  {
   "cell_type": "markdown",
   "id": "16b057bb",
   "metadata": {
    "papermill": {
     "duration": 0.02027,
     "end_time": "2023-01-28T14:44:23.156300",
     "exception": false,
     "start_time": "2023-01-28T14:44:23.136030",
     "status": "completed"
    },
    "tags": []
   },
   "source": [
    "# **DATA PREPROCESSING**"
   ]
  },
  {
   "cell_type": "code",
   "execution_count": 23,
   "id": "52a5601f",
   "metadata": {
    "execution": {
     "iopub.execute_input": "2023-01-28T14:44:23.199512Z",
     "iopub.status.busy": "2023-01-28T14:44:23.199064Z",
     "iopub.status.idle": "2023-01-28T14:44:23.216944Z",
     "shell.execute_reply": "2023-01-28T14:44:23.215640Z"
    },
    "papermill": {
     "duration": 0.042223,
     "end_time": "2023-01-28T14:44:23.219285",
     "exception": false,
     "start_time": "2023-01-28T14:44:23.177062",
     "status": "completed"
    },
    "tags": []
   },
   "outputs": [
    {
     "data": {
      "text/plain": [
       "date                                    0\n",
       "Usage_kWh                               0\n",
       "Lagging_Current_Reactive                0\n",
       "Leading_Current_Reactive_Power_kVarh    0\n",
       "co2                                     0\n",
       "Lagging_Current_Power_Factor            0\n",
       "Leading_Current_Power_Factor            0\n",
       "NSM                                     0\n",
       "WeekStatus                              0\n",
       "Day_of_week                             0\n",
       "Load_Type                               0\n",
       "dtype: int64"
      ]
     },
     "execution_count": 23,
     "metadata": {},
     "output_type": "execute_result"
    }
   ],
   "source": [
    "# Checking if any rows are missing any data.\n",
    "df.isnull().sum()"
   ]
  },
  {
   "cell_type": "code",
   "execution_count": 24,
   "id": "01c20e06",
   "metadata": {
    "execution": {
     "iopub.execute_input": "2023-01-28T14:44:23.262897Z",
     "iopub.status.busy": "2023-01-28T14:44:23.261846Z",
     "iopub.status.idle": "2023-01-28T14:44:23.299976Z",
     "shell.execute_reply": "2023-01-28T14:44:23.298762Z"
    },
    "papermill": {
     "duration": 0.062612,
     "end_time": "2023-01-28T14:44:23.302473",
     "exception": false,
     "start_time": "2023-01-28T14:44:23.239861",
     "status": "completed"
    },
    "tags": []
   },
   "outputs": [
    {
     "data": {
      "text/plain": [
       "0"
      ]
     },
     "execution_count": 24,
     "metadata": {},
     "output_type": "execute_result"
    }
   ],
   "source": [
    "df.duplicated().sum()"
   ]
  },
  {
   "cell_type": "code",
   "execution_count": 25,
   "id": "1643620b",
   "metadata": {
    "execution": {
     "iopub.execute_input": "2023-01-28T14:44:23.346133Z",
     "iopub.status.busy": "2023-01-28T14:44:23.345159Z",
     "iopub.status.idle": "2023-01-28T14:44:23.375920Z",
     "shell.execute_reply": "2023-01-28T14:44:23.374638Z"
    },
    "papermill": {
     "duration": 0.056143,
     "end_time": "2023-01-28T14:44:23.379068",
     "exception": false,
     "start_time": "2023-01-28T14:44:23.322925",
     "status": "completed"
    },
    "tags": []
   },
   "outputs": [
    {
     "data": {
      "text/plain": [
       "date                                    35040\n",
       "Usage_kWh                                3343\n",
       "Lagging_Current_Reactive                 1954\n",
       "Leading_Current_Reactive_Power_kVarh      768\n",
       "co2                                         8\n",
       "Lagging_Current_Power_Factor             5079\n",
       "Leading_Current_Power_Factor             3366\n",
       "NSM                                        96\n",
       "WeekStatus                                  2\n",
       "Day_of_week                                 7\n",
       "Load_Type                                   3\n",
       "dtype: int64"
      ]
     },
     "execution_count": 25,
     "metadata": {},
     "output_type": "execute_result"
    }
   ],
   "source": [
    "# Determine count of unique values for each column in the dataframe\n",
    "df.nunique()"
   ]
  },
  {
   "cell_type": "code",
   "execution_count": 26,
   "id": "f440549e",
   "metadata": {
    "execution": {
     "iopub.execute_input": "2023-01-28T14:44:23.423804Z",
     "iopub.status.busy": "2023-01-28T14:44:23.422608Z",
     "iopub.status.idle": "2023-01-28T14:44:23.546231Z",
     "shell.execute_reply": "2023-01-28T14:44:23.545334Z"
    },
    "papermill": {
     "duration": 0.149858,
     "end_time": "2023-01-28T14:44:23.549734",
     "exception": false,
     "start_time": "2023-01-28T14:44:23.399876",
     "status": "completed"
    },
    "tags": []
   },
   "outputs": [
    {
     "name": "stdout",
     "output_type": "stream",
     "text": [
      "Jumlah Baris Sebelum Outlier Dihapus: 35040\n",
      "Jumlah Baris Sebelum Outlier Dihapus: 23371\n"
     ]
    },
    {
     "name": "stderr",
     "output_type": "stream",
     "text": [
      "/opt/conda/lib/python3.7/site-packages/ipykernel_launcher.py:15: UserWarning: Boolean Series key will be reindexed to match DataFrame index.\n",
      "  from ipykernel import kernelapp as app\n"
     ]
    }
   ],
   "source": [
    "print(f'Jumlah Baris Sebelum Outlier Dihapus: {len(df)}')\n",
    "filtered_entries = np.array([True] * len(df))\n",
    "for col in['Lagging_Current_Reactive',\n",
    "       'Leading_Current_Reactive_Power_kVarh', 'co2',\n",
    "       'Lagging_Current_Power_Factor', 'Leading_Current_Power_Factor']:\n",
    "    \n",
    "    q1=df[col].quantile(0.25)\n",
    "    q3=df[col].quantile(0.75)\n",
    "    iqr=q3-q1\n",
    "\n",
    "    min_IQR = q1 - (1.5 * iqr)\n",
    "    max_IQR = q3 + (1.5 * iqr)\n",
    "\n",
    "    filtered_entries=((df[col]>=min_IQR) & (df[col]<=max_IQR)) & filtered_entries\n",
    "    df=df[filtered_entries]\n",
    "\n",
    "print(f'Jumlah Baris Sebelum Outlier Dihapus: {len(df)}')"
   ]
  },
  {
   "cell_type": "code",
   "execution_count": 27,
   "id": "abd0a7e7",
   "metadata": {
    "execution": {
     "iopub.execute_input": "2023-01-28T14:44:23.596653Z",
     "iopub.status.busy": "2023-01-28T14:44:23.595678Z",
     "iopub.status.idle": "2023-01-28T14:44:23.600533Z",
     "shell.execute_reply": "2023-01-28T14:44:23.599707Z"
    },
    "papermill": {
     "duration": 0.030725,
     "end_time": "2023-01-28T14:44:23.602875",
     "exception": false,
     "start_time": "2023-01-28T14:44:23.572150",
     "status": "completed"
    },
    "tags": []
   },
   "outputs": [],
   "source": [
    "categorical1 = ['WeekStatus', 'Day_of_week', 'Load_Type']"
   ]
  },
  {
   "cell_type": "code",
   "execution_count": 28,
   "id": "7b7581e6",
   "metadata": {
    "execution": {
     "iopub.execute_input": "2023-01-28T14:44:23.647095Z",
     "iopub.status.busy": "2023-01-28T14:44:23.646427Z",
     "iopub.status.idle": "2023-01-28T14:44:23.673054Z",
     "shell.execute_reply": "2023-01-28T14:44:23.671618Z"
    },
    "papermill": {
     "duration": 0.052194,
     "end_time": "2023-01-28T14:44:23.675995",
     "exception": false,
     "start_time": "2023-01-28T14:44:23.623801",
     "status": "completed"
    },
    "tags": []
   },
   "outputs": [],
   "source": [
    "for cat in categorical1:\n",
    "    onehots = pd.get_dummies(df[cat], prefix=cat)\n",
    "    df = df.join(onehots)"
   ]
  },
  {
   "cell_type": "code",
   "execution_count": 29,
   "id": "2f892ab1",
   "metadata": {
    "execution": {
     "iopub.execute_input": "2023-01-28T14:44:23.720926Z",
     "iopub.status.busy": "2023-01-28T14:44:23.720494Z",
     "iopub.status.idle": "2023-01-28T14:44:23.731613Z",
     "shell.execute_reply": "2023-01-28T14:44:23.729960Z"
    },
    "papermill": {
     "duration": 0.037177,
     "end_time": "2023-01-28T14:44:23.734574",
     "exception": false,
     "start_time": "2023-01-28T14:44:23.697397",
     "status": "completed"
    },
    "tags": []
   },
   "outputs": [],
   "source": [
    "df = df.set_index('date', append=False)"
   ]
  },
  {
   "cell_type": "code",
   "execution_count": 30,
   "id": "2b09dcb7",
   "metadata": {
    "execution": {
     "iopub.execute_input": "2023-01-28T14:44:23.785571Z",
     "iopub.status.busy": "2023-01-28T14:44:23.784857Z",
     "iopub.status.idle": "2023-01-28T14:44:23.812574Z",
     "shell.execute_reply": "2023-01-28T14:44:23.811531Z"
    },
    "papermill": {
     "duration": 0.056096,
     "end_time": "2023-01-28T14:44:23.815140",
     "exception": false,
     "start_time": "2023-01-28T14:44:23.759044",
     "status": "completed"
    },
    "tags": []
   },
   "outputs": [
    {
     "data": {
      "text/html": [
       "<div>\n",
       "<style scoped>\n",
       "    .dataframe tbody tr th:only-of-type {\n",
       "        vertical-align: middle;\n",
       "    }\n",
       "\n",
       "    .dataframe tbody tr th {\n",
       "        vertical-align: top;\n",
       "    }\n",
       "\n",
       "    .dataframe thead th {\n",
       "        text-align: right;\n",
       "    }\n",
       "</style>\n",
       "<table border=\"1\" class=\"dataframe\">\n",
       "  <thead>\n",
       "    <tr style=\"text-align: right;\">\n",
       "      <th></th>\n",
       "      <th>Usage_kWh</th>\n",
       "      <th>Lagging_Current_Reactive</th>\n",
       "      <th>Leading_Current_Reactive_Power_kVarh</th>\n",
       "      <th>co2</th>\n",
       "      <th>Lagging_Current_Power_Factor</th>\n",
       "      <th>Leading_Current_Power_Factor</th>\n",
       "      <th>NSM</th>\n",
       "      <th>WeekStatus_Weekday</th>\n",
       "      <th>WeekStatus_Weekend</th>\n",
       "      <th>Day_of_week_Friday</th>\n",
       "      <th>Day_of_week_Monday</th>\n",
       "      <th>Day_of_week_Saturday</th>\n",
       "      <th>Day_of_week_Sunday</th>\n",
       "      <th>Day_of_week_Thursday</th>\n",
       "      <th>Day_of_week_Tuesday</th>\n",
       "      <th>Day_of_week_Wednesday</th>\n",
       "      <th>Load_Type_Light_Load</th>\n",
       "      <th>Load_Type_Maximum_Load</th>\n",
       "      <th>Load_Type_Medium_Load</th>\n",
       "    </tr>\n",
       "    <tr>\n",
       "      <th>date</th>\n",
       "      <th></th>\n",
       "      <th></th>\n",
       "      <th></th>\n",
       "      <th></th>\n",
       "      <th></th>\n",
       "      <th></th>\n",
       "      <th></th>\n",
       "      <th></th>\n",
       "      <th></th>\n",
       "      <th></th>\n",
       "      <th></th>\n",
       "      <th></th>\n",
       "      <th></th>\n",
       "      <th></th>\n",
       "      <th></th>\n",
       "      <th></th>\n",
       "      <th></th>\n",
       "      <th></th>\n",
       "      <th></th>\n",
       "    </tr>\n",
       "  </thead>\n",
       "  <tbody>\n",
       "    <tr>\n",
       "      <th>25/10/2018 11:00</th>\n",
       "      <td>67.43</td>\n",
       "      <td>44.50</td>\n",
       "      <td>0.0</td>\n",
       "      <td>0.03</td>\n",
       "      <td>83.46</td>\n",
       "      <td>100.0</td>\n",
       "      <td>39600</td>\n",
       "      <td>1</td>\n",
       "      <td>0</td>\n",
       "      <td>0</td>\n",
       "      <td>0</td>\n",
       "      <td>0</td>\n",
       "      <td>0</td>\n",
       "      <td>1</td>\n",
       "      <td>0</td>\n",
       "      <td>0</td>\n",
       "      <td>0</td>\n",
       "      <td>1</td>\n",
       "      <td>0</td>\n",
       "    </tr>\n",
       "    <tr>\n",
       "      <th>04/05/2018 10:15</th>\n",
       "      <td>67.25</td>\n",
       "      <td>34.60</td>\n",
       "      <td>0.0</td>\n",
       "      <td>0.03</td>\n",
       "      <td>88.92</td>\n",
       "      <td>100.0</td>\n",
       "      <td>36900</td>\n",
       "      <td>1</td>\n",
       "      <td>0</td>\n",
       "      <td>1</td>\n",
       "      <td>0</td>\n",
       "      <td>0</td>\n",
       "      <td>0</td>\n",
       "      <td>0</td>\n",
       "      <td>0</td>\n",
       "      <td>0</td>\n",
       "      <td>0</td>\n",
       "      <td>1</td>\n",
       "      <td>0</td>\n",
       "    </tr>\n",
       "    <tr>\n",
       "      <th>26/03/2018 19:15</th>\n",
       "      <td>51.16</td>\n",
       "      <td>24.44</td>\n",
       "      <td>0.0</td>\n",
       "      <td>0.02</td>\n",
       "      <td>90.23</td>\n",
       "      <td>100.0</td>\n",
       "      <td>69300</td>\n",
       "      <td>1</td>\n",
       "      <td>0</td>\n",
       "      <td>0</td>\n",
       "      <td>1</td>\n",
       "      <td>0</td>\n",
       "      <td>0</td>\n",
       "      <td>0</td>\n",
       "      <td>0</td>\n",
       "      <td>0</td>\n",
       "      <td>0</td>\n",
       "      <td>0</td>\n",
       "      <td>1</td>\n",
       "    </tr>\n",
       "    <tr>\n",
       "      <th>30/05/2018 05:00</th>\n",
       "      <td>2.95</td>\n",
       "      <td>5.11</td>\n",
       "      <td>0.0</td>\n",
       "      <td>0.00</td>\n",
       "      <td>50.00</td>\n",
       "      <td>100.0</td>\n",
       "      <td>18000</td>\n",
       "      <td>1</td>\n",
       "      <td>0</td>\n",
       "      <td>0</td>\n",
       "      <td>0</td>\n",
       "      <td>0</td>\n",
       "      <td>0</td>\n",
       "      <td>0</td>\n",
       "      <td>0</td>\n",
       "      <td>1</td>\n",
       "      <td>1</td>\n",
       "      <td>0</td>\n",
       "      <td>0</td>\n",
       "    </tr>\n",
       "    <tr>\n",
       "      <th>29/01/2018 03:30</th>\n",
       "      <td>4.25</td>\n",
       "      <td>4.46</td>\n",
       "      <td>0.0</td>\n",
       "      <td>0.00</td>\n",
       "      <td>68.99</td>\n",
       "      <td>100.0</td>\n",
       "      <td>12600</td>\n",
       "      <td>1</td>\n",
       "      <td>0</td>\n",
       "      <td>0</td>\n",
       "      <td>1</td>\n",
       "      <td>0</td>\n",
       "      <td>0</td>\n",
       "      <td>0</td>\n",
       "      <td>0</td>\n",
       "      <td>0</td>\n",
       "      <td>1</td>\n",
       "      <td>0</td>\n",
       "      <td>0</td>\n",
       "    </tr>\n",
       "  </tbody>\n",
       "</table>\n",
       "</div>"
      ],
      "text/plain": [
       "                  Usage_kWh  Lagging_Current_Reactive  \\\n",
       "date                                                    \n",
       "25/10/2018 11:00      67.43                     44.50   \n",
       "04/05/2018 10:15      67.25                     34.60   \n",
       "26/03/2018 19:15      51.16                     24.44   \n",
       "30/05/2018 05:00       2.95                      5.11   \n",
       "29/01/2018 03:30       4.25                      4.46   \n",
       "\n",
       "                  Leading_Current_Reactive_Power_kVarh   co2  \\\n",
       "date                                                           \n",
       "25/10/2018 11:00                                   0.0  0.03   \n",
       "04/05/2018 10:15                                   0.0  0.03   \n",
       "26/03/2018 19:15                                   0.0  0.02   \n",
       "30/05/2018 05:00                                   0.0  0.00   \n",
       "29/01/2018 03:30                                   0.0  0.00   \n",
       "\n",
       "                  Lagging_Current_Power_Factor  Leading_Current_Power_Factor  \\\n",
       "date                                                                           \n",
       "25/10/2018 11:00                         83.46                         100.0   \n",
       "04/05/2018 10:15                         88.92                         100.0   \n",
       "26/03/2018 19:15                         90.23                         100.0   \n",
       "30/05/2018 05:00                         50.00                         100.0   \n",
       "29/01/2018 03:30                         68.99                         100.0   \n",
       "\n",
       "                    NSM  WeekStatus_Weekday  WeekStatus_Weekend  \\\n",
       "date                                                              \n",
       "25/10/2018 11:00  39600                   1                   0   \n",
       "04/05/2018 10:15  36900                   1                   0   \n",
       "26/03/2018 19:15  69300                   1                   0   \n",
       "30/05/2018 05:00  18000                   1                   0   \n",
       "29/01/2018 03:30  12600                   1                   0   \n",
       "\n",
       "                  Day_of_week_Friday  Day_of_week_Monday  \\\n",
       "date                                                       \n",
       "25/10/2018 11:00                   0                   0   \n",
       "04/05/2018 10:15                   1                   0   \n",
       "26/03/2018 19:15                   0                   1   \n",
       "30/05/2018 05:00                   0                   0   \n",
       "29/01/2018 03:30                   0                   1   \n",
       "\n",
       "                  Day_of_week_Saturday  Day_of_week_Sunday  \\\n",
       "date                                                         \n",
       "25/10/2018 11:00                     0                   0   \n",
       "04/05/2018 10:15                     0                   0   \n",
       "26/03/2018 19:15                     0                   0   \n",
       "30/05/2018 05:00                     0                   0   \n",
       "29/01/2018 03:30                     0                   0   \n",
       "\n",
       "                  Day_of_week_Thursday  Day_of_week_Tuesday  \\\n",
       "date                                                          \n",
       "25/10/2018 11:00                     1                    0   \n",
       "04/05/2018 10:15                     0                    0   \n",
       "26/03/2018 19:15                     0                    0   \n",
       "30/05/2018 05:00                     0                    0   \n",
       "29/01/2018 03:30                     0                    0   \n",
       "\n",
       "                  Day_of_week_Wednesday  Load_Type_Light_Load  \\\n",
       "date                                                            \n",
       "25/10/2018 11:00                      0                     0   \n",
       "04/05/2018 10:15                      0                     0   \n",
       "26/03/2018 19:15                      0                     0   \n",
       "30/05/2018 05:00                      1                     1   \n",
       "29/01/2018 03:30                      0                     1   \n",
       "\n",
       "                  Load_Type_Maximum_Load  Load_Type_Medium_Load  \n",
       "date                                                             \n",
       "25/10/2018 11:00                       1                      0  \n",
       "04/05/2018 10:15                       1                      0  \n",
       "26/03/2018 19:15                       0                      1  \n",
       "30/05/2018 05:00                       0                      0  \n",
       "29/01/2018 03:30                       0                      0  "
      ]
     },
     "execution_count": 30,
     "metadata": {},
     "output_type": "execute_result"
    }
   ],
   "source": [
    "df_clean = df.drop(['WeekStatus', 'Day_of_week', 'Load_Type'],axis=1)\n",
    "df_clean.sample(5)"
   ]
  },
  {
   "cell_type": "code",
   "execution_count": 31,
   "id": "595bb487",
   "metadata": {
    "execution": {
     "iopub.execute_input": "2023-01-28T14:44:23.861039Z",
     "iopub.status.busy": "2023-01-28T14:44:23.859742Z",
     "iopub.status.idle": "2023-01-28T14:44:23.870306Z",
     "shell.execute_reply": "2023-01-28T14:44:23.868571Z"
    },
    "papermill": {
     "duration": 0.036121,
     "end_time": "2023-01-28T14:44:23.873009",
     "exception": false,
     "start_time": "2023-01-28T14:44:23.836888",
     "status": "completed"
    },
    "tags": []
   },
   "outputs": [],
   "source": [
    "X = df_clean.drop(columns='Usage_kWh') \n",
    "y = df_clean['Usage_kWh'] "
   ]
  },
  {
   "cell_type": "code",
   "execution_count": 32,
   "id": "b214c7c8",
   "metadata": {
    "execution": {
     "iopub.execute_input": "2023-01-28T14:44:23.922088Z",
     "iopub.status.busy": "2023-01-28T14:44:23.920746Z",
     "iopub.status.idle": "2023-01-28T14:44:24.165239Z",
     "shell.execute_reply": "2023-01-28T14:44:24.164353Z"
    },
    "papermill": {
     "duration": 0.270637,
     "end_time": "2023-01-28T14:44:24.167891",
     "exception": false,
     "start_time": "2023-01-28T14:44:23.897254",
     "status": "completed"
    },
    "tags": []
   },
   "outputs": [],
   "source": [
    "from sklearn.model_selection import train_test_split,cross_validate\n",
    "X_train, X_test, y_train, y_test = train_test_split(X, y, test_size=0.2, random_state=1)"
   ]
  },
  {
   "cell_type": "code",
   "execution_count": 33,
   "id": "4956c429",
   "metadata": {
    "execution": {
     "iopub.execute_input": "2023-01-28T14:44:24.213835Z",
     "iopub.status.busy": "2023-01-28T14:44:24.212779Z",
     "iopub.status.idle": "2023-01-28T14:44:24.218821Z",
     "shell.execute_reply": "2023-01-28T14:44:24.217976Z"
    },
    "papermill": {
     "duration": 0.031516,
     "end_time": "2023-01-28T14:44:24.221233",
     "exception": false,
     "start_time": "2023-01-28T14:44:24.189717",
     "status": "completed"
    },
    "tags": []
   },
   "outputs": [
    {
     "name": "stdout",
     "output_type": "stream",
     "text": [
      "X_train Shape: (18696, 18)\n",
      "y_train Shape: (18696,)\n",
      "X_test Shape: (4675, 18)\n",
      "y_test Shape: (4675,)\n"
     ]
    }
   ],
   "source": [
    "print(f'X_train Shape: {(X_train.shape)}')\n",
    "print(f'y_train Shape: {(y_train.shape)}')\n",
    "print(f'X_test Shape: {(X_test.shape)}')\n",
    "print(f'y_test Shape: {(y_test.shape)}')"
   ]
  },
  {
   "cell_type": "markdown",
   "id": "b5a2c478",
   "metadata": {
    "papermill": {
     "duration": 0.020829,
     "end_time": "2023-01-28T14:44:24.263884",
     "exception": false,
     "start_time": "2023-01-28T14:44:24.243055",
     "status": "completed"
    },
    "tags": []
   },
   "source": [
    "# **LINEAR REGRESSION**"
   ]
  },
  {
   "cell_type": "code",
   "execution_count": 34,
   "id": "32676147",
   "metadata": {
    "execution": {
     "iopub.execute_input": "2023-01-28T14:44:24.308080Z",
     "iopub.status.busy": "2023-01-28T14:44:24.307621Z",
     "iopub.status.idle": "2023-01-28T14:44:24.440860Z",
     "shell.execute_reply": "2023-01-28T14:44:24.439115Z"
    },
    "papermill": {
     "duration": 0.160545,
     "end_time": "2023-01-28T14:44:24.445487",
     "exception": false,
     "start_time": "2023-01-28T14:44:24.284942",
     "status": "completed"
    },
    "tags": []
   },
   "outputs": [
    {
     "name": "stdout",
     "output_type": "stream",
     "text": [
      "0.978956291618086\n"
     ]
    }
   ],
   "source": [
    "from sklearn.linear_model import LinearRegression\n",
    "regr = LinearRegression()\n",
    "regr.fit(X_train, y_train)\n",
    "print(regr.score(X_test, y_test))"
   ]
  },
  {
   "cell_type": "code",
   "execution_count": 35,
   "id": "80b3866e",
   "metadata": {
    "execution": {
     "iopub.execute_input": "2023-01-28T14:44:24.579702Z",
     "iopub.status.busy": "2023-01-28T14:44:24.579301Z",
     "iopub.status.idle": "2023-01-28T14:44:24.590530Z",
     "shell.execute_reply": "2023-01-28T14:44:24.589181Z"
    },
    "papermill": {
     "duration": 0.037985,
     "end_time": "2023-01-28T14:44:24.594219",
     "exception": false,
     "start_time": "2023-01-28T14:44:24.556234",
     "status": "completed"
    },
    "tags": []
   },
   "outputs": [
    {
     "name": "stdout",
     "output_type": "stream",
     "text": [
      "coefficient of determination: 0.9821551983401737\n"
     ]
    }
   ],
   "source": [
    "r_sq = regr.score(X, y)\n",
    "print(f\"coefficient of determination: {r_sq}\")"
   ]
  },
  {
   "cell_type": "code",
   "execution_count": 36,
   "id": "cc2d7c62",
   "metadata": {
    "execution": {
     "iopub.execute_input": "2023-01-28T14:44:24.701104Z",
     "iopub.status.busy": "2023-01-28T14:44:24.700407Z",
     "iopub.status.idle": "2023-01-28T14:44:24.717929Z",
     "shell.execute_reply": "2023-01-28T14:44:24.716210Z"
    },
    "papermill": {
     "duration": 0.080163,
     "end_time": "2023-01-28T14:44:24.723042",
     "exception": false,
     "start_time": "2023-01-28T14:44:24.642879",
     "status": "completed"
    },
    "tags": []
   },
   "outputs": [
    {
     "name": "stdout",
     "output_type": "stream",
     "text": [
      "predicted:\n",
      "[ 2.5595338   2.48230148 66.41549787 ...  4.7732468  48.02802551\n",
      "  2.291982  ]\n"
     ]
    }
   ],
   "source": [
    "y_pred=regr.predict(X_test)\n",
    "print(f\"predicted:\\n{y_pred}\")"
   ]
  },
  {
   "cell_type": "code",
   "execution_count": 37,
   "id": "48815d9f",
   "metadata": {
    "execution": {
     "iopub.execute_input": "2023-01-28T14:44:24.834061Z",
     "iopub.status.busy": "2023-01-28T14:44:24.833642Z",
     "iopub.status.idle": "2023-01-28T14:44:24.839392Z",
     "shell.execute_reply": "2023-01-28T14:44:24.838534Z"
    },
    "papermill": {
     "duration": 0.063246,
     "end_time": "2023-01-28T14:44:24.841654",
     "exception": false,
     "start_time": "2023-01-28T14:44:24.778408",
     "status": "completed"
    },
    "tags": []
   },
   "outputs": [
    {
     "name": "stdout",
     "output_type": "stream",
     "text": [
      "Coef: [ 2.04657555e-01  2.32622774e+00  1.77557417e+03  8.89489906e-02\n",
      " -1.33582034e-12 -3.72852101e-06  2.55983874e-02 -2.55983874e-02\n",
      " -2.48398245e-03 -8.16875040e-02 -4.25671970e-02  1.69688097e-02\n",
      " -1.10704066e-01  3.01571371e-01 -8.10974306e-02 -9.09891908e-01\n",
      "  2.24767505e-01  6.85124403e-01]\n",
      "intercept: -2.0168921769242907\n"
     ]
    }
   ],
   "source": [
    "print(f\"Coef: {regr.coef_}\")\n",
    "print(f\"intercept: {regr.intercept_}\")"
   ]
  },
  {
   "cell_type": "code",
   "execution_count": 38,
   "id": "0bf67e88",
   "metadata": {
    "execution": {
     "iopub.execute_input": "2023-01-28T14:44:24.887539Z",
     "iopub.status.busy": "2023-01-28T14:44:24.886825Z",
     "iopub.status.idle": "2023-01-28T14:44:24.918862Z",
     "shell.execute_reply": "2023-01-28T14:44:24.916896Z"
    },
    "papermill": {
     "duration": 0.060571,
     "end_time": "2023-01-28T14:44:24.923792",
     "exception": false,
     "start_time": "2023-01-28T14:44:24.863221",
     "status": "completed"
    },
    "tags": []
   },
   "outputs": [
    {
     "name": "stdout",
     "output_type": "stream",
     "text": [
      "Data Train Performance Results:\n",
      "MAE training set 2.61\n",
      "MSE training set 19.57\n",
      "RMSE training set 4.42\n",
      "MAPE training set 0.13\n",
      "\n",
      "\n",
      "Data Test Performance Results:\n",
      "MAE test set 2.66\n",
      "MSE test set 24.41\n",
      "RMSE test set 4.94\n",
      "MAPE test set 0.12\n"
     ]
    }
   ],
   "source": [
    "from sklearn.metrics import mean_absolute_error,mean_squared_error,r2_score,mean_absolute_percentage_error\n",
    "\n",
    "# Training data\n",
    "pred_train = regr.predict(X_train)\n",
    "mae_train = mean_absolute_error(y_train, pred_train)\n",
    "mse_train = mean_squared_error(y_train, pred_train)\n",
    "rmse_train = np.sqrt(mse_train)\n",
    "mape_train = mean_absolute_percentage_error(y_train, pred_train)\n",
    "\n",
    "print(\"Data Train Performance Results:\")\n",
    "print('MAE training set', round(mae_train, 2))\n",
    "print('MSE training set', round(mse_train, 2))\n",
    "print('RMSE training set', round(rmse_train, 2))\n",
    "print('MAPE training set', round(mape_train, 2))\n",
    "print('\\n')\n",
    "\n",
    "# Test data\n",
    "lr_pred = regr.predict(X_test)\n",
    "mae_test = mean_absolute_error(y_test, lr_pred)\n",
    "mse_test =mean_squared_error(y_test, lr_pred)\n",
    "rmse_test = np.sqrt(mse_test)\n",
    "mape_test = mean_absolute_percentage_error(y_test, lr_pred)\n",
    "\n",
    "print(\"Data Test Performance Results:\")\n",
    "print('MAE test set', round(mae_test, 2))\n",
    "print('MSE test set', round(mse_test, 2))\n",
    "print('RMSE test set', round(rmse_test, 2))\n",
    "print('MAPE test set', round(mape_test, 2))"
   ]
  },
  {
   "cell_type": "markdown",
   "id": "38b88bf3",
   "metadata": {
    "papermill": {
     "duration": 0.05471,
     "end_time": "2023-01-28T14:44:25.034936",
     "exception": false,
     "start_time": "2023-01-28T14:44:24.980226",
     "status": "completed"
    },
    "tags": []
   },
   "source": [
    "# **LASSO**"
   ]
  },
  {
   "cell_type": "code",
   "execution_count": 39,
   "id": "ab51133e",
   "metadata": {
    "execution": {
     "iopub.execute_input": "2023-01-28T14:44:25.082074Z",
     "iopub.status.busy": "2023-01-28T14:44:25.081707Z",
     "iopub.status.idle": "2023-01-28T14:44:25.113306Z",
     "shell.execute_reply": "2023-01-28T14:44:25.111819Z"
    },
    "papermill": {
     "duration": 0.059961,
     "end_time": "2023-01-28T14:44:25.117758",
     "exception": false,
     "start_time": "2023-01-28T14:44:25.057797",
     "status": "completed"
    },
    "tags": []
   },
   "outputs": [
    {
     "name": "stdout",
     "output_type": "stream",
     "text": [
      "0.9020938968174589\n"
     ]
    }
   ],
   "source": [
    "from sklearn.linear_model import Lasso\n",
    "\n",
    "lasso = Lasso(alpha=1)\n",
    "lasso.fit(X_train, y_train)\n",
    "print(lasso.score(X_test, y_test))"
   ]
  },
  {
   "cell_type": "code",
   "execution_count": 40,
   "id": "f44fd06c",
   "metadata": {
    "execution": {
     "iopub.execute_input": "2023-01-28T14:44:25.248115Z",
     "iopub.status.busy": "2023-01-28T14:44:25.247720Z",
     "iopub.status.idle": "2023-01-28T14:44:25.258762Z",
     "shell.execute_reply": "2023-01-28T14:44:25.257039Z"
    },
    "papermill": {
     "duration": 0.043185,
     "end_time": "2023-01-28T14:44:25.264640",
     "exception": false,
     "start_time": "2023-01-28T14:44:25.221455",
     "status": "completed"
    },
    "tags": []
   },
   "outputs": [
    {
     "name": "stdout",
     "output_type": "stream",
     "text": [
      "predicted:\n",
      "[-1.93526599 -0.81173264 68.82235746 ... 17.24695518 62.57678257\n",
      " -3.10036264]\n"
     ]
    }
   ],
   "source": [
    "lasso_pred=lasso.predict(X_test)\n",
    "print(f\"predicted:\\n{lasso_pred}\")"
   ]
  },
  {
   "cell_type": "code",
   "execution_count": 41,
   "id": "7907e0c8",
   "metadata": {
    "execution": {
     "iopub.execute_input": "2023-01-28T14:44:25.377210Z",
     "iopub.status.busy": "2023-01-28T14:44:25.376785Z",
     "iopub.status.idle": "2023-01-28T14:44:25.397631Z",
     "shell.execute_reply": "2023-01-28T14:44:25.396429Z"
    },
    "papermill": {
     "duration": 0.082053,
     "end_time": "2023-01-28T14:44:25.401709",
     "exception": false,
     "start_time": "2023-01-28T14:44:25.319656",
     "status": "completed"
    },
    "tags": []
   },
   "outputs": [
    {
     "name": "stdout",
     "output_type": "stream",
     "text": [
      "R squared training set 90.17\n",
      "R squared test set 90.21\n"
     ]
    }
   ],
   "source": [
    "print('R squared training set', round(lasso.score(X_train, y_train)*100, 2))\n",
    "print('R squared test set', round(lasso.score(X_test, y_test)*100, 2))"
   ]
  },
  {
   "cell_type": "code",
   "execution_count": 42,
   "id": "d38a5f9f",
   "metadata": {
    "execution": {
     "iopub.execute_input": "2023-01-28T14:44:25.515010Z",
     "iopub.status.busy": "2023-01-28T14:44:25.514571Z",
     "iopub.status.idle": "2023-01-28T14:44:25.543744Z",
     "shell.execute_reply": "2023-01-28T14:44:25.542319Z"
    },
    "papermill": {
     "duration": 0.090959,
     "end_time": "2023-01-28T14:44:25.548640",
     "exception": false,
     "start_time": "2023-01-28T14:44:25.457681",
     "status": "completed"
    },
    "tags": []
   },
   "outputs": [
    {
     "name": "stdout",
     "output_type": "stream",
     "text": [
      "Data Train Performance Results:\n",
      "MAE training set 7.8\n",
      "MSE training set 112.92\n",
      "RMSE training set 10.63\n",
      "MAPE training set 0.9\n",
      "\n",
      "\n",
      "Data Test Performance Results:\n",
      "MAE test set 7.87\n",
      "MSE test set 113.57\n",
      "RMSE test set 10.66\n",
      "MAPE test set 0.89\n"
     ]
    }
   ],
   "source": [
    "# Training data\n",
    "pred_train = lasso.predict(X_train)\n",
    "mae_train = mean_absolute_error(y_train, pred_train)\n",
    "mse_train = mean_squared_error(y_train, pred_train)\n",
    "rmse_train = np.sqrt(mse_train)\n",
    "mape_train = mean_absolute_percentage_error(y_train, pred_train)\n",
    "\n",
    "print(\"Data Train Performance Results:\")\n",
    "print('MAE training set', round(mae_train, 2))\n",
    "print('MSE training set', round(mse_train, 2))\n",
    "print('RMSE training set', round(rmse_train, 2))\n",
    "print('MAPE training set', round(mape_train, 2))\n",
    "print('\\n')\n",
    "\n",
    "# Test data\n",
    "lasso_pred = lasso.predict(X_test)\n",
    "mae_test = mean_absolute_error(y_test, lasso_pred)\n",
    "mse_test =mean_squared_error(y_test, lasso_pred)\n",
    "rmse_test = np.sqrt(mse_test)\n",
    "mape_test = mean_absolute_percentage_error(y_test, lasso_pred)\n",
    "\n",
    "print(\"Data Test Performance Results:\")\n",
    "print('MAE test set', round(mae_test, 2))\n",
    "print('MSE test set', round(mse_test, 2))\n",
    "print('RMSE test set', round(rmse_test, 2))\n",
    "print('MAPE test set', round(mape_test, 2))"
   ]
  },
  {
   "cell_type": "markdown",
   "id": "478587ba",
   "metadata": {
    "papermill": {
     "duration": 0.054357,
     "end_time": "2023-01-28T14:44:25.659489",
     "exception": false,
     "start_time": "2023-01-28T14:44:25.605132",
     "status": "completed"
    },
    "tags": []
   },
   "source": [
    "# **RIDGE**"
   ]
  },
  {
   "cell_type": "code",
   "execution_count": 43,
   "id": "874f796e",
   "metadata": {
    "execution": {
     "iopub.execute_input": "2023-01-28T14:44:25.707101Z",
     "iopub.status.busy": "2023-01-28T14:44:25.706725Z",
     "iopub.status.idle": "2023-01-28T14:44:25.738318Z",
     "shell.execute_reply": "2023-01-28T14:44:25.737142Z"
    },
    "papermill": {
     "duration": 0.060624,
     "end_time": "2023-01-28T14:44:25.742566",
     "exception": false,
     "start_time": "2023-01-28T14:44:25.681942",
     "status": "completed"
    },
    "tags": []
   },
   "outputs": [
    {
     "data": {
      "text/plain": [
       "0.9514734479801025"
      ]
     },
     "execution_count": 43,
     "metadata": {},
     "output_type": "execute_result"
    }
   ],
   "source": [
    "from sklearn.linear_model import Ridge\n",
    "\n",
    "ridge = Ridge(alpha = 1)\n",
    "ridge.fit(X_train, y_train)\n",
    "ridge.score(X_test, y_test)"
   ]
  },
  {
   "cell_type": "code",
   "execution_count": 44,
   "id": "5ef8436c",
   "metadata": {
    "execution": {
     "iopub.execute_input": "2023-01-28T14:44:25.853055Z",
     "iopub.status.busy": "2023-01-28T14:44:25.852630Z",
     "iopub.status.idle": "2023-01-28T14:44:25.877443Z",
     "shell.execute_reply": "2023-01-28T14:44:25.876241Z"
    },
    "papermill": {
     "duration": 0.085718,
     "end_time": "2023-01-28T14:44:25.883758",
     "exception": false,
     "start_time": "2023-01-28T14:44:25.798040",
     "status": "completed"
    },
    "tags": []
   },
   "outputs": [
    {
     "name": "stdout",
     "output_type": "stream",
     "text": [
      "Data Train Performance Results:\n",
      "MAE training set 5.33\n",
      "MSE training set 56.82\n",
      "RMSE training set 7.54\n",
      "MAPE training set 0.53\n",
      "\n",
      "\n",
      "Data Test Performance Results:\n",
      "MAE test set 5.31\n",
      "MSE test set 56.29\n",
      "RMSE test set 7.5\n",
      "MAPE test set 0.52\n"
     ]
    }
   ],
   "source": [
    "# Training data\n",
    "pred_train = ridge.predict(X_train)\n",
    "mae_train = mean_absolute_error(y_train, pred_train)\n",
    "mse_train = mean_squared_error(y_train, pred_train)\n",
    "rmse_train = np.sqrt(mse_train)\n",
    "mape_train = mean_absolute_percentage_error(y_train, pred_train)\n",
    "\n",
    "print(\"Data Train Performance Results:\")\n",
    "print('MAE training set', round(mae_train, 2))\n",
    "print('MSE training set', round(mse_train, 2))\n",
    "print('RMSE training set', round(rmse_train, 2))\n",
    "print('MAPE training set', round(mape_train, 2))\n",
    "print('\\n')\n",
    "\n",
    "# Test data\n",
    "ridge_pred = ridge.predict(X_test)\n",
    "mae_test = mean_absolute_error(y_test, ridge_pred)\n",
    "mse_test =mean_squared_error(y_test, ridge_pred)\n",
    "rmse_test = np.sqrt(mse_test)\n",
    "mape_test = mean_absolute_percentage_error(y_test, ridge_pred)\n",
    "\n",
    "print(\"Data Test Performance Results:\")\n",
    "print('MAE test set', round(mae_test, 2))\n",
    "print('MSE test set', round(mse_test, 2))\n",
    "print('RMSE test set', round(rmse_test, 2))\n",
    "print('MAPE test set', round(mape_test, 2))"
   ]
  },
  {
   "cell_type": "markdown",
   "id": "dff84730",
   "metadata": {
    "papermill": {
     "duration": 0.05407,
     "end_time": "2023-01-28T14:44:25.992946",
     "exception": false,
     "start_time": "2023-01-28T14:44:25.938876",
     "status": "completed"
    },
    "tags": []
   },
   "source": [
    "# **RF REGRESSOR**"
   ]
  },
  {
   "cell_type": "code",
   "execution_count": 45,
   "id": "7b7530ce",
   "metadata": {
    "execution": {
     "iopub.execute_input": "2023-01-28T14:44:26.039771Z",
     "iopub.status.busy": "2023-01-28T14:44:26.039375Z",
     "iopub.status.idle": "2023-01-28T14:44:51.705280Z",
     "shell.execute_reply": "2023-01-28T14:44:51.704039Z"
    },
    "papermill": {
     "duration": 25.691933,
     "end_time": "2023-01-28T14:44:51.707624",
     "exception": false,
     "start_time": "2023-01-28T14:44:26.015691",
     "status": "completed"
    },
    "tags": []
   },
   "outputs": [
    {
     "name": "stderr",
     "output_type": "stream",
     "text": [
      "/opt/conda/lib/python3.7/site-packages/sklearn/ensemble/_forest.py:400: FutureWarning: Criterion 'mse' was deprecated in v1.0 and will be removed in version 1.2. Use `criterion='squared_error'` which is equivalent.\n",
      "  FutureWarning,\n"
     ]
    },
    {
     "data": {
      "text/plain": [
       "RandomForestRegressor(criterion='mse', n_estimators=1000, n_jobs=-1,\n",
       "                      random_state=1)"
      ]
     },
     "execution_count": 45,
     "metadata": {},
     "output_type": "execute_result"
    }
   ],
   "source": [
    "from sklearn.ensemble import RandomForestRegressor\n",
    "forest = RandomForestRegressor(n_estimators = 1000,\n",
    "                              criterion = 'mse',\n",
    "                              random_state = 1,\n",
    "                              n_jobs = -1)\n",
    "forest.fit(X_train,y_train)"
   ]
  },
  {
   "cell_type": "code",
   "execution_count": 46,
   "id": "c158e4b8",
   "metadata": {
    "execution": {
     "iopub.execute_input": "2023-01-28T14:44:51.754719Z",
     "iopub.status.busy": "2023-01-28T14:44:51.754089Z",
     "iopub.status.idle": "2023-01-28T14:44:54.091878Z",
     "shell.execute_reply": "2023-01-28T14:44:54.090458Z"
    },
    "papermill": {
     "duration": 2.364251,
     "end_time": "2023-01-28T14:44:54.094704",
     "exception": false,
     "start_time": "2023-01-28T14:44:51.730453",
     "status": "completed"
    },
    "tags": []
   },
   "outputs": [
    {
     "name": "stdout",
     "output_type": "stream",
     "text": [
      "Data Train Performance Results:\n",
      "MAE training set 0.1\n",
      "MSE training set 0.1\n",
      "RMSE training set 0.31\n",
      "MAPE training set 0.0\n",
      "\n",
      "\n",
      "Data Test Performance Results:\n",
      "MAE test set 0.27\n",
      "MSE test set 0.75\n",
      "RMSE test set 0.87\n",
      "MAPE test set 0.01\n"
     ]
    }
   ],
   "source": [
    "# Training data\n",
    "forest_train_pred = forest.predict(X_train)\n",
    "mae_train = mean_absolute_error(y_train, forest_train_pred)\n",
    "mse_train = mean_squared_error(y_train, forest_train_pred)\n",
    "rmse_train = np.sqrt(mse_train)\n",
    "mape_train = mean_absolute_percentage_error(y_train, forest_train_pred)\n",
    "\n",
    "print(\"Data Train Performance Results:\")\n",
    "print('MAE training set', round(mae_train, 2))\n",
    "print('MSE training set', round(mse_train, 2))\n",
    "print('RMSE training set', round(rmse_train, 2))\n",
    "print('MAPE training set', round(mape_train, 2))\n",
    "print('\\n')\n",
    "\n",
    "# Test data\n",
    "forest_test_pred = forest.predict(X_test)\n",
    "mae_test = mean_absolute_error(y_test, forest_test_pred)\n",
    "mse_test =mean_squared_error(y_test, forest_test_pred)\n",
    "rmse_test = np.sqrt(mse_test)\n",
    "mape_test = mean_absolute_percentage_error(y_test, forest_test_pred)\n",
    "\n",
    "print(\"Data Test Performance Results:\")\n",
    "print('MAE test set', round(mae_test, 2))\n",
    "print('MSE test set', round(mse_test, 2))\n",
    "print('RMSE test set', round(rmse_test, 2))\n",
    "print('MAPE test set', round(mape_test, 2))"
   ]
  },
  {
   "cell_type": "markdown",
   "id": "0182edb5",
   "metadata": {
    "papermill": {
     "duration": 0.023054,
     "end_time": "2023-01-28T14:44:54.140512",
     "exception": false,
     "start_time": "2023-01-28T14:44:54.117458",
     "status": "completed"
    },
    "tags": []
   },
   "source": [
    "# **Support Vector Regression**"
   ]
  },
  {
   "cell_type": "code",
   "execution_count": 47,
   "id": "de8eff6c",
   "metadata": {
    "execution": {
     "iopub.execute_input": "2023-01-28T14:44:54.188790Z",
     "iopub.status.busy": "2023-01-28T14:44:54.188378Z",
     "iopub.status.idle": "2023-01-28T14:45:22.529598Z",
     "shell.execute_reply": "2023-01-28T14:45:22.528455Z"
    },
    "papermill": {
     "duration": 28.369194,
     "end_time": "2023-01-28T14:45:22.532417",
     "exception": false,
     "start_time": "2023-01-28T14:44:54.163223",
     "status": "completed"
    },
    "tags": []
   },
   "outputs": [
    {
     "data": {
      "text/plain": [
       "SVR()"
      ]
     },
     "execution_count": 47,
     "metadata": {},
     "output_type": "execute_result"
    }
   ],
   "source": [
    "from sklearn.svm import SVR\n",
    "regressor = SVR(kernel = 'rbf')\n",
    "regressor.fit(X_train,y_train)"
   ]
  },
  {
   "cell_type": "code",
   "execution_count": 48,
   "id": "c60826c6",
   "metadata": {
    "execution": {
     "iopub.execute_input": "2023-01-28T14:45:22.580682Z",
     "iopub.status.busy": "2023-01-28T14:45:22.579430Z",
     "iopub.status.idle": "2023-01-28T14:45:49.635471Z",
     "shell.execute_reply": "2023-01-28T14:45:49.634254Z"
    },
    "papermill": {
     "duration": 27.08353,
     "end_time": "2023-01-28T14:45:49.638887",
     "exception": false,
     "start_time": "2023-01-28T14:45:22.555357",
     "status": "completed"
    },
    "tags": []
   },
   "outputs": [
    {
     "name": "stdout",
     "output_type": "stream",
     "text": [
      "Data Train Performance Results:\n",
      "MAE training set 12.67\n",
      "MSE training set 415.28\n",
      "RMSE training set 20.38\n",
      "MAPE training set 0.87\n",
      "\n",
      "\n",
      "Data Test Performance Results:\n",
      "MAE test set 12.83\n",
      "MSE test set 426.12\n",
      "RMSE test set 20.64\n",
      "MAPE test set 0.86\n"
     ]
    }
   ],
   "source": [
    "# Training data\n",
    "svr_train = regressor.predict(X_train)\n",
    "mae_train = mean_absolute_error(y_train, svr_train)\n",
    "mse_train = mean_squared_error(y_train, svr_train)\n",
    "rmse_train = np.sqrt(mse_train)\n",
    "mape_train = mean_absolute_percentage_error(y_train, svr_train)\n",
    "\n",
    "print(\"Data Train Performance Results:\")\n",
    "print('MAE training set', round(mae_train, 2))\n",
    "print('MSE training set', round(mse_train, 2))\n",
    "print('RMSE training set', round(rmse_train, 2))\n",
    "print('MAPE training set', round(mape_train, 2))\n",
    "print('\\n')\n",
    "\n",
    "# Test data\n",
    "svr_test = regressor.predict(X_test)\n",
    "mae_test = mean_absolute_error(y_test, svr_test)\n",
    "mse_test =mean_squared_error(y_test, svr_test)\n",
    "rmse_test = np.sqrt(mse_test)\n",
    "mape_test = mean_absolute_percentage_error(y_test, svr_test)\n",
    "\n",
    "print(\"Data Test Performance Results:\")\n",
    "print('MAE test set', round(mae_test, 2))\n",
    "print('MSE test set', round(mse_test, 2))\n",
    "print('RMSE test set', round(rmse_test, 2))\n",
    "print('MAPE test set', round(mape_test, 2))"
   ]
  }
 ],
 "metadata": {
  "kernelspec": {
   "display_name": "Python 3",
   "language": "python",
   "name": "python3"
  },
  "language_info": {
   "codemirror_mode": {
    "name": "ipython",
    "version": 3
   },
   "file_extension": ".py",
   "mimetype": "text/x-python",
   "name": "python",
   "nbconvert_exporter": "python",
   "pygments_lexer": "ipython3",
   "version": "3.7.12"
  },
  "papermill": {
   "default_parameters": {},
   "duration": 105.902497,
   "end_time": "2023-01-28T14:45:50.685718",
   "environment_variables": {},
   "exception": null,
   "input_path": "__notebook__.ipynb",
   "output_path": "__notebook__.ipynb",
   "parameters": {},
   "start_time": "2023-01-28T14:44:04.783221",
   "version": "2.3.4"
  }
 },
 "nbformat": 4,
 "nbformat_minor": 5
}
